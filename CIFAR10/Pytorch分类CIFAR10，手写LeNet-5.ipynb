{
 "cells": [
  {
   "cell_type": "markdown",
   "metadata": {},
   "source": [
    "# PyTorch 关于CIFAR的分类\n",
    "\n",
    "## 导入必要包\n",
    "\n",
    "导入会使用的包，其中DataLoader是自由读取数据，可能不需要？"
   ]
  },
  {
   "cell_type": "code",
   "execution_count": 2,
   "metadata": {},
   "outputs": [],
   "source": [
    "import torch\n",
    "import torch.nn as nn\n",
    "import torch.nn.functional as F\n",
    "import torch.optim as optim\n",
    "from torchvision import datasets, transforms\n",
    "from torch.utils.data import DataLoader"
   ]
  },
  {
   "cell_type": "code",
   "execution_count": 3,
   "metadata": {},
   "outputs": [],
   "source": [
    "%matplotlib inline\n",
    "import matplotlib.pyplot as plt "
   ]
  },
  {
   "cell_type": "markdown",
   "metadata": {},
   "source": [
    "## CIFAR10数据集\n",
    "\n",
    "### CIFAR10简介\n",
    "\n",
    "CIFAR-10 是一个更接近普通物体的彩色图像数据集。CIFAR-10 是由Hinton 的学生Alex Krizhevsky 和Ilya Sutskever 整理的一个用于识别普通物体的小型数据集。图片的尺寸为32 × 32，数据集中一共有50000 张训练图片和10000 张测试图片，一共包含10个类别的RGB 彩色图片：\n",
    "- 0. 飞机（ airplane ）\n",
    "- 1. 汽车（ automobile ）\n",
    "- 2. 鸟类（ bird ）\n",
    "- 3. 猫（ cat ）\n",
    "- 4. 鹿（ deer ）\n",
    "- 5. 狗（ dog ）\n",
    "- 6. 蛙（ frog ）\n",
    "- 7. 马（ horse ）\n",
    "- 8. 船（ ship ）\n",
    "- 9. 卡车（ truck ）\n",
    "\n",
    "与MNIST 数据集相比，CIFAR-10具有以下不同点:\n",
    "\n",
    "- CIFAR-10 是3 通道的彩色RGB图像，而MNIST 是灰度图像。\n",
    "- CIFAR-10 的图片尺寸为32 × 32 ， 而MNIST 的图片尺寸为28 × 28 ，比MNIST 稍大。\n",
    "- 相比于手写字符， CIFAR-10 含有的是现实世界中真实的物体，不仅噪声很大，而且物体的比例、特征都不尽相同，这为识别带来很大困难。直接的线性模型如Softmax 在CIFAR-10 上表现得很差。\n",
    "\n",
    "### 数据集导入及分析\n",
    "\n",
    "导入数据集参考代码："
   ]
  },
  {
   "cell_type": "code",
   "execution_count": 4,
   "metadata": {},
   "outputs": [
    {
     "name": "stdout",
     "output_type": "stream",
     "text": [
      "50000\n",
      "10000\n"
     ]
    }
   ],
   "source": [
    "CIFAR10_trainset = datasets.CIFAR10(root='./cifar10_data', train=True, download=True, transform=None)\n",
    "CIFAR10_testset = datasets.CIFAR10(root='./cifar10_data', train=False, download=True, transform=None)\n",
    "print(len(CIFAR10_trainset))\n",
    "print(len(CIFAR10_testset))"
   ]
  },
  {
   "cell_type": "markdown",
   "metadata": {},
   "source": [
    "检查数据集图片格式，发现和MNIST一样是PIL格式，分辨率为32×32，色彩为RGB。"
   ]
  },
  {
   "cell_type": "code",
   "execution_count": 5,
   "metadata": {},
   "outputs": [
    {
     "data": {
      "text/plain": [
       "(<PIL.Image.Image image mode=RGB size=32x32 at 0x7FCA6590D278>, 6)"
      ]
     },
     "execution_count": 5,
     "metadata": {},
     "output_type": "execute_result"
    }
   ],
   "source": [
    "CIFAR10_trainset[0]"
   ]
  },
  {
   "cell_type": "markdown",
   "metadata": {},
   "source": [
    "通过 plt.imshow() 函数检查图片，可以看出训练集第1张图片（编号0）是青蛙，标签为数字6。这里把标签数字化了。"
   ]
  },
  {
   "cell_type": "code",
   "execution_count": 6,
   "metadata": {},
   "outputs": [
    {
     "name": "stdout",
     "output_type": "stream",
     "text": [
      "该图片的标签是：  6\n"
     ]
    },
    {
     "data": {
      "image/png": "[encoded data removed]",
      "text/plain": [
       "<Figure size 432x288 with 1 Axes>"
      ]
     },
     "metadata": {},
     "output_type": "display_data"
    }
   ],
   "source": [
    "test_image_zero, test_target_zero = CIFAR10_trainset[0]\n",
    "plt.imshow(test_image_zero, cmap=None)  # 彩色图像\n",
    "print(\"该图片的标签是： \",test_target_zero)"
   ]
  },
  {
   "cell_type": "markdown",
   "metadata": {},
   "source": [
    "### LeNet-5网络分析\n",
    "\n",
    "参考链接：https://cuijiahua.com/blog/2018/01/dl_3.html\n",
    "\n",
    "LeNet-5是一个早期的、经典的神经网络模型。根据上方连接中的文章我们将利用Pytorch框架手写一个LeNet-5。"
   ]
  },
  {
   "cell_type": "code",
   "execution_count": 29,
   "metadata": {},
   "outputs": [],
   "source": [
    "class Net(nn.Module):\n",
    "    def __init__(self):\n",
    "        super(Net, self).__init__()\n",
    "        self.conv1 = nn.Conv2d(in_channels=3, out_channels=6, kernel_size=5, stride=1)\n",
    "        self.conv2 = nn.Conv2d(in_channels=6, out_channels=16, kernel_size=5, stride=1)\n",
    "        self.fc1 = nn.Linear(in_features=5*5*16, out_features=120)\n",
    "        self.fc2 = nn.Linear(in_features=120, out_features=84)\n",
    "        self.fc3 = nn.Linear(in_features=84, out_features=10)\n",
    "\n",
    "    def forward(self, x):\n",
    "        x = F.max_pool2d(self.conv1(x), kernel_size=2, stride=2)\n",
    "        x = F.max_pool2d(self.conv2(x), kernel_size=2, stride=2)\n",
    "        x = x.view(-1, 5*5*16)\n",
    "        x = self.fc1(x)\n",
    "        x = self.fc2(x)\n",
    "        x = self.fc3(x)\n",
    "        return F.log_softmax(x, dim=1)"
   ]
  },
  {
   "cell_type": "code",
   "execution_count": 30,
   "metadata": {},
   "outputs": [
    {
     "name": "stdout",
     "output_type": "stream",
     "text": [
      "Files already downloaded and verified\n",
      "Files already downloaded and verified\n"
     ]
    }
   ],
   "source": [
    "data_tf = transforms.Compose([transforms.ColorJitter(brightness=0.1, contrast=0.1),  # 色调变化\n",
    "                              transforms.RandomAffine(degrees=5, scale=(0.9, 1.1)),  # 随机放射变换\n",
    "                              transforms.ToTensor(),  # 变化为tensor\n",
    "                              transforms.Normalize((0.5, 0.5, 0.5), (0.5, 0.5, 0.5))])  # 标准化处理\n",
    "\n",
    "mnist_trainset = datasets.CIFAR10(root='./cifar10_data', train=True, download=True, transform=data_tf)\n",
    "mnist_testset = datasets.CIFAR10(root='./cifar10_data', train=False, download=True, transform=data_tf)\n",
    "\n",
    "train_loader = DataLoader(mnist_trainset, batch_size=1000, shuffle=True)\n",
    "test_loader = DataLoader(mnist_testset, batch_size=1000, shuffle=True)  # 测试集无需打乱"
   ]
  },
  {
   "cell_type": "code",
   "execution_count": 35,
   "metadata": {},
   "outputs": [
    {
     "name": "stdout",
     "output_type": "stream",
     "text": [
      "CUDA is available.\n"
     ]
    }
   ],
   "source": [
    "net = Net()\n",
    "if torch.cuda.is_available():  # 如果GPU可以使用\n",
    "    net = net.cuda()\n",
    "    print(\"CUDA is available.\")\n",
    "optimizer = torch.optim.SGD(net.parameters(), lr=0.005)\n",
    "loss_func = torch.nn.CrossEntropyLoss()"
   ]
  },
  {
   "cell_type": "code",
   "execution_count": 36,
   "metadata": {},
   "outputs": [
    {
     "name": "stdout",
     "output_type": "stream",
     "text": [
      "Net(\n",
      "  (conv1): Conv2d(3, 6, kernel_size=(5, 5), stride=(1, 1))\n",
      "  (conv2): Conv2d(6, 16, kernel_size=(5, 5), stride=(1, 1))\n",
      "  (fc1): Linear(in_features=400, out_features=120, bias=True)\n",
      "  (fc2): Linear(in_features=120, out_features=84, bias=True)\n",
      "  (fc3): Linear(in_features=84, out_features=10, bias=True)\n",
      ")\n"
     ]
    }
   ],
   "source": [
    "print(net)"
   ]
  },
  {
   "cell_type": "code",
   "execution_count": 37,
   "metadata": {},
   "outputs": [
    {
     "name": "stdout",
     "output_type": "stream",
     "text": [
      "epoch: 0, batch_ndx: 0, loss: 2.304\n",
      "epoch: 0, batch_ndx: 10, loss: 2.304\n",
      "epoch: 0, batch_ndx: 20, loss: 2.305\n",
      "epoch: 0, batch_ndx: 30, loss: 2.302\n",
      "epoch: 0, batch_ndx: 40, loss: 2.299\n",
      "epoch: 1, batch_ndx: 0, loss: 2.298\n",
      "epoch: 1, batch_ndx: 10, loss: 2.299\n",
      "epoch: 1, batch_ndx: 20, loss: 2.298\n",
      "epoch: 1, batch_ndx: 30, loss: 2.302\n",
      "epoch: 1, batch_ndx: 40, loss: 2.294\n",
      "epoch: 2, batch_ndx: 0, loss: 2.297\n",
      "epoch: 2, batch_ndx: 10, loss: 2.297\n",
      "epoch: 2, batch_ndx: 20, loss: 2.294\n",
      "epoch: 2, batch_ndx: 30, loss: 2.295\n",
      "epoch: 2, batch_ndx: 40, loss: 2.295\n",
      "epoch: 3, batch_ndx: 0, loss: 2.293\n",
      "epoch: 3, batch_ndx: 10, loss: 2.293\n",
      "epoch: 3, batch_ndx: 20, loss: 2.291\n",
      "epoch: 3, batch_ndx: 30, loss: 2.294\n",
      "epoch: 3, batch_ndx: 40, loss: 2.286\n",
      "epoch: 4, batch_ndx: 0, loss: 2.291\n",
      "epoch: 4, batch_ndx: 10, loss: 2.286\n",
      "epoch: 4, batch_ndx: 20, loss: 2.284\n",
      "epoch: 4, batch_ndx: 30, loss: 2.29\n",
      "epoch: 4, batch_ndx: 40, loss: 2.279\n",
      "epoch: 5, batch_ndx: 0, loss: 2.28\n",
      "epoch: 5, batch_ndx: 10, loss: 2.28\n",
      "epoch: 5, batch_ndx: 20, loss: 2.277\n",
      "epoch: 5, batch_ndx: 30, loss: 2.277\n",
      "epoch: 5, batch_ndx: 40, loss: 2.269\n",
      "epoch: 6, batch_ndx: 0, loss: 2.261\n",
      "epoch: 6, batch_ndx: 10, loss: 2.265\n",
      "epoch: 6, batch_ndx: 20, loss: 2.259\n",
      "epoch: 6, batch_ndx: 30, loss: 2.261\n",
      "epoch: 6, batch_ndx: 40, loss: 2.256\n",
      "epoch: 7, batch_ndx: 0, loss: 2.25\n",
      "epoch: 7, batch_ndx: 10, loss: 2.24\n",
      "epoch: 7, batch_ndx: 20, loss: 2.235\n",
      "epoch: 7, batch_ndx: 30, loss: 2.229\n",
      "epoch: 7, batch_ndx: 40, loss: 2.225\n",
      "epoch: 8, batch_ndx: 0, loss: 2.217\n",
      "epoch: 8, batch_ndx: 10, loss: 2.212\n",
      "epoch: 8, batch_ndx: 20, loss: 2.194\n",
      "epoch: 8, batch_ndx: 30, loss: 2.211\n",
      "epoch: 8, batch_ndx: 40, loss: 2.19\n",
      "epoch: 9, batch_ndx: 0, loss: 2.179\n",
      "epoch: 9, batch_ndx: 10, loss: 2.172\n",
      "epoch: 9, batch_ndx: 20, loss: 2.161\n",
      "epoch: 9, batch_ndx: 30, loss: 2.154\n",
      "epoch: 9, batch_ndx: 40, loss: 2.15\n"
     ]
    }
   ],
   "source": [
    "net.train()  # 启用train模式\n",
    "for epoch in range(10):\n",
    "    for batch_ndx, (img, label) in enumerate(train_loader):  # 按照一个batch = 1000来抽取数据   \n",
    "        # 前向传播\n",
    "        if torch.cuda.is_available():\n",
    "            img = img.cuda()\n",
    "            label = label.cuda()\n",
    "            # print(\"使用CUDA训练\")\n",
    "        else:\n",
    "            pass\n",
    "        output = net(img)\n",
    "        loss = loss_func(output, label)\n",
    "        \n",
    "        # 反向传播\n",
    "        optimizer.zero_grad()  # 梯度归零\n",
    "        loss.backward()  # 损失函数反向传播\n",
    "        optimizer.step()\n",
    "        \n",
    "        if batch_ndx%10 == 0:\n",
    "            print('epoch: {}, batch_ndx: {}, loss: {:.4}'.format(epoch, batch_ndx, loss.data.item()))  "
   ]
  },
  {
   "cell_type": "code",
   "execution_count": 38,
   "metadata": {},
   "outputs": [
    {
     "name": "stdout",
     "output_type": "stream",
     "text": [
      "1000\n",
      "Test Loss: 2.145710, Acc: 0.222700\n"
     ]
    }
   ],
   "source": [
    "net.eval()\n",
    "eval_loss = 0\n",
    "eval_acc = 0\n",
    "\n",
    "# 对测试集进行测试\n",
    "for batch_ndx, data in enumerate(test_loader):\n",
    "    # 获得img(手写图片)，label标签（手写图片对应数字）\n",
    "    img, label = data\n",
    "    if torch.cuda.is_available():\n",
    "        img = img.cuda()\n",
    "        label = label.cuda()\n",
    "        # print(\"使用CUDA训练\")\n",
    "    else:\n",
    "        pass    \n",
    "    #  向前传播，获得out结果和损失函数\n",
    "    output = net(img)\n",
    "    loss = loss_func(output, label)  # 交叉熵\n",
    "    \n",
    "    # 损失函数乘标签大小累计\n",
    "    eval_loss += loss.data.item()*label.size(0)  # 每个计算一次损失？\n",
    "    # 在10维数据中，获得最大的预测值（即预测数）\n",
    "    _, pred = torch.max(output, 1)\n",
    "    # 判断是否与真实结果相同\n",
    "    num_correct = (pred == label).sum()\n",
    "    \n",
    "    # 累计真实结果\n",
    "    eval_acc += num_correct.item()\n",
    "\n",
    "print(label.size(0))\n",
    "# 输出评估结果    \n",
    "print('Test Loss: {:.6f}, Acc: {:.6f}'.format(\n",
    "    eval_loss / (len(mnist_testset)),\n",
    "    eval_acc / (len(mnist_testset))\n",
    "))"
   ]
  },
  {
   "cell_type": "code",
   "execution_count": null,
   "metadata": {},
   "outputs": [],
   "source": []
  }
 ],
 "metadata": {
  "kernelspec": {
   "display_name": "Python 3",
   "language": "python",
   "name": "python3"
  },
  "language_info": {
   "codemirror_mode": {
    "name": "ipython",
    "version": 3
   },
   "file_extension": ".py",
   "mimetype": "text/x-python",
   "name": "python",
   "nbconvert_exporter": "python",
   "pygments_lexer": "ipython3",
   "version": "3.6.5"
  }
 },
 "nbformat": 4,
 "nbformat_minor": 2
}
