{
 "cells": [
  {
   "cell_type": "code",
   "execution_count": 2,
   "metadata": {},
   "outputs": [],
   "source": [
    "import torch\n",
    "import torch.nn as nn"
   ]
  },
  {
   "cell_type": "markdown",
   "metadata": {},
   "source": [
    "## 搭建单个RNN单元"
   ]
  },
  {
   "cell_type": "code",
   "execution_count": 2,
   "metadata": {},
   "outputs": [],
   "source": [
    "rnn = nn.RNN(input_size=10, hidden_size=20, num_layers=2)  # input_size, hidden_size, num_layers \n",
    "inputs = torch.randn(size=(5, 3, 10))  # 正态分布"
   ]
  },
  {
   "cell_type": "code",
   "execution_count": 3,
   "metadata": {},
   "outputs": [
    {
     "data": {
      "text/plain": [
       "RNN(10, 20, num_layers=2)"
      ]
     },
     "execution_count": 3,
     "metadata": {},
     "output_type": "execute_result"
    }
   ],
   "source": [
    "rnn"
   ]
  },
  {
   "cell_type": "code",
   "execution_count": 4,
   "metadata": {},
   "outputs": [
    {
     "data": {
      "text/plain": [
       "tensor([[[-3.2435e-01,  2.4656e-03, -1.2136e+00,  3.2229e-01,  2.3391e-01,\n",
       "          -8.5015e-02,  3.3555e-01, -1.0584e+00,  1.4420e+00, -1.4124e+00],\n",
       "         [-8.1193e-01, -9.8211e-01,  2.9903e-01,  7.7410e-01, -1.6366e-03,\n",
       "          -8.7670e-02,  2.7035e-02, -9.5305e-01,  1.3547e+00,  1.1713e-01],\n",
       "         [ 5.6387e-01, -1.4074e+00,  1.5959e+00,  1.1203e+00,  1.5831e+00,\n",
       "           1.3014e+00,  2.7621e-01,  1.0732e+00,  6.9471e-01, -1.0723e+00]],\n",
       "\n",
       "        [[ 2.2818e-01,  9.3134e-01, -5.1635e-01,  4.2040e-02,  1.6993e+00,\n",
       "           3.7868e-01,  1.8541e+00, -1.1342e+00,  8.9554e-02, -1.4275e+00],\n",
       "         [ 1.5979e-01,  2.4191e+00, -3.0649e-01,  3.7792e-01, -2.0478e+00,\n",
       "          -1.2837e+00,  2.9463e-01, -1.6146e+00,  3.6794e-01, -9.3952e-01],\n",
       "         [-1.0416e-01, -2.0203e+00,  2.0238e+00,  9.8365e-01,  4.1544e-01,\n",
       "          -1.7277e-01, -9.5692e-01, -1.1407e+00, -4.2189e-01, -8.2205e-01]],\n",
       "\n",
       "        [[-7.4630e-01,  2.9744e-01,  4.1839e-01,  1.5844e+00, -1.5178e+00,\n",
       "          -4.3602e-01, -6.0741e-01, -3.0679e-01,  1.1856e+00,  1.1339e+00],\n",
       "         [-1.1291e+00, -2.1839e-01,  1.9356e-01, -6.5908e-01,  1.2325e+00,\n",
       "           1.3420e+00, -4.5027e-01, -6.6477e-01,  9.4274e-01,  4.9820e-02],\n",
       "         [ 3.3223e-01, -8.0252e-01, -2.4247e-01, -7.0809e-01,  5.2853e-01,\n",
       "          -9.6040e-01, -5.0697e-01, -2.2351e-01,  3.0917e-01,  1.9078e-02]],\n",
       "\n",
       "        [[ 3.8509e-01,  7.5871e-01,  5.2873e-01, -3.0478e-01,  2.8786e-01,\n",
       "           2.8159e-01, -8.0234e-01, -4.7791e-01,  7.3155e-02, -1.0124e+00],\n",
       "         [-1.3965e+00,  1.1057e-01, -1.5900e-01, -5.7404e-01, -1.0392e+00,\n",
       "           1.2351e-01, -6.2535e-01,  2.8310e-01, -1.1327e+00, -1.9638e-01],\n",
       "         [ 7.2352e-01,  6.3252e-02,  6.4693e-01, -2.5130e-01,  3.6947e-01,\n",
       "          -4.3282e-01,  1.4374e+00, -6.8230e-01,  1.0227e-01, -1.3930e-01]],\n",
       "\n",
       "        [[-4.6534e-02, -6.6999e-01,  1.7302e-01,  4.6689e-01, -7.9183e-01,\n",
       "           5.1748e-01,  1.4061e+00, -1.0982e+00, -2.5787e-01,  7.9240e-01],\n",
       "         [-6.8050e-01, -2.7903e-01, -5.2654e-01,  3.8033e-01, -1.4300e+00,\n",
       "          -8.4239e-01, -2.9923e-01, -9.0954e-01,  1.2560e+00, -1.7920e-01],\n",
       "         [ 5.0016e-01, -8.4548e-02, -1.0438e+00,  6.1200e-01, -4.7833e-01,\n",
       "          -4.7318e-01,  5.9494e-01,  1.1781e+00,  2.6614e+00,  1.6112e+00]]])"
      ]
     },
     "execution_count": 4,
     "metadata": {},
     "output_type": "execute_result"
    }
   ],
   "source": [
    "inputs"
   ]
  },
  {
   "cell_type": "code",
   "execution_count": 5,
   "metadata": {},
   "outputs": [],
   "source": [
    "h0 = torch.randn(2, 3, 20)  # num_layers * num_directions, batch, hidden_size"
   ]
  },
  {
   "cell_type": "code",
   "execution_count": 6,
   "metadata": {},
   "outputs": [
    {
     "data": {
      "text/plain": [
       "tensor([[[-6.7300e-01,  6.1654e-01,  1.0610e-01, -3.1575e-01, -5.5555e-01,\n",
       "           2.5927e-01,  9.9221e-01, -1.7514e+00,  1.5287e+00,  2.1910e-01,\n",
       "           1.3009e+00,  4.0971e-01,  7.5989e-01, -7.0331e-02, -9.8764e-01,\n",
       "          -2.3124e-01, -2.3785e-01, -1.0402e-01, -1.9958e+00,  1.3303e+00],\n",
       "         [-1.2212e+00,  9.8364e-01,  5.6951e-01, -8.9267e-01, -1.5610e-01,\n",
       "          -2.6921e+00,  3.5487e-01, -5.6014e-01, -1.9095e-01,  5.4416e-01,\n",
       "          -1.6134e+00,  2.0536e+00, -1.1428e+00, -5.7850e-01,  7.5401e-01,\n",
       "          -8.6117e-02,  4.9139e-01,  1.4922e+00, -4.8426e-02, -5.3240e-02],\n",
       "         [-1.6309e+00,  7.1899e-01,  5.2579e-01,  8.6822e-05,  2.5112e-01,\n",
       "           7.4081e-02, -1.3915e+00,  2.1498e+00, -2.3179e-01,  1.2086e-02,\n",
       "          -9.2872e-02, -1.4543e+00,  6.4411e-01, -5.3025e-01,  4.1517e-01,\n",
       "           6.1355e-01,  1.4097e+00, -4.4720e-01,  1.6556e+00, -4.7210e-01]],\n",
       "\n",
       "        [[-9.3173e-01,  8.7550e-01,  9.9409e-01, -1.7093e+00,  1.2611e-01,\n",
       "           6.8443e-01,  6.7793e-01, -2.8355e-01, -6.2562e-01, -2.8161e-01,\n",
       "          -2.7361e-01, -1.6892e-01, -9.4810e-01,  1.7401e-01,  4.0482e-01,\n",
       "          -1.5009e+00,  9.4770e-01, -5.9443e-01,  9.6177e-01, -3.3481e-01],\n",
       "         [ 9.1565e-01,  5.9599e-01,  8.7359e-01, -5.9454e-02, -8.7239e-01,\n",
       "          -4.0461e-01, -1.6852e+00, -9.9561e-01,  8.2779e-01, -3.5261e-01,\n",
       "          -2.2943e+00,  7.5526e-02,  2.3699e+00, -5.1320e-01, -2.4736e-01,\n",
       "          -1.2473e-01, -1.6438e-01,  6.8243e-01,  1.0797e-01,  2.9068e-01],\n",
       "         [ 1.4189e+00, -7.4744e-02,  1.3704e+00, -1.8205e-01,  1.8064e+00,\n",
       "           1.7072e+00,  1.1404e-01, -8.6782e-01, -6.1029e-02, -2.6566e+00,\n",
       "          -2.1001e+00,  6.1843e-01, -1.3684e+00,  2.4994e+00, -1.0644e+00,\n",
       "          -1.2980e+00,  1.9154e+00, -7.5070e-01,  2.3158e+00,  2.6293e-01]]])"
      ]
     },
     "execution_count": 6,
     "metadata": {},
     "output_type": "execute_result"
    }
   ],
   "source": [
    "h0"
   ]
  },
  {
   "cell_type": "code",
   "execution_count": 7,
   "metadata": {},
   "outputs": [],
   "source": [
    "output, hn = rnn(inputs, h0)"
   ]
  },
  {
   "cell_type": "code",
   "execution_count": 8,
   "metadata": {},
   "outputs": [
    {
     "data": {
      "text/plain": [
       "torch.Size([5, 3, 20])"
      ]
     },
     "execution_count": 8,
     "metadata": {},
     "output_type": "execute_result"
    }
   ],
   "source": [
    "output.shape"
   ]
  },
  {
   "cell_type": "code",
   "execution_count": 9,
   "metadata": {},
   "outputs": [
    {
     "data": {
      "text/plain": [
       "torch.Size([2, 3, 20])"
      ]
     },
     "execution_count": 9,
     "metadata": {},
     "output_type": "execute_result"
    }
   ],
   "source": [
    "hn.shape"
   ]
  },
  {
   "cell_type": "markdown",
   "metadata": {},
   "source": [
    "可以看出输入输出以及隐藏层 $h$ 的 `shape` 是一致的。"
   ]
  },
  {
   "cell_type": "markdown",
   "metadata": {},
   "source": [
    "## 搭建正式的RNN网络\n",
    "\n",
    "https://www.dezyre.com/recipes/run-basic-rnn-model-using-pytorch\n",
    "\n",
    "### 数据准备"
   ]
  },
  {
   "cell_type": "code",
   "execution_count": 17,
   "metadata": {},
   "outputs": [],
   "source": [
    "import torch\n",
    "from torch import nn\n",
    "from torch.autograd import Variable\n",
    "import torchvision.datasets as dsets\n",
    "import torchvision.transforms as transforms\n",
    "import matplotlib.pyplot as plt\n",
    "%matplotlib inline"
   ]
  },
  {
   "cell_type": "code",
   "execution_count": 19,
   "metadata": {},
   "outputs": [
    {
     "data": {
      "text/plain": [
       "<torch._C.Generator at 0x7fa35df1cb10>"
      ]
     },
     "execution_count": 19,
     "metadata": {},
     "output_type": "execute_result"
    }
   ],
   "source": [
    "# 随机种子\n",
    "torch.manual_seed(1)    # reproducible"
   ]
  },
  {
   "cell_type": "code",
   "execution_count": 20,
   "metadata": {},
   "outputs": [],
   "source": [
    "# Hyper Parameters\n",
    "EPOCH = 1               # train the training data n times, to save time, we just train 1 epoch\n",
    "BATCH_SIZE = 64\n",
    "TIME_STEP = 28          # rnn time step / image height\n",
    "INPUT_SIZE = 28         # rnn input size / image width\n",
    "LR = 0.01               # learning rate\n",
    "DOWNLOAD_MNIST = True   # set to True if haven't download the data"
   ]
  },
  {
   "cell_type": "code",
   "execution_count": 21,
   "metadata": {},
   "outputs": [
    {
     "name": "stdout",
     "output_type": "stream",
     "text": [
      "Downloading http://yann.lecun.com/exdb/mnist/train-images-idx3-ubyte.gz\n",
      "Downloading http://yann.lecun.com/exdb/mnist/train-labels-idx1-ubyte.gz\n",
      "Downloading http://yann.lecun.com/exdb/mnist/t10k-images-idx3-ubyte.gz\n",
      "Downloading http://yann.lecun.com/exdb/mnist/t10k-labels-idx1-ubyte.gz\n",
      "Processing...\n",
      "Done!\n"
     ]
    }
   ],
   "source": [
    "# Mnist digital dataset\n",
    "train_data = dsets.MNIST(\n",
    "    root='./mnist/',\n",
    "    train=True,                         # this is training data\n",
    "    transform=transforms.ToTensor(),    # Converts a PIL.Image or numpy.ndarray to\n",
    "                                        # torch.FloatTensor of shape (C x H x W) and normalize in the range [0.0, 1.0]\n",
    "    download=DOWNLOAD_MNIST,            # download it if you don't have it\n",
    ")"
   ]
  },
  {
   "cell_type": "code",
   "execution_count": 22,
   "metadata": {},
   "outputs": [
    {
     "name": "stdout",
     "output_type": "stream",
     "text": [
      "torch.Size([60000, 28, 28])\n",
      "torch.Size([60000])\n"
     ]
    },
    {
     "data": {
      "image/png": "[encoded data removed]",
      "text/plain": [
       "<Figure size 432x288 with 1 Axes>"
      ]
     },
     "metadata": {
      "needs_background": "light"
     },
     "output_type": "display_data"
    }
   ],
   "source": [
    "# plot one example\n",
    "print(train_data.train_data.size())     # (60000, 28, 28)\n",
    "print(train_data.train_labels.size())   # (60000)\n",
    "plt.imshow(train_data.train_data[0].numpy(), cmap='gray')\n",
    "plt.title('%i' % train_data.train_labels[0])\n",
    "plt.show()"
   ]
  },
  {
   "cell_type": "code",
   "execution_count": 23,
   "metadata": {},
   "outputs": [],
   "source": [
    "# Data Loader for easy mini-batch return in training\n",
    "train_loader = torch.utils.data.DataLoader(dataset=train_data,\n",
    "                                           batch_size=BATCH_SIZE, shuffle=True)"
   ]
  },
  {
   "cell_type": "code",
   "execution_count": 25,
   "metadata": {},
   "outputs": [
    {
     "name": "stderr",
     "output_type": "stream",
     "text": [
      "/usr/local/anaconda3/lib/python3.6/site-packages/ipykernel_launcher.py:3: UserWarning: volatile was removed and now has no effect. Use `with torch.no_grad():` instead.\n",
      "  This is separate from the ipykernel package so we can avoid doing imports until\n"
     ]
    }
   ],
   "source": [
    "# convert test data into Variable, pick 2000 samples to speed up testing\n",
    "test_data = dsets.MNIST(root='./mnist/', train=False, transform=transforms.ToTensor())\n",
    "test_x = Variable(test_data.test_data, volatile=True).type(torch.FloatTensor)[:2000] / 255.\n",
    "# shape (2000, 28, 28) value in range(0,1)\n",
    "\n",
    "test_y = test_data.test_labels.numpy().squeeze()[:2000]    # covert to numpy array"
   ]
  },
  {
   "cell_type": "markdown",
   "metadata": {},
   "source": [
    "### 网络结构"
   ]
  },
  {
   "cell_type": "code",
   "execution_count": 27,
   "metadata": {},
   "outputs": [],
   "source": [
    "class RNN(nn.Module):\n",
    "    def __init__(self):\n",
    "        super(RNN, self).__init__()\n",
    "\n",
    "        self.rnn = nn.LSTM(         # if use nn.RNN(), it hardly learns\n",
    "            input_size=INPUT_SIZE,\n",
    "            hidden_size=64,         # rnn hidden unit\n",
    "            num_layers=1,           # number of rnn layer\n",
    "            batch_first=True,       # input & output will has batch size as 1s dimension. \n",
    "                                    # e.g. (batch, time_step, input_size)\n",
    "        )                           # (batch, seq, feature)\n",
    "\n",
    "        self.out = nn.Linear(64, 10)\n",
    "\n",
    "    def forward(self, x):\n",
    "        # x shape (batch, time_step, input_size)\n",
    "        # r_out shape (batch, time_step, output_size)\n",
    "        # h_n shape (n_layers, batch, hidden_size)\n",
    "        # h_c shape (n_layers, batch, hidden_size)\n",
    "        r_out, (h_n, h_c) = self.rnn(x, None)   # None represents zero initial hidden state\n",
    "        # 官方文档中，如果(h_0, c_0)是None，那么默认归0\n",
    "\n",
    "        # choose r_out at the last time step\n",
    "        out = self.out(r_out[:, -1, :])\n",
    "        return out"
   ]
  },
  {
   "cell_type": "code",
   "execution_count": 28,
   "metadata": {},
   "outputs": [
    {
     "name": "stdout",
     "output_type": "stream",
     "text": [
      "RNN(\n",
      "  (rnn): LSTM(28, 64, batch_first=True)\n",
      "  (out): Linear(in_features=64, out_features=10, bias=True)\n",
      ")\n"
     ]
    }
   ],
   "source": [
    "rnn = RNN()\n",
    "print(rnn)"
   ]
  },
  {
   "cell_type": "code",
   "execution_count": 29,
   "metadata": {},
   "outputs": [],
   "source": [
    "optimizer = torch.optim.Adam(rnn.parameters(), lr=LR)   # optimize all cnn parameters\n",
    "loss_func = nn.CrossEntropyLoss()                       # the target label is not one-hotted"
   ]
  },
  {
   "cell_type": "code",
   "execution_count": 34,
   "metadata": {},
   "outputs": [
    {
     "name": "stdout",
     "output_type": "stream",
     "text": [
      "Epoch:  0 | train loss: 2.3141 | test accuracy: 0.13\n",
      "Epoch:  0 | train loss: 1.1862 | test accuracy: 0.63\n",
      "Epoch:  0 | train loss: 0.4297 | test accuracy: 0.76\n",
      "Epoch:  0 | train loss: 0.7671 | test accuracy: 0.76\n",
      "Epoch:  0 | train loss: 0.3726 | test accuracy: 0.86\n",
      "Epoch:  0 | train loss: 0.3405 | test accuracy: 0.88\n",
      "Epoch:  0 | train loss: 0.0815 | test accuracy: 0.90\n",
      "Epoch:  0 | train loss: 0.3120 | test accuracy: 0.92\n",
      "Epoch:  0 | train loss: 0.3830 | test accuracy: 0.91\n",
      "Epoch:  0 | train loss: 0.3803 | test accuracy: 0.92\n",
      "Epoch:  0 | train loss: 0.1500 | test accuracy: 0.94\n",
      "Epoch:  0 | train loss: 0.5119 | test accuracy: 0.93\n",
      "Epoch:  0 | train loss: 0.2371 | test accuracy: 0.93\n",
      "Epoch:  0 | train loss: 0.0500 | test accuracy: 0.94\n",
      "Epoch:  0 | train loss: 0.1033 | test accuracy: 0.94\n",
      "Epoch:  0 | train loss: 0.1397 | test accuracy: 0.94\n",
      "Epoch:  0 | train loss: 0.2930 | test accuracy: 0.93\n",
      "Epoch:  0 | train loss: 0.0974 | test accuracy: 0.96\n",
      "Epoch:  0 | train loss: 0.1451 | test accuracy: 0.96\n"
     ]
    }
   ],
   "source": [
    "# training and testing\n",
    "for epoch in range(EPOCH):                              # 训练一轮\n",
    "    for step, (x, y) in enumerate(train_loader):        # gives batch data，一个bathc 64\n",
    "        b_x = Variable(x.view(-1, 28, 28))              # reshape x to (batch, time_step, input_size)\n",
    "        b_y = Variable(y)                               # batch y\n",
    "\n",
    "        output = rnn(b_x)                               # rnn output\n",
    "        loss = loss_func(output, b_y)                   # cross entropy loss\n",
    "        optimizer.zero_grad()                           # clear gradients for this training step\n",
    "        loss.backward()                                 # backpropagation, compute gradients\n",
    "        optimizer.step()                                # apply gradients\n",
    "\n",
    "        if step % 50 == 0:\n",
    "            test_output = rnn(test_x)                   # (samples, time_step, input_size)\n",
    "            pred_y = torch.max(test_output, 1)[1].data.numpy().squeeze()\n",
    "            accuracy = sum(pred_y == test_y) / float(test_y.size)\n",
    "            print('Epoch: ', epoch, \n",
    "                  '| train loss: %.4f' % loss.item(), \n",
    "                  '| test accuracy: %.2f' % accuracy)"
   ]
  },
  {
   "cell_type": "code",
   "execution_count": 35,
   "metadata": {},
   "outputs": [
    {
     "name": "stdout",
     "output_type": "stream",
     "text": [
      "[7 2 1 0 4 1 4 9 5 9] prediction number\n",
      "[7 2 1 0 4 1 4 9 5 9] real number\n"
     ]
    }
   ],
   "source": [
    "test_output = rnn(test_x[:10].view(-1, 28, 28))\n",
    "\n",
    "pred_y = torch.max(test_output, 1)[1].data.numpy().squeeze()\n",
    "\n",
    "print(pred_y, 'prediction number')\n",
    "print(test_y[:10], 'real number')"
   ]
  },
  {
   "cell_type": "code",
   "execution_count": null,
   "metadata": {},
   "outputs": [],
   "source": []
  }
 ],
 "metadata": {
  "kernelspec": {
   "display_name": "Python 3",
   "language": "python",
   "name": "python3"
  },
  "language_info": {
   "codemirror_mode": {
    "name": "ipython",
    "version": 3
   },
   "file_extension": ".py",
   "mimetype": "text/x-python",
   "name": "python",
   "nbconvert_exporter": "python",
   "pygments_lexer": "ipython3",
   "version": "3.6.9"
  }
 },
 "nbformat": 4,
 "nbformat_minor": 2
}
