{
 "cells": [
  {
   "cell_type": "markdown",
   "metadata": {},
   "source": [
    "# Pytorch与MNIST\n",
    "\n",
    "## 说明\n",
    "\n",
    "上一节我们直接使用的是传统方法搭建，手动定义了网络结构和传播方向。\n",
    "\n",
    "这样的方法可以让使用者更熟悉网络结构和传播方向，对参数的控制也有更多灵活性。\n",
    "\n",
    "但是相比Keras等框架，这样的网络结构搭建似乎还是有些底层，有时候我们不需要这么灵活，只需要快速搭建一个网络即可。\n",
    "\n",
    "本节将使用 torch.nn.Sequential() 方法搭建网络，可以看出，这样的用法搭建起来更快。"
   ]
  },
  {
   "cell_type": "code",
   "execution_count": 1,
   "metadata": {},
   "outputs": [],
   "source": [
    "import torch\n",
    "import torch.nn as nn\n",
    "import torch.nn.functional as F\n",
    "import torch.optim as optim\n",
    "from torchvision import datasets, transforms\n",
    "from torch.utils.data import DataLoader"
   ]
  },
  {
   "cell_type": "markdown",
   "metadata": {},
   "source": [
    "## 设定网络结构\n",
    "\n",
    "MNIST数据集就不赘述了，这里我们之间开始搭建网络结构。具体结构参见上一节。\n",
    "\n",
    "这里我们为了对比方便，把两种方法都放上去了。"
   ]
  },
  {
   "cell_type": "code",
   "execution_count": 2,
   "metadata": {},
   "outputs": [],
   "source": [
    "class Net_normal(nn.Module):\n",
    "    def __init__(self):\n",
    "        super(Net_normal, self).__init__()\n",
    "        self.conv1 = nn.Conv2d(in_channels=1, out_channels=20, kernel_size=5, stride=1)\n",
    "        self.conv2 = nn.Conv2d(in_channels=20, out_channels=50, kernel_size=5, stride=1)\n",
    "        self.fc1 = nn.Linear(in_features=4*4*50, out_features=500)\n",
    "        self.fc2 = nn.Linear(in_features=500, out_features=10)\n",
    "\n",
    "    def forward(self, x):\n",
    "        x = F.relu(self.conv1(x))\n",
    "        x = F.max_pool2d(x, kernel_size=2, stride=2)\n",
    "        x = F.relu(self.conv2(x))\n",
    "        x = F.max_pool2d(x, kernel_size=2, stride=2)\n",
    "        x = x.view(-1, 4*4*50)\n",
    "        x = F.relu(self.fc1(x))\n",
    "        x = self.fc2(x)\n",
    "        return F.log_softmax(x, dim=1)"
   ]
  },
  {
   "cell_type": "code",
   "execution_count": 20,
   "metadata": {},
   "outputs": [],
   "source": [
    "class Net_easy(nn.Module):\n",
    "    def __init__(self):\n",
    "        super(Net_easy, self).__init__()\n",
    "        self.conv = nn.Sequential(\n",
    "            nn.Conv2d(1, 20, 5),\n",
    "            nn.ReLU(),\n",
    "            nn.MaxPool2d(2, 2),\n",
    "            nn.Conv2d(20, 50, 5),\n",
    "            nn.ReLU(),\n",
    "            nn.MaxPool2d(2, 2))\n",
    "        self.dense = nn.Sequential(\n",
    "            nn.Linear(4*4*50, 500),\n",
    "            nn.Linear(500, 10))\n",
    "    def forward(self, x):\n",
    "        conv_out = self.conv(x)\n",
    "        res = conv_out.view(-1, 4*4*50)\n",
    "        out = self.dense(res)\n",
    "        return F.log_softmax(out, dim=1)"
   ]
  },
  {
   "cell_type": "markdown",
   "metadata": {},
   "source": [
    "### 特别说明：关于两种用法的区别\n",
    "\n",
    "上面用了两种方法来设定一个网络结构，可以看到在卷积层和全连接层的方法都是nn。\n",
    "\n",
    "区别在于：\n",
    "- 第一种方法的 Relu 和 maxpool 都是在 Functional 里面调用的，这是作为一个函数调用。\n",
    "- 第二种方法则是在 nn 里面调用的，因为 Sequential 形成了一个容器，nn.ReLU必须添加到该容器才能使用。"
   ]
  },
  {
   "cell_type": "markdown",
   "metadata": {},
   "source": [
    "## 加载MNIST数据集\n",
    "\n",
    "下列加载代码分为三步：\n",
    "1. 定义数据变换规则\n",
    "2. 读取MNIST数据集\n",
    "3. 加载数据\n",
    "\n",
    "同第二节。"
   ]
  },
  {
   "cell_type": "code",
   "execution_count": 5,
   "metadata": {},
   "outputs": [],
   "source": [
    "data_tf = transforms.Compose([transforms.ToTensor(),\n",
    "                              transforms.Normalize((0.1307,), (0.3081,))])\n",
    "\n",
    "mnist_trainset = datasets.MNIST(root='./MNIST_data/MNIST', train=True, download=True, transform=data_tf)\n",
    "mnist_testset = datasets.MNIST(root='./MNIST_data/MNIST', train=False, download=True, transform=data_tf)\n",
    "\n",
    "train_loader = DataLoader(mnist_trainset, batch_size=1000, shuffle=True)\n",
    "test_loader = DataLoader(mnist_testset, batch_size=1000, shuffle=True)  # 测试集无需打乱"
   ]
  },
  {
   "cell_type": "markdown",
   "metadata": {},
   "source": [
    "## 训练神经网络\n",
    "\n",
    "### 加载网络\n",
    "\n",
    "网络初始化代码如下。其中：优化器为SGD，损失函数为交叉熵损失函数。\n",
    "\n",
    "这里我们使用 Net_easy 作为我们的网络。"
   ]
  },
  {
   "cell_type": "code",
   "execution_count": 21,
   "metadata": {},
   "outputs": [
    {
     "name": "stdout",
     "output_type": "stream",
     "text": [
      "CUDA is available.\n",
      "Net_easy(\n",
      "  (conv): Sequential(\n",
      "    (0): Conv2d(1, 20, kernel_size=(5, 5), stride=(1, 1))\n",
      "    (1): ReLU()\n",
      "    (2): MaxPool2d(kernel_size=2, stride=2, padding=0, dilation=1, ceil_mode=False)\n",
      "    (3): Conv2d(20, 50, kernel_size=(5, 5), stride=(1, 1))\n",
      "    (4): ReLU()\n",
      "    (5): MaxPool2d(kernel_size=2, stride=2, padding=0, dilation=1, ceil_mode=False)\n",
      "  )\n",
      "  (dense): Sequential(\n",
      "    (0): Linear(in_features=800, out_features=500, bias=True)\n",
      "    (1): Linear(in_features=500, out_features=10, bias=True)\n",
      "  )\n",
      ")\n"
     ]
    }
   ],
   "source": [
    "net = Net_easy()\n",
    "if torch.cuda.is_available():  # 如果GPU可以使用\n",
    "    net = net.cuda(1)\n",
    "    print(\"CUDA is available.\")\n",
    "optimizer = torch.optim.SGD(net.parameters(), lr=0.01)\n",
    "loss_func = torch.nn.CrossEntropyLoss()\n",
    "\n",
    "print(net)"
   ]
  },
  {
   "cell_type": "code",
   "execution_count": 22,
   "metadata": {},
   "outputs": [
    {
     "name": "stdout",
     "output_type": "stream",
     "text": [
      "epoch: 0, batch_ndx: 0, loss: 2.304\n",
      "epoch: 0, batch_ndx: 10, loss: 2.193\n",
      "epoch: 0, batch_ndx: 20, loss: 2.051\n",
      "epoch: 0, batch_ndx: 30, loss: 1.902\n",
      "epoch: 0, batch_ndx: 40, loss: 1.698\n",
      "epoch: 0, batch_ndx: 50, loss: 1.481\n",
      "epoch: 1, batch_ndx: 0, loss: 1.217\n",
      "epoch: 1, batch_ndx: 10, loss: 0.9898\n",
      "epoch: 1, batch_ndx: 20, loss: 0.8328\n",
      "epoch: 1, batch_ndx: 30, loss: 0.7654\n",
      "epoch: 1, batch_ndx: 40, loss: 0.6457\n",
      "epoch: 1, batch_ndx: 50, loss: 0.5622\n",
      "epoch: 2, batch_ndx: 0, loss: 0.5362\n",
      "epoch: 2, batch_ndx: 10, loss: 0.4983\n",
      "epoch: 2, batch_ndx: 20, loss: 0.4756\n",
      "epoch: 2, batch_ndx: 30, loss: 0.5093\n",
      "epoch: 2, batch_ndx: 40, loss: 0.4057\n",
      "epoch: 2, batch_ndx: 50, loss: 0.4103\n",
      "epoch: 3, batch_ndx: 0, loss: 0.344\n",
      "epoch: 3, batch_ndx: 10, loss: 0.3819\n",
      "epoch: 3, batch_ndx: 20, loss: 0.4078\n",
      "epoch: 3, batch_ndx: 30, loss: 0.3618\n",
      "epoch: 3, batch_ndx: 40, loss: 0.3438\n",
      "epoch: 3, batch_ndx: 50, loss: 0.3601\n",
      "epoch: 4, batch_ndx: 0, loss: 0.3713\n",
      "epoch: 4, batch_ndx: 10, loss: 0.3291\n",
      "epoch: 4, batch_ndx: 20, loss: 0.3256\n",
      "epoch: 4, batch_ndx: 30, loss: 0.3268\n",
      "epoch: 4, batch_ndx: 40, loss: 0.3263\n",
      "epoch: 4, batch_ndx: 50, loss: 0.2966\n"
     ]
    }
   ],
   "source": [
    "net.train()  # 启用train模式\n",
    "for epoch in range(5):\n",
    "    for batch_ndx, data in enumerate(train_loader):  # 按照一个batch = 1000来抽取数据\n",
    "        img, label = data        \n",
    "        # 前向传播\n",
    "        if torch.cuda.is_available():\n",
    "            img = img.cuda(1)\n",
    "            label = label.cuda(1)\n",
    "            # print(\"使用CUDA训练\")\n",
    "        else:\n",
    "            pass\n",
    "        output = net(img)\n",
    "        loss = loss_func(output, label)\n",
    "        \n",
    "        # 反向传播\n",
    "        optimizer.zero_grad()  # 梯度归零\n",
    "        loss.backward()  # 损失函数反向传播\n",
    "        optimizer.step()\n",
    "        \n",
    "        if batch_ndx%10 == 0:\n",
    "            print('epoch: {}, batch_ndx: {}, loss: {:.4}'.format(epoch, batch_ndx, loss.data.item()))  "
   ]
  },
  {
   "cell_type": "code",
   "execution_count": null,
   "metadata": {},
   "outputs": [],
   "source": []
  }
 ],
 "metadata": {
  "kernelspec": {
   "display_name": "Python 3",
   "language": "python",
   "name": "python3"
  },
  "language_info": {
   "codemirror_mode": {
    "name": "ipython",
    "version": 3
   },
   "file_extension": ".py",
   "mimetype": "text/x-python",
   "name": "python",
   "nbconvert_exporter": "python",
   "pygments_lexer": "ipython3",
   "version": "3.6.5"
  }
 },
 "nbformat": 4,
 "nbformat_minor": 2
}
