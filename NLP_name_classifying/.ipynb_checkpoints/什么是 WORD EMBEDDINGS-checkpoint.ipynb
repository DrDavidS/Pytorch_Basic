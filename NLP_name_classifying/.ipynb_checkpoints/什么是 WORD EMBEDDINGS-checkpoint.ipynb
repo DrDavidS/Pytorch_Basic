{
 "cells": [
  {
   "cell_type": "markdown",
   "metadata": {},
   "source": [
    "# WORD EMBEDDING\n",
    "\n",
    "## 参考资料\n",
    "\n",
    "[什么是 word embedding?](https://www.zhihu.com/question/32275069/answer/61059440)\n",
    "\n",
    "[WORD EMBEDDINGS: ENCODING LEXICAL SEMANTICS](https://pytorch.org/tutorials/beginner/nlp/word_embeddings_tutorial.html#sphx-glr-beginner-nlp-word-embeddings-tutorial-py)\n",
    "\n",
    "[YJango的Word Embedding--介绍](https://zhuanlan.zhihu.com/p/27830489)\n",
    "\n",
    "## 概念解析"
   ]
  },
  {
   "cell_type": "markdown",
   "metadata": {},
   "source": [
    "## 代码解析\n",
    "\n",
    "与我们制作独热向量（one-hot vectors）时候为每个单词定义一个唯一索引类似，在使用词嵌入的时候我们也需要为每个单词定义索引，方便查找。\n",
    "\n",
    "词嵌入被储存为了一个 $ |V|×D $ 的矩阵，其中 $ D $ 是嵌入的维度，所以某单词的索引为 $ i $，那么它就被嵌入在矩阵的第 $ i $ 行中。在代码中，从单词到索引的映射是一个名叫 word_to_ix 的字典。\n",
    "\n",
    "在 PyTorch 中，torch.nn.Embedding 可以完成词嵌入功能，包含两个参数：词表大小和嵌入维度。\n",
    "\n",
    "使用 torch.LongTensor 进行索引（这是一个 64-bit integer，带符号数）。"
   ]
  },
  {
   "cell_type": "code",
   "execution_count": 27,
   "metadata": {},
   "outputs": [
    {
     "data": {
      "text/plain": [
       "<torch._C.Generator at 0x199ca69b110>"
      ]
     },
     "execution_count": 27,
     "metadata": {},
     "output_type": "execute_result"
    }
   ],
   "source": [
    "# Author: Robert Guthrie\n",
    "# 补充：Dr_David_S\n",
    "\n",
    "import torch\n",
    "import torch.nn as nn\n",
    "import torch.nn.functional as F\n",
    "import torch.optim as optim\n",
    "\n",
    "torch.manual_seed(1)  # 设定随机种子，返回一个torch.Generator对象"
   ]
  },
  {
   "cell_type": "markdown",
   "metadata": {},
   "source": [
    "现在我们设置一个字典，用最简单的 hello world 做例子："
   ]
  },
  {
   "cell_type": "code",
   "execution_count": 28,
   "metadata": {},
   "outputs": [
    {
     "data": {
      "text/plain": [
       "{'hello': 0, 'world': 1}"
      ]
     },
     "execution_count": 28,
     "metadata": {},
     "output_type": "execute_result"
    }
   ],
   "source": [
    "word_to_ix = {\"hello\": 0, \"world\": 1}\n",
    "word_to_ix"
   ]
  },
  {
   "cell_type": "markdown",
   "metadata": {},
   "source": [
    "使用 torch.nn.Embedding 方法准备进行词嵌入，参数的意义是：有2个词语，5个维度。"
   ]
  },
  {
   "cell_type": "code",
   "execution_count": 29,
   "metadata": {},
   "outputs": [
    {
     "data": {
      "text/plain": [
       "Embedding(2, 5)"
      ]
     },
     "execution_count": 29,
     "metadata": {},
     "output_type": "execute_result"
    }
   ],
   "source": [
    "embeds = nn.Embedding(num_embeddings=2, embedding_dim=5)  # 2 words in vocab, 5 dimensional embeddings\n",
    "embeds"
   ]
  },
  {
   "cell_type": "markdown",
   "metadata": {},
   "source": [
    "现在将 hello 对应的值 0 转换为一个 longtensor 类型,两种方法都行。"
   ]
  },
  {
   "cell_type": "code",
   "execution_count": 30,
   "metadata": {},
   "outputs": [
    {
     "data": {
      "text/plain": [
       "tensor([0])"
      ]
     },
     "execution_count": 30,
     "metadata": {},
     "output_type": "execute_result"
    }
   ],
   "source": [
    "lookup_tensor = torch.tensor([word_to_ix[\"hello\"]], dtype=torch.long)\n",
    "lookup_tensor"
   ]
  },
  {
   "cell_type": "code",
   "execution_count": 31,
   "metadata": {},
   "outputs": [
    {
     "data": {
      "text/plain": [
       "tensor([0])"
      ]
     },
     "execution_count": 31,
     "metadata": {},
     "output_type": "execute_result"
    }
   ],
   "source": [
    "lookup_tensor_test = torch.LongTensor([word_to_ix[\"hello\"]])\n",
    "lookup_tensor_test"
   ]
  },
  {
   "cell_type": "markdown",
   "metadata": {},
   "source": [
    "现在使用之前定义的 embeds 模型对 hello 这个次进行词嵌入（或者说转换为词向量）："
   ]
  },
  {
   "cell_type": "code",
   "execution_count": 32,
   "metadata": {},
   "outputs": [
    {
     "name": "stdout",
     "output_type": "stream",
     "text": [
      "tensor([[ 0.6614,  0.2669,  0.0617,  0.6213, -0.4519]],\n",
      "       grad_fn=<EmbeddingBackward>)\n"
     ]
    }
   ],
   "source": [
    "hello_embed = embeds(lookup_tensor)\n",
    "print(hello_embed)"
   ]
  },
  {
   "cell_type": "markdown",
   "metadata": {},
   "source": [
    "原来的代码到此就结束了，但是这里我们希望再试试对 world 的词嵌入："
   ]
  },
  {
   "cell_type": "code",
   "execution_count": 33,
   "metadata": {},
   "outputs": [
    {
     "data": {
      "text/plain": [
       "tensor([1])"
      ]
     },
     "execution_count": 33,
     "metadata": {},
     "output_type": "execute_result"
    }
   ],
   "source": [
    "lookup_tensor2 = torch.tensor([word_to_ix[\"world\"]], dtype=torch.long)\n",
    "lookup_tensor2"
   ]
  },
  {
   "cell_type": "code",
   "execution_count": 34,
   "metadata": {},
   "outputs": [
    {
     "name": "stdout",
     "output_type": "stream",
     "text": [
      "tensor([[-0.1661, -1.5228,  0.3817, -1.0276, -0.5631]],\n",
      "       grad_fn=<EmbeddingBackward>)\n"
     ]
    }
   ],
   "source": [
    "world_embed = embeds(lookup_tensor2)\n",
    "print(world_embed)"
   ]
  },
  {
   "cell_type": "markdown",
   "metadata": {},
   "source": [
    "从上述结果来看，似乎对于 hello 的 embedding 没有涉及到 world？\n",
    "\n",
    "事实上，embeds只是一个随机生成的矩阵，目前其中的向量并不能代表任何意义，如下："
   ]
  },
  {
   "cell_type": "code",
   "execution_count": 35,
   "metadata": {},
   "outputs": [
    {
     "data": {
      "text/plain": [
       "Parameter containing:\n",
       "tensor([[ 0.6614,  0.2669,  0.0617,  0.6213, -0.4519],\n",
       "        [-0.1661, -1.5228,  0.3817, -1.0276, -0.5631]], requires_grad=True)"
      ]
     },
     "execution_count": 35,
     "metadata": {},
     "output_type": "execute_result"
    }
   ],
   "source": [
    "embeds.weight"
   ]
  },
  {
   "cell_type": "markdown",
   "metadata": {},
   "source": [
    ">nn.Embedding.weight初始化分布符合标准正态分布 $ N(0,1) $，即均值 $\\mu=0$，方差 $\\sigma=1$ 的正态分布。\n",
    ">\n",
    ">因为这里的初始化参数只设定了两个单词，所以其中：\n",
    ">\n",
    ">某一行代表单词 'hello'\n",
    ">\n",
    ">另一行代表单词 'world'"
   ]
  },
  {
   "cell_type": "markdown",
   "metadata": {},
   "source": [
    "## 一个 N-Gram 语言模型\n",
    "\n",
    "之前我们的 embeds 矩阵的初始值是随机生成的，现在我们将要计算一些训练样例的损失函数，然后使用反向传播去更新参数。\n",
    "\n",
    "### 文本处理\n",
    "\n",
    "首先设定参数："
   ]
  },
  {
   "cell_type": "code",
   "execution_count": 36,
   "metadata": {},
   "outputs": [],
   "source": [
    "CONTEXT_SIZE = 2  # 指上下文的size\n",
    "EMBEDDING_DIM = 10"
   ]
  },
  {
   "cell_type": "markdown",
   "metadata": {},
   "source": [
    "其中，上下文是指目标单词的前 $ n $ 个单词，或者后 $ n $ 个单词，或者前后都有总共 $ n $ 个单词。\n",
    "\n",
    "在这里，CONTEXT_SIZE 指的是上文的两个单词，意味着如果以后遇到上下文的情况，需要乘以二。\n",
    "\n",
    "EMBEDDING_DIM 指的是会将其 embedding 为十维向量。\n",
    "\n",
    "在本例中，我们使用的是莎士比亚的十四行诗，使用空格分词："
   ]
  },
  {
   "cell_type": "code",
   "execution_count": 37,
   "metadata": {},
   "outputs": [],
   "source": [
    "# We will use Shakespeare Sonnet 2\n",
    "test_sentence = \"\"\"When forty winters shall besiege thy brow,\n",
    "And dig deep trenches in thy beauty's field,\n",
    "Thy youth's proud livery so gazed on now,\n",
    "Will be a totter'd weed of small worth held:\n",
    "Then being asked, where all thy beauty lies,\n",
    "Where all the treasure of thy lusty days;\n",
    "To say, within thine own deep sunken eyes,\n",
    "Were an all-eating shame, and thriftless praise.\n",
    "How much more praise deserv'd thy beauty's use,\n",
    "If thou couldst answer 'This fair child of mine\n",
    "Shall sum my count, and make my old excuse,'\n",
    "Proving his beauty by succession thine!\n",
    "This were to be new made when thou art old,\n",
    "And see thy blood warm when thou feel'st it cold.\"\"\".split()"
   ]
  },
  {
   "cell_type": "markdown",
   "metadata": {},
   "source": [
    ">SONNET 2：\n",
    ">\n",
    ">当四十个冬天围攻你的朱颜，\n",
    ">\n",
    ">在你美的园地挖下深的战壕，\n",
    ">\n",
    ">你青春的华服，那么被人艳羡，\n",
    ">\n",
    ">将成褴褛的败絮，谁也不要瞧：\n",
    ">\n",
    ">那时人若问起你的美在何处，\n",
    ">\n",
    ">哪里是你那少壮年华的宝藏，\n",
    ">\n",
    ">你说，\"在我这双深陷的眼眶里，\n",
    ">\n",
    ">是贪婪的羞耻，和无益的颂扬。\"\n",
    ">\n",
    ">你的美的用途会更值得赞美，\n",
    ">\n",
    ">如果你能够说，\"我这宁馨小童\n",
    ">\n",
    ">将总结我的账，宽恕我的老迈，\"\n",
    ">\n",
    ">证实他的美在继承你的血统！\n",
    ">\n",
    ">这将使你在衰老的暮年更生，\n",
    ">\n",
    ">并使你垂冷的血液感到重温。\n",
    ">"
   ]
  },
  {
   "cell_type": "code",
   "execution_count": 38,
   "metadata": {},
   "outputs": [
    {
     "data": {
      "text/plain": [
       "['When',\n",
       " 'forty',\n",
       " 'winters',\n",
       " 'shall',\n",
       " 'besiege',\n",
       " 'thy',\n",
       " 'brow,',\n",
       " 'And',\n",
       " 'dig',\n",
       " 'deep',\n",
       " 'trenches',\n",
       " 'in',\n",
       " 'thy',\n",
       " \"beauty's\",\n",
       " 'field,',\n",
       " 'Thy',\n",
       " \"youth's\",\n",
       " 'proud',\n",
       " 'livery',\n",
       " 'so',\n",
       " 'gazed',\n",
       " 'on',\n",
       " 'now,',\n",
       " 'Will',\n",
       " 'be',\n",
       " 'a',\n",
       " \"totter'd\",\n",
       " 'weed',\n",
       " 'of',\n",
       " 'small',\n",
       " 'worth',\n",
       " 'held:',\n",
       " 'Then',\n",
       " 'being',\n",
       " 'asked,',\n",
       " 'where',\n",
       " 'all',\n",
       " 'thy',\n",
       " 'beauty',\n",
       " 'lies,',\n",
       " 'Where',\n",
       " 'all',\n",
       " 'the',\n",
       " 'treasure',\n",
       " 'of',\n",
       " 'thy',\n",
       " 'lusty',\n",
       " 'days;',\n",
       " 'To',\n",
       " 'say,',\n",
       " 'within',\n",
       " 'thine',\n",
       " 'own',\n",
       " 'deep',\n",
       " 'sunken',\n",
       " 'eyes,',\n",
       " 'Were',\n",
       " 'an',\n",
       " 'all-eating',\n",
       " 'shame,',\n",
       " 'and',\n",
       " 'thriftless',\n",
       " 'praise.',\n",
       " 'How',\n",
       " 'much',\n",
       " 'more',\n",
       " 'praise',\n",
       " \"deserv'd\",\n",
       " 'thy',\n",
       " \"beauty's\",\n",
       " 'use,',\n",
       " 'If',\n",
       " 'thou',\n",
       " 'couldst',\n",
       " 'answer',\n",
       " \"'This\",\n",
       " 'fair',\n",
       " 'child',\n",
       " 'of',\n",
       " 'mine',\n",
       " 'Shall',\n",
       " 'sum',\n",
       " 'my',\n",
       " 'count,',\n",
       " 'and',\n",
       " 'make',\n",
       " 'my',\n",
       " 'old',\n",
       " \"excuse,'\",\n",
       " 'Proving',\n",
       " 'his',\n",
       " 'beauty',\n",
       " 'by',\n",
       " 'succession',\n",
       " 'thine!',\n",
       " 'This',\n",
       " 'were',\n",
       " 'to',\n",
       " 'be',\n",
       " 'new',\n",
       " 'made',\n",
       " 'when',\n",
       " 'thou',\n",
       " 'art',\n",
       " 'old,',\n",
       " 'And',\n",
       " 'see',\n",
       " 'thy',\n",
       " 'blood',\n",
       " 'warm',\n",
       " 'when',\n",
       " 'thou',\n",
       " \"feel'st\",\n",
       " 'it',\n",
       " 'cold.']"
      ]
     },
     "execution_count": 38,
     "metadata": {},
     "output_type": "execute_result"
    }
   ],
   "source": [
    "test_sentence"
   ]
  },
  {
   "cell_type": "markdown",
   "metadata": {},
   "source": [
    "按道理，我们在训练之前输入的数据应当是有标记的，我们暂时忽略这个事情（后面会说明）。\n",
    "\n",
    "然后我们要建立一个元组（tuple），元组的格式为：\n",
    "\n",
    "$$ ([word_{i-2}, word_{i-1}], word_{i}) $$\n",
    "\n",
    "其中 $word_{i}$ 就是目标词 $ target word $ \n",
    "\n",
    "根据以上方法遍历整首诗，然后生成多个元组，放入列表 trigrams 中。"
   ]
  },
  {
   "cell_type": "code",
   "execution_count": 39,
   "metadata": {},
   "outputs": [
    {
     "name": "stdout",
     "output_type": "stream",
     "text": [
      "[(['When', 'forty'], 'winters'), (['forty', 'winters'], 'shall'), (['winters', 'shall'], 'besiege')]\n"
     ]
    }
   ],
   "source": [
    "# we should tokenize the input, but we will ignore that for now\n",
    "# build a list of tuples.  Each tuple is ([ word_i-2, word_i-1 ], target word)\n",
    "trigrams = [([test_sentence[i], test_sentence[i + 1]], test_sentence[i + 2])\n",
    "            for i in range(len(test_sentence) - 2)]\n",
    "# print the first 3, just so you can see what they look like\n",
    "print(trigrams[:3])"
   ]
  },
  {
   "cell_type": "markdown",
   "metadata": {},
   "source": [
    "set() 函数创建一个无序不重复元素集，可以剔除掉重复的元素，同时可能可以在部分模型如 RNN 中打乱文档上下文，忽略掉 RNN 权重偏向后输入的词语的缺点。"
   ]
  },
  {
   "cell_type": "code",
   "execution_count": 40,
   "metadata": {},
   "outputs": [],
   "source": [
    "vocab = set(test_sentence)  # 去重\n",
    "word_to_ix = {word: i for i, word in enumerate(vocab)}"
   ]
  },
  {
   "cell_type": "markdown",
   "metadata": {},
   "source": [
    "### 搭建网络\n",
    "\n",
    "接下来我们构建一个网络，名叫 NGramLanguageModeler："
   ]
  },
  {
   "cell_type": "code",
   "execution_count": 41,
   "metadata": {},
   "outputs": [],
   "source": [
    "class NGramLanguageModeler(nn.Module):\n",
    "\n",
    "    def __init__(self, vocab_size, embedding_dim, context_size):\n",
    "        super(NGramLanguageModeler, self).__init__()\n",
    "        self.embeddings = nn.Embedding(vocab_size, embedding_dim)  # 这步实现了embedding\n",
    "        self.linear1 = nn.Linear(context_size * embedding_dim, 128)\n",
    "        self.linear2 = nn.Linear(128, vocab_size)\n",
    "\n",
    "    def forward(self, inputs):\n",
    "        embeds = self.embeddings(inputs).view((1, -1))\n",
    "        out = F.relu(self.linear1(embeds))\n",
    "        out = self.linear2(out)\n",
    "        log_probs = F.log_softmax(out, dim=1)\n",
    "        return log_probs"
   ]
  },
  {
   "cell_type": "markdown",
   "metadata": {},
   "source": [
    "从上述网络来看，init 中存在三个层，分别是：\n",
    "\n",
    "- 词嵌入层（embedding层）\n",
    "- 第一个全连接层（linear1）\n",
    "- 第二个全连接层（linear2）\n",
    "\n",
    "算上前向传播的过程就是：\n",
    "\n",
    "- 词嵌入层\n",
    "- 转换为一维\n",
    "- 第一个全连接层\n",
    "- ReLU激活\n",
    "- 第二个全连接层\n",
    "- log_softmax输出\n",
    "\n",
    "### 设置损失函数和优化函数\n",
    "\n",
    "- 使用NLLLoss()，这个函数其实就是一个不带 log_softmax 的交叉熵损失函数。\n",
    "\n",
    "- 使用optim.SGD()，最传统的随机梯度下降，没什么好说的。\n",
    "\n",
    "需要注意的是，model 的输入参数有三个，第一个就是去重后的上下文三词元组数量，第二三个则是我们设定好的 CONTEXT_SIZE 和 EMBEDDING_DIM。"
   ]
  },
  {
   "cell_type": "code",
   "execution_count": 42,
   "metadata": {},
   "outputs": [],
   "source": [
    "losses = []\n",
    "loss_function = nn.NLLLoss()\n",
    "model = NGramLanguageModeler(len(vocab), EMBEDDING_DIM, CONTEXT_SIZE)\n",
    "optimizer = optim.SGD(model.parameters(), lr=0.001)"
   ]
  },
  {
   "cell_type": "markdown",
   "metadata": {},
   "source": [
    "### 训练模型\n",
    "\n",
    "注意：\n",
    "```Python\n",
    "for context, target in trigrams\n",
    "```\n",
    "这句话指的是我们的训练样本是上下文（其实只有上文），标签是当前词。这也是为什么之前没有标记的原因。"
   ]
  },
  {
   "cell_type": "code",
   "execution_count": 43,
   "metadata": {},
   "outputs": [
    {
     "data": {
      "text/plain": [
       "[(['When', 'forty'], 'winters'),\n",
       " (['forty', 'winters'], 'shall'),\n",
       " (['winters', 'shall'], 'besiege'),\n",
       " (['shall', 'besiege'], 'thy'),\n",
       " (['besiege', 'thy'], 'brow,'),\n",
       " (['thy', 'brow,'], 'And'),\n",
       " (['brow,', 'And'], 'dig'),\n",
       " (['And', 'dig'], 'deep'),\n",
       " (['dig', 'deep'], 'trenches'),\n",
       " (['deep', 'trenches'], 'in'),\n",
       " (['trenches', 'in'], 'thy'),\n",
       " (['in', 'thy'], \"beauty's\"),\n",
       " (['thy', \"beauty's\"], 'field,'),\n",
       " ([\"beauty's\", 'field,'], 'Thy'),\n",
       " (['field,', 'Thy'], \"youth's\"),\n",
       " (['Thy', \"youth's\"], 'proud'),\n",
       " ([\"youth's\", 'proud'], 'livery'),\n",
       " (['proud', 'livery'], 'so'),\n",
       " (['livery', 'so'], 'gazed'),\n",
       " (['so', 'gazed'], 'on'),\n",
       " (['gazed', 'on'], 'now,'),\n",
       " (['on', 'now,'], 'Will'),\n",
       " (['now,', 'Will'], 'be'),\n",
       " (['Will', 'be'], 'a'),\n",
       " (['be', 'a'], \"totter'd\"),\n",
       " (['a', \"totter'd\"], 'weed'),\n",
       " ([\"totter'd\", 'weed'], 'of'),\n",
       " (['weed', 'of'], 'small'),\n",
       " (['of', 'small'], 'worth'),\n",
       " (['small', 'worth'], 'held:'),\n",
       " (['worth', 'held:'], 'Then'),\n",
       " (['held:', 'Then'], 'being'),\n",
       " (['Then', 'being'], 'asked,'),\n",
       " (['being', 'asked,'], 'where'),\n",
       " (['asked,', 'where'], 'all'),\n",
       " (['where', 'all'], 'thy'),\n",
       " (['all', 'thy'], 'beauty'),\n",
       " (['thy', 'beauty'], 'lies,'),\n",
       " (['beauty', 'lies,'], 'Where'),\n",
       " (['lies,', 'Where'], 'all'),\n",
       " (['Where', 'all'], 'the'),\n",
       " (['all', 'the'], 'treasure'),\n",
       " (['the', 'treasure'], 'of'),\n",
       " (['treasure', 'of'], 'thy'),\n",
       " (['of', 'thy'], 'lusty'),\n",
       " (['thy', 'lusty'], 'days;'),\n",
       " (['lusty', 'days;'], 'To'),\n",
       " (['days;', 'To'], 'say,'),\n",
       " (['To', 'say,'], 'within'),\n",
       " (['say,', 'within'], 'thine'),\n",
       " (['within', 'thine'], 'own'),\n",
       " (['thine', 'own'], 'deep'),\n",
       " (['own', 'deep'], 'sunken'),\n",
       " (['deep', 'sunken'], 'eyes,'),\n",
       " (['sunken', 'eyes,'], 'Were'),\n",
       " (['eyes,', 'Were'], 'an'),\n",
       " (['Were', 'an'], 'all-eating'),\n",
       " (['an', 'all-eating'], 'shame,'),\n",
       " (['all-eating', 'shame,'], 'and'),\n",
       " (['shame,', 'and'], 'thriftless'),\n",
       " (['and', 'thriftless'], 'praise.'),\n",
       " (['thriftless', 'praise.'], 'How'),\n",
       " (['praise.', 'How'], 'much'),\n",
       " (['How', 'much'], 'more'),\n",
       " (['much', 'more'], 'praise'),\n",
       " (['more', 'praise'], \"deserv'd\"),\n",
       " (['praise', \"deserv'd\"], 'thy'),\n",
       " ([\"deserv'd\", 'thy'], \"beauty's\"),\n",
       " (['thy', \"beauty's\"], 'use,'),\n",
       " ([\"beauty's\", 'use,'], 'If'),\n",
       " (['use,', 'If'], 'thou'),\n",
       " (['If', 'thou'], 'couldst'),\n",
       " (['thou', 'couldst'], 'answer'),\n",
       " (['couldst', 'answer'], \"'This\"),\n",
       " (['answer', \"'This\"], 'fair'),\n",
       " ([\"'This\", 'fair'], 'child'),\n",
       " (['fair', 'child'], 'of'),\n",
       " (['child', 'of'], 'mine'),\n",
       " (['of', 'mine'], 'Shall'),\n",
       " (['mine', 'Shall'], 'sum'),\n",
       " (['Shall', 'sum'], 'my'),\n",
       " (['sum', 'my'], 'count,'),\n",
       " (['my', 'count,'], 'and'),\n",
       " (['count,', 'and'], 'make'),\n",
       " (['and', 'make'], 'my'),\n",
       " (['make', 'my'], 'old'),\n",
       " (['my', 'old'], \"excuse,'\"),\n",
       " (['old', \"excuse,'\"], 'Proving'),\n",
       " ([\"excuse,'\", 'Proving'], 'his'),\n",
       " (['Proving', 'his'], 'beauty'),\n",
       " (['his', 'beauty'], 'by'),\n",
       " (['beauty', 'by'], 'succession'),\n",
       " (['by', 'succession'], 'thine!'),\n",
       " (['succession', 'thine!'], 'This'),\n",
       " (['thine!', 'This'], 'were'),\n",
       " (['This', 'were'], 'to'),\n",
       " (['were', 'to'], 'be'),\n",
       " (['to', 'be'], 'new'),\n",
       " (['be', 'new'], 'made'),\n",
       " (['new', 'made'], 'when'),\n",
       " (['made', 'when'], 'thou'),\n",
       " (['when', 'thou'], 'art'),\n",
       " (['thou', 'art'], 'old,'),\n",
       " (['art', 'old,'], 'And'),\n",
       " (['old,', 'And'], 'see'),\n",
       " (['And', 'see'], 'thy'),\n",
       " (['see', 'thy'], 'blood'),\n",
       " (['thy', 'blood'], 'warm'),\n",
       " (['blood', 'warm'], 'when'),\n",
       " (['warm', 'when'], 'thou'),\n",
       " (['when', 'thou'], \"feel'st\"),\n",
       " (['thou', \"feel'st\"], 'it'),\n",
       " ([\"feel'st\", 'it'], 'cold.')]"
      ]
     },
     "execution_count": 43,
     "metadata": {},
     "output_type": "execute_result"
    }
   ],
   "source": [
    "trigrams"
   ]
  },
  {
   "cell_type": "code",
   "execution_count": 44,
   "metadata": {},
   "outputs": [
    {
     "name": "stdout",
     "output_type": "stream",
     "text": [
      "[519.3395328521729, 516.7286524772644, 514.1358370780945, 511.56134843826294, 509.0043873786926, 506.4630753993988, 503.9358084201813, 501.4213182926178, 498.91916370391846, 496.4259123802185, 493.94328260421753, 491.46931982040405, 489.00418972969055, 486.5483543872833, 484.10179924964905, 481.6624879837036, 479.23038053512573, 476.80602836608887, 474.3874454498291, 471.97468400001526, 469.56671595573425, 467.16306471824646, 464.76284623146057, 462.3669693470001, 459.9745342731476, 457.58553290367126, 455.199177980423, 452.81409525871277, 450.4298937320709, 448.044686794281, 445.6583981513977, 443.2708628177643, 440.883748292923, 438.49316215515137, 436.09905529022217, 433.70160484313965, 431.29941725730896, 428.8915560245514, 426.47898030281067, 424.0606231689453, 421.63829016685486, 419.2113003730774, 416.7768678665161, 414.3365406990051, 411.8876028060913, 409.4320206642151, 406.96857619285583, 404.4972274303436, 402.01919746398926, 399.5325789451599, 397.0351777076721, 394.5294361114502, 392.01334714889526, 389.4878969192505, 386.95137071609497, 384.4063067436218, 381.84900999069214, 379.2815315723419, 376.7036101818085, 374.1157784461975, 371.51453733444214, 368.90205907821655, 366.2775993347168, 363.6414723396301, 360.9933919906616, 358.33709359169006, 355.67251777648926, 352.9979729652405, 350.3119876384735, 347.6177759170532, 344.9143900871277, 342.20132970809937, 339.47771763801575, 336.746244430542, 334.0057818889618, 331.25642228126526, 328.49717807769775, 325.7328562736511, 322.9592852592468, 320.1774673461914, 317.38994121551514, 314.59376978874207, 311.79120802879333, 308.9836301803589, 306.1730589866638, 303.3542106151581, 300.533634185791, 297.7084619998932, 294.88167214393616, 292.05171513557434, 289.21882915496826, 286.38454365730286, 283.5473346710205, 280.70821046829224, 277.87037777900696, 275.02919030189514, 272.18841433525085, 269.34974193573, 266.5109386444092, 263.67625403404236]\n"
     ]
    }
   ],
   "source": [
    "for epoch in range(100):\n",
    "    total_loss = 0\n",
    "    for context, target in trigrams:\n",
    "\n",
    "        # Step 1. Prepare the inputs to be passed to the model (i.e, turn the words\n",
    "        # into integer indices and wrap them in tensors)\n",
    "        # 这一步把上下文单词转换为字典中对应单词的值，作为tensor\n",
    "        context_idxs = torch.tensor([word_to_ix[w] for w in context], dtype=torch.long)\n",
    "\n",
    "        # Step 2. Recall that torch *accumulates* gradients. Before passing in a\n",
    "        # new instance, you need to zero out the gradients from the old\n",
    "        # instance\n",
    "        model.zero_grad()\n",
    "\n",
    "        # Step 3. Run the forward pass, getting log probabilities over next\n",
    "        # words\n",
    "        log_probs = model(context_idxs)\n",
    "\n",
    "        # Step 4. Compute your loss function. (Again, Torch wants the target\n",
    "        # word wrapped in a tensor)\n",
    "        loss = loss_function(log_probs, torch.tensor([word_to_ix[target]], dtype=torch.long))\n",
    "\n",
    "        # Step 5. Do the backward pass and update the gradient\n",
    "        loss.backward()\n",
    "        optimizer.step()\n",
    "\n",
    "        # Get the Python number from a 1-element Tensor by calling tensor.item()\n",
    "        total_loss += loss.item()\n",
    "    losses.append(total_loss)\n",
    "print(losses)  # The loss decreased every iteration over the training data!"
   ]
  },
  {
   "cell_type": "markdown",
   "metadata": {},
   "source": [
    "现在我们得到了一个损失逐渐降低的模型，可以看出这个模型的结果是收敛的，如果继续训练下去，可能会更准确，但是到此为止吧。\n",
    "\n",
    "## 练习：计算词嵌入：CBOW模型\n",
    "\n",
    "连续词袋模型（Continuous Bag-of-Words model ），又被称为CBOW模型，经常用于自然语言处理深度学习。\n",
    "\n",
    "CBOW模型使用一段文本的中间词作为目标词，即给出目标词的上下文单词作为训练数据。CBOW去除了上下文各词语的词序信息，使用的是上下文各词的词向量的平均值。\n",
    "\n",
    "CBOW对于一段长度为 $ n $ 的训练样本：$ w_{i-(n-1)}, ...,w_i $ ，其输入为: $$ x = \\frac {1}{n - 1}\\sum_{w_j \\in c}e(w_j) $$\n",
    "\n",
    "其中 $ w $ 是目标词，即 $ w_i $， $ c $ 是上下文，上式就是将输入求平均。\n",
    "\n",
    "故CBOW模型根据上下文的表示，直接对目标词进行预测： $$ P(w|c) = \\frac{\\exp(e'(w)^Tx)}{\\sum_{w'\\in V}\\exp \\lgroup e'(w')^Tx\\rgroup} $$ \n",
    "\n",
    "CBOW的目标是最大化 $$ \\sum_{(w,c)\\in D}\\log P(w|c) $$\n",
    "\n",
    "其中 $D$ 指的是整段语料（或者说整篇文章）。\n",
    "\n",
    "要在PyTorch中实现这个模型，需要注意的是：\n",
    "\n",
    "- 考虑一下需要定义哪些参数\n",
    "- 确保你清楚每一步需要哪些形状的矩阵，使用 .view() 函数来 reshape 矩阵\n",
    "\n",
    "### 1.分割语料\n",
    "\n",
    "代码示例如下，第一步，先按空格分隔语料中的单词，其中 2 表示上文两个单词加下文两个单词。"
   ]
  },
  {
   "cell_type": "code",
   "execution_count": 45,
   "metadata": {},
   "outputs": [],
   "source": [
    "CONTEXT_SIZE = 2  # 2 words to the left, 2 to the right\n",
    "raw_text = \"\"\"We are about to study the idea of a computational process.\n",
    "Computational processes are abstract beings that inhabit computers.\n",
    "As they evolve, processes manipulate other abstract things called data.\n",
    "The evolution of a process is directed by a pattern of rules\n",
    "called a program. People create programs to direct processes. In effect,\n",
    "we conjure the spirits of the computer with our spells.\"\"\".split()"
   ]
  },
  {
   "cell_type": "markdown",
   "metadata": {},
   "source": [
    "使用 set() 函数将分词唯一化并打乱顺序，然后建立一个名叫 word_to_ix 的字典，字典的 key 是单词，value 是单词的索引。\n",
    "\n",
    "接下来使用data列表来储存文本和目标了，把第 $i$ 个单词作为目标，把第$[i-2, i-1, i+1, i+2]$ 个单词作为上下文（特征），注意这里使用的是有序的语料。"
   ]
  },
  {
   "cell_type": "code",
   "execution_count": 56,
   "metadata": {},
   "outputs": [
    {
     "name": "stdout",
     "output_type": "stream",
     "text": [
      "[(['We', 'are', 'to', 'study'], 'about'), (['are', 'about', 'study', 'the'], 'to'), (['about', 'to', 'the', 'idea'], 'study'), (['to', 'study', 'idea', 'of'], 'the'), (['study', 'the', 'of', 'a'], 'idea')]\n",
      "58\n",
      "49\n"
     ]
    }
   ],
   "source": [
    "# By deriving a set from `raw_text`, we deduplicate the array\n",
    "vocab = set(raw_text)\n",
    "vocab_size = len(vocab)\n",
    "\n",
    "word_to_ix = {word: i for i, word in enumerate(vocab)}\n",
    "data = []\n",
    "for i in range(2, len(raw_text) - 2):\n",
    "    # context保存目标单词上下文，分别2个单词\n",
    "    context = [raw_text[i - 2], raw_text[i - 1],\n",
    "               raw_text[i + 1], raw_text[i + 2]]\n",
    "    # target保存目标单词\n",
    "    target = raw_text[i]\n",
    "    # 存入data列表中\n",
    "    data.append((context, target))\n",
    "    \n",
    "print(data[:5])\n",
    "print(len(data))\n",
    "print(vocab_size)"
   ]
  },
  {
   "cell_type": "markdown",
   "metadata": {},
   "source": [
    "可以看出我们的上下文目标词组有58个，但是非重复单词有49个。"
   ]
  },
  {
   "cell_type": "markdown",
   "metadata": {},
   "source": [
    "### 2.建立CBOW类\n",
    "\n",
    "建立 CBOW 类，由于本节有习题性质，CBOW 类并没有内容，需要自己填空。"
   ]
  },
  {
   "cell_type": "code",
   "execution_count": 57,
   "metadata": {},
   "outputs": [
    {
     "name": "stdout",
     "output_type": "stream",
     "text": [
      "tensor([ 2, 33, 46, 19])\n"
     ]
    }
   ],
   "source": [
    "class CBOW(nn.Module):\n",
    "\n",
    "    def __init__(self):\n",
    "        pass\n",
    "\n",
    "    def forward(self, inputs):\n",
    "        pass\n",
    "\n",
    "# create your model and train.  here are some functions to help you make\n",
    "# the data ready for use by your module\n",
    "\n",
    "\n",
    "def make_context_vector(context, word_to_ix):\n",
    "    \"\"\"从字典中抽取word对应的value\n",
    "    \n",
    "    输入：\n",
    "    context:上下文列表（四个单词）\n",
    "    word_to_ix:单词的字典\n",
    "    \n",
    "    输出：context中的单词对应的longtensor\n",
    "    \"\"\"\n",
    "    idxs = [word_to_ix[w] for w in context]\n",
    "    return torch.tensor(idxs, dtype=torch.long)\n",
    "\n",
    "\n",
    "first_context = make_context_vector(data[0][0], word_to_ix)  # example\n",
    "print(first_context)"
   ]
  },
  {
   "cell_type": "markdown",
   "metadata": {},
   "source": [
    "这里给了一个例子，就是\n",
    "\n",
    "```Python\n",
    "make_context_vector(data[0][0], word_to_ix)  # example\n",
    "```\n",
    "简单分析一下：\n",
    "\n",
    "```Python\n",
    "data[0][0]\n",
    "```\n",
    "指的就是前面 data 列表中第一个tuple中的第一个元素，即:"
   ]
  },
  {
   "cell_type": "code",
   "execution_count": 58,
   "metadata": {},
   "outputs": [
    {
     "name": "stdout",
     "output_type": "stream",
     "text": [
      "['We', 'are', 'to', 'study']\n"
     ]
    }
   ],
   "source": [
    "print(data[0][0])"
   ]
  },
  {
   "cell_type": "markdown",
   "metadata": {},
   "source": [
    "上述四个单词在字典 word_to_ix 中对应的值如下："
   ]
  },
  {
   "cell_type": "code",
   "execution_count": 59,
   "metadata": {},
   "outputs": [
    {
     "name": "stdout",
     "output_type": "stream",
     "text": [
      "2\n",
      "33\n",
      "46\n",
      "19\n"
     ]
    }
   ],
   "source": [
    "print(word_to_ix['We'])\n",
    "print(word_to_ix['are'])\n",
    "print(word_to_ix['to'])\n",
    "print(word_to_ix['study'])"
   ]
  },
  {
   "cell_type": "markdown",
   "metadata": {},
   "source": [
    "故其组成的 longtensor 自然就是 tensor([20, 27, 26, 21]) 啦~\n",
    "\n",
    "### 简单embedding演示\n",
    "\n",
    "现在，使用 torch.nn.Embedding 方法建立一个embedding模型，目标是去重后的49个词，每个词20维。"
   ]
  },
  {
   "cell_type": "code",
   "execution_count": 60,
   "metadata": {},
   "outputs": [
    {
     "data": {
      "text/plain": [
       "Embedding(49, 20)"
      ]
     },
     "execution_count": 60,
     "metadata": {},
     "output_type": "execute_result"
    }
   ],
   "source": [
    "embeds = nn.Embedding(num_embeddings=49, embedding_dim=20)  # 58 words in vocab, 20 dimensional embeddings\n",
    "embeds"
   ]
  },
  {
   "cell_type": "markdown",
   "metadata": {},
   "source": [
    "我们尝试使用上面的 embeds 模型将 first_context 向量化："
   ]
  },
  {
   "cell_type": "code",
   "execution_count": 61,
   "metadata": {},
   "outputs": [
    {
     "name": "stdout",
     "output_type": "stream",
     "text": [
      "tensor([[-2.1191, -0.6800, -0.7205,  1.7116,  0.5737,  0.3592,  0.1365, -0.9688,\n",
      "         -0.6356, -1.0128, -0.1175,  0.4506, -1.0744, -0.2628, -2.5613,  0.3344,\n",
      "          0.1283, -0.7623,  1.3541, -0.5149],\n",
      "        [ 0.7784,  1.2752,  0.4514,  0.3024, -0.1240,  0.9851, -0.4329, -0.0269,\n",
      "         -0.6201, -0.0385,  0.8849, -0.2759, -0.0669, -0.2744, -0.1082, -1.7570,\n",
      "         -1.0108, -1.3906, -0.9470,  0.8091],\n",
      "        [-0.7886, -0.6210,  1.0869, -0.0139, -0.0809, -0.4313,  0.6058,  2.0395,\n",
      "         -0.2878,  1.1277, -1.8568,  0.2506,  0.7219,  1.3674,  0.0862, -1.0147,\n",
      "          0.0826, -0.2459, -1.1079,  0.0940],\n",
      "        [ 0.9016, -1.3125, -0.7962,  0.4715, -0.6822, -0.4986,  0.8168,  1.4585,\n",
      "         -0.5664,  1.1618, -1.7296,  0.6157,  1.3086, -0.8415, -1.8773, -0.6930,\n",
      "         -0.4665, -1.0278,  0.8361, -0.0702]], grad_fn=<EmbeddingBackward>)\n"
     ]
    }
   ],
   "source": [
    "first_context_embed = embeds(first_context)\n",
    "print(first_context_embed)"
   ]
  },
  {
   "cell_type": "markdown",
   "metadata": {},
   "source": [
    "可以看出已经成功的完成了我们向量化的第一步实验，接下来的任务就是把所有的上下文和目标单词向量化，然后建立一个 CBOW 模型对这些向量进行训练。\n",
    "\n",
    "顺便看看 embeds 的初始化，应当是随机初始化了一个符合标准正态分布 $ N(0,1) $的 49 行，20 列的矩阵。"
   ]
  },
  {
   "cell_type": "code",
   "execution_count": 62,
   "metadata": {},
   "outputs": [
    {
     "data": {
      "text/plain": [
       "Parameter containing:\n",
       "tensor([[-1.1007e+00, -1.9407e-01,  2.2328e+00,  9.0314e-01,  3.3703e-01,\n",
       "         -5.7499e-02, -1.1944e-02,  1.5079e+00,  5.7785e-01,  3.6901e-01,\n",
       "         -1.6980e+00, -1.8248e+00,  9.5325e-03,  1.5280e-01,  2.8693e+00,\n",
       "          4.2386e-01,  9.1356e-01, -8.1239e-01, -8.8108e-01, -2.6689e-01],\n",
       "        [-2.2471e-01,  3.4927e-01, -4.1475e-01,  1.1367e+00,  5.2791e-01,\n",
       "         -1.2952e+00,  4.2541e-01,  5.0982e-01, -9.8929e-01, -9.2530e-01,\n",
       "         -5.3013e-01, -8.1304e-01,  8.5257e-01,  9.1699e-01, -1.1232e+00,\n",
       "          1.3981e+00,  2.5184e-01,  9.6266e-01, -2.6745e-01, -1.2740e+00],\n",
       "        [-2.1191e+00, -6.8000e-01, -7.2047e-01,  1.7116e+00,  5.7365e-01,\n",
       "          3.5923e-01,  1.3653e-01, -9.6875e-01, -6.3558e-01, -1.0128e+00,\n",
       "         -1.1747e-01,  4.5057e-01, -1.0744e+00, -2.6283e-01, -2.5613e+00,\n",
       "          3.3438e-01,  1.2826e-01, -7.6229e-01,  1.3541e+00, -5.1493e-01],\n",
       "        [-6.7641e-01,  5.9749e-01,  2.2694e-01, -2.1956e-01,  1.6207e-01,\n",
       "         -3.5700e-01,  4.1651e-01, -2.2126e-01,  1.9398e+00, -3.5252e-01,\n",
       "          1.0087e-01,  4.4064e-01,  1.1552e+00, -5.1676e-02, -2.5041e-01,\n",
       "         -2.5725e+00,  2.5690e-01,  4.3328e-01, -2.1157e+00, -6.6186e-01],\n",
       "        [ 7.7407e-01, -9.2983e-01,  7.4466e-01,  1.3972e+00, -7.5262e-01,\n",
       "          6.7393e-01, -1.4088e+00, -1.6790e+00, -1.4017e+00,  4.5802e-02,\n",
       "         -3.4496e-01, -2.6476e-01,  5.7083e-01,  1.8327e+00,  6.6652e-01,\n",
       "         -4.0713e-01, -5.7542e-01, -1.4590e+00,  9.8363e-01,  5.4462e-01],\n",
       "        [ 1.1430e+00,  7.1220e-01, -1.3912e+00, -5.8178e-01, -5.9319e-01,\n",
       "          6.5443e-01,  1.1329e+00,  6.8219e-01,  8.3121e-01,  1.2599e+00,\n",
       "         -2.0612e-02, -7.5224e-01, -3.7341e-01, -4.9746e-01, -2.7586e-01,\n",
       "         -1.9353e-01, -1.5996e+00,  1.7103e-01,  2.2453e-01, -1.2849e+00],\n",
       "        [-6.7556e-01, -3.0997e-01, -3.9896e-01,  7.4029e-01, -2.3167e-01,\n",
       "         -5.6967e-01, -9.5552e-01, -1.0157e+00,  4.3543e-01,  5.1713e-01,\n",
       "         -9.5086e-01, -2.6084e-01, -4.1819e-01,  3.0165e-02,  1.8788e+00,\n",
       "         -2.0019e-01, -6.2093e-01, -2.3684e-03, -1.8423e-01, -6.4418e-01],\n",
       "        [ 1.6551e+00, -8.5183e-01, -8.6512e-01, -7.9210e-02, -2.6446e-01,\n",
       "          5.5490e-01,  1.4025e+00,  6.7096e-01, -1.7963e+00,  3.5884e-02,\n",
       "          5.7074e-01,  1.4485e-02,  1.3351e+00,  1.2083e+00,  2.0495e-01,\n",
       "         -1.4493e+00,  5.1976e-01,  3.4757e-02, -3.9586e-01,  2.8869e-02],\n",
       "        [-1.6477e+00, -2.4730e-01, -1.8289e+00, -1.5309e+00,  1.5922e+00,\n",
       "          1.0863e+00, -4.9129e-01, -9.0933e-01, -9.7628e-01,  6.1795e-01,\n",
       "         -8.2579e-01,  5.8447e-01, -6.6866e-01, -7.1998e-01, -2.6343e-02,\n",
       "         -8.9743e-02,  7.5966e-01,  4.9182e-01,  2.6876e-01, -1.4243e+00],\n",
       "        [-1.4178e+00,  9.7421e-01, -1.5805e+00,  5.0191e-01,  6.4283e-02,\n",
       "          2.7116e+00, -4.9227e-01, -9.2257e-01,  7.6173e-01, -5.9047e-02,\n",
       "         -2.0260e+00,  1.6345e+00,  6.0582e-01,  3.5967e-01, -5.3318e-01,\n",
       "         -1.7276e-03, -1.9833e-01,  1.7148e+00,  1.5625e+00, -2.1540e+00],\n",
       "        [ 2.2834e-01, -8.1687e-02, -1.4689e+00, -5.9471e-01, -9.6765e-01,\n",
       "         -1.6284e-01, -5.7079e-01, -2.8675e-01, -2.2559e-01, -1.9250e+00,\n",
       "         -1.5233e-01, -7.9445e-01, -1.0154e+00, -1.2025e+00,  8.6661e-01,\n",
       "         -7.6984e-02, -3.9908e-01, -2.0036e-01,  3.9005e-01, -8.6222e-01],\n",
       "        [ 7.5038e-01,  9.5611e-02, -6.3726e-01,  3.9103e-02,  8.0401e-01,\n",
       "         -2.6396e+00, -1.6367e+00, -3.2375e-01,  3.9805e-01,  5.3014e-01,\n",
       "          7.4286e-01,  2.8146e-01,  5.7193e-01, -1.6641e+00, -1.1851e-01,\n",
       "         -1.1235e+00,  3.8131e-01,  5.2649e-01,  4.7563e-01,  1.0281e+00],\n",
       "        [ 1.7106e-01,  8.7973e-01,  1.2903e-01, -1.9697e+00, -2.0296e+00,\n",
       "         -8.2499e-01, -1.6898e+00, -2.0343e+00, -3.4186e-01,  7.8684e-01,\n",
       "         -4.2334e-01, -8.6147e-01,  4.4996e-01, -6.1170e-01, -1.7829e+00,\n",
       "         -3.5781e-01,  3.5309e-01,  1.9113e+00, -1.3554e+00, -4.7442e-01],\n",
       "        [ 1.0389e-02,  1.9598e+00,  1.2845e-01,  3.8159e-01,  2.2920e+00,\n",
       "         -8.2729e-01, -1.4046e+00,  1.1178e+00, -1.2302e+00, -6.6540e-01,\n",
       "          4.6491e-01,  1.2703e+00,  7.4935e-01, -6.5084e-01,  7.0822e-01,\n",
       "         -2.5684e-01, -8.9333e-01,  1.1195e-01,  4.1532e-01,  8.2544e-01],\n",
       "        [ 1.4231e+00,  1.0133e+00, -5.8874e-01,  7.6298e-01, -4.0858e-03,\n",
       "          3.7361e-01,  6.0120e-01,  8.1936e-01,  2.1099e+00,  1.8290e+00,\n",
       "         -1.7880e+00,  1.2773e+00, -1.4411e+00, -3.0991e-01, -7.4298e-02,\n",
       "          1.6252e+00, -3.4033e-01, -7.6469e-01,  5.0898e-01, -9.9512e-01],\n",
       "        [-1.1686e+00,  4.5649e-01, -5.9289e-01,  1.8991e+00, -1.4182e-01,\n",
       "          2.3562e-01, -7.5318e-02, -1.3520e+00,  2.7445e-01, -7.8161e-01,\n",
       "          1.3572e+00, -2.3219e-01, -5.3094e-02, -7.3058e-01,  7.5699e-01,\n",
       "         -6.7288e-01,  1.0465e+00,  1.5477e-01, -5.2630e-01, -1.6089e+00],\n",
       "        [-5.4297e-01,  5.8554e-01, -6.9942e-02, -5.6086e-01, -1.2587e-02,\n",
       "         -1.7977e-01, -1.3181e-01, -4.4605e-01, -1.3145e+00,  4.1826e-01,\n",
       "          1.2063e+00, -1.1391e+00,  1.5606e-01, -2.0808e-01, -7.7308e-01,\n",
       "          1.1949e+00,  1.0275e+00, -1.1194e+00,  5.4089e-01, -7.6209e-01],\n",
       "        [-3.1156e-01,  1.2982e+00, -4.5071e-01, -1.8688e+00,  2.2654e+00,\n",
       "          6.9541e-01,  1.0537e+00,  9.5092e-01, -2.0266e-01,  9.1677e-01,\n",
       "         -4.7614e-01,  1.0091e+00, -2.4430e-02,  1.5538e+00, -6.1771e-01,\n",
       "          9.9316e-01,  2.9377e-01,  9.1019e-01,  8.3687e-01, -3.2804e-01],\n",
       "        [ 1.2135e+00,  1.6498e+00,  1.3487e+00, -1.1284e+00,  1.0062e+00,\n",
       "         -1.5789e+00,  1.3970e+00, -3.0510e-01, -1.2391e+00,  1.0692e+00,\n",
       "         -8.4563e-01,  4.3646e-01, -1.3082e+00, -4.5063e-01, -2.1186e-01,\n",
       "         -1.8388e+00, -1.8482e+00, -1.7066e-01, -9.1586e-01,  1.4570e+00],\n",
       "        [ 9.0161e-01, -1.3125e+00, -7.9622e-01,  4.7154e-01, -6.8223e-01,\n",
       "         -4.9859e-01,  8.1683e-01,  1.4585e+00, -5.6638e-01,  1.1618e+00,\n",
       "         -1.7296e+00,  6.1566e-01,  1.3086e+00, -8.4149e-01, -1.8773e+00,\n",
       "         -6.9303e-01, -4.6649e-01, -1.0278e+00,  8.3609e-01, -7.0167e-02],\n",
       "        [-7.2941e-01,  5.2384e-01, -3.3065e-03, -1.4153e-01,  2.7299e-01,\n",
       "         -5.2590e-01, -9.4153e-01,  1.3637e+00, -9.2777e-01, -1.4225e+00,\n",
       "         -1.5137e+00,  1.0816e-01, -7.3355e-01,  9.1112e-01,  1.2902e+00,\n",
       "          3.9926e-02,  2.6530e-01,  6.9302e-01,  1.0074e+00,  4.8296e-02],\n",
       "        [ 5.6354e-02, -1.1794e-01, -5.8976e-01, -8.9349e-01, -1.6001e+00,\n",
       "         -1.8835e+00,  4.1992e-01,  1.6036e-01,  1.1381e+00, -5.9722e-01,\n",
       "          1.6931e-01,  3.1787e-01,  8.5632e-01,  1.2030e+00,  3.8481e-02,\n",
       "          1.2301e+00, -1.4059e+00,  3.5387e-01, -1.1746e+00, -1.3560e+00],\n",
       "        [ 9.3642e-01, -1.7144e-01, -4.6097e-01, -5.2696e-01, -2.8845e-01,\n",
       "         -1.1589e+00,  9.6633e-01, -3.0935e-01,  1.4409e+00,  6.0776e-01,\n",
       "         -2.9885e-01, -2.7692e-01,  7.8878e-01, -1.3568e+00,  7.9483e-01,\n",
       "          7.8821e-02,  1.0167e+00, -2.5620e-01,  1.3388e-01,  1.2825e+00],\n",
       "        [ 1.5406e+00,  1.9722e+00, -7.2580e-01, -8.3425e-01,  1.2632e-01,\n",
       "         -1.4127e+00,  9.4262e-01,  2.2244e+00,  1.7798e-01,  6.3899e-01,\n",
       "          1.2866e+00, -8.7830e-01,  2.1172e-01,  4.5912e-01, -3.1796e-02,\n",
       "          1.6553e-01, -7.2159e-01, -8.3617e-01, -7.1681e-01, -2.9997e-01],\n",
       "        [-3.6756e-01,  2.9305e-01,  3.4910e-01,  1.2189e+00, -6.6473e-01,\n",
       "         -1.1972e+00, -4.8339e-01,  8.3339e-01, -9.6789e-01, -4.2493e-01,\n",
       "         -2.9109e+00,  4.0587e-02,  9.7982e-01,  4.6592e-01, -8.9153e-01,\n",
       "          7.6917e-01, -3.5218e-02,  7.7818e-01, -1.7538e-01,  7.0352e-01],\n",
       "        [ 1.8853e+00,  5.1960e-01,  2.7059e-01, -9.7385e-01,  1.0272e+00,\n",
       "         -1.6921e-01, -4.7345e-01,  9.6292e-01,  1.6522e-02,  1.2385e+00,\n",
       "          8.4780e-01, -6.1299e-01,  3.1142e-01,  3.0037e-01, -8.5051e-01,\n",
       "         -3.1023e-02, -7.2388e-01, -1.2607e+00,  6.8215e-01, -2.7835e-01],\n",
       "        [ 6.2382e-01, -8.2101e-02,  1.9574e-01,  6.6099e-01,  1.6712e-01,\n",
       "         -1.4554e+00, -7.9089e-01,  3.3593e-01,  9.3739e-01, -6.1581e-01,\n",
       "          2.6934e-02, -1.5926e+00, -6.4034e-01, -2.4274e-01,  6.4132e-01,\n",
       "         -8.3354e-02, -3.2914e-01, -4.9844e-01, -4.3996e-01, -1.7433e-01],\n",
       "        [-9.9993e-01,  1.1559e+00, -1.0390e+00,  1.2571e+00, -9.1960e-01,\n",
       "          5.5678e-01, -2.7635e-01, -7.6569e-01,  1.5624e+00,  9.4589e-01,\n",
       "          1.2838e-01,  7.0373e-01, -9.7379e-01, -1.6594e+00,  9.7671e-01,\n",
       "          1.2531e-01, -2.7010e-01, -5.4711e-01,  9.8569e-01,  1.0711e+00],\n",
       "        [ 8.4015e-01,  8.4987e-01,  7.4010e-01, -5.2861e-01, -3.7921e-01,\n",
       "         -3.9401e-01,  8.1856e-01, -2.4193e-01,  8.8086e-01, -1.8385e-01,\n",
       "         -3.7365e-01, -1.0281e+00,  6.3226e-01, -5.8571e-01,  4.1052e-01,\n",
       "         -1.4267e+00,  1.3777e+00,  1.8856e+00,  2.8747e-01, -9.9956e-01],\n",
       "        [-2.5202e-02, -6.4770e-01,  2.1806e-01,  1.3265e+00, -1.1209e+00,\n",
       "          2.3110e-01,  1.9329e+00, -1.5601e+00, -2.2494e-01, -3.7923e-01,\n",
       "         -1.1244e+00, -2.7042e-01,  7.4599e-01,  5.3285e-01, -2.8397e-01,\n",
       "         -4.2050e-03, -7.3129e-01,  7.0977e-02, -5.1801e-02, -1.6306e-01],\n",
       "        [ 2.4603e+00, -1.3220e+00,  2.9960e-01,  1.0545e+00, -3.7659e-02,\n",
       "          7.0871e-01,  2.1830e+00,  1.2919e+00, -5.9229e-01, -4.5852e-01,\n",
       "          1.7004e+00, -8.4081e-01,  2.5964e+00, -1.0249e+00, -4.5890e-01,\n",
       "          7.0093e-01,  3.2564e-01, -8.2051e-01, -7.0388e-01, -4.6292e-01],\n",
       "        [ 4.2276e-01, -8.2451e-01, -7.6485e-01,  8.9046e-01, -1.2884e-01,\n",
       "         -1.2753e+00, -7.5952e-02,  3.6223e-01,  2.1144e+00, -3.2393e-01,\n",
       "         -7.4971e-01,  1.0064e+00, -5.6908e-01,  6.2954e-01, -5.7811e-02,\n",
       "         -3.7708e-01, -6.2535e-01,  1.0992e+00,  7.5328e-01, -1.2997e+00],\n",
       "        [-2.8201e-01, -1.1150e+00,  1.2716e+00,  1.4232e+00,  1.1048e-01,\n",
       "         -8.7211e-01,  4.5768e-01, -6.4078e-01,  1.9436e+00,  2.4181e-01,\n",
       "          5.6266e-01,  1.5465e+00,  6.7563e-01,  9.0438e-01,  1.2489e+00,\n",
       "         -8.2353e-01,  9.5862e-02,  4.6097e-01, -2.1070e-01,  1.3652e+00],\n",
       "        [ 7.7842e-01,  1.2752e+00,  4.5140e-01,  3.0238e-01, -1.2400e-01,\n",
       "          9.8506e-01, -4.3290e-01, -2.6917e-02, -6.2009e-01, -3.8534e-02,\n",
       "          8.8489e-01, -2.7593e-01, -6.6937e-02, -2.7442e-01, -1.0821e-01,\n",
       "         -1.7570e+00, -1.0108e+00, -1.3906e+00, -9.4702e-01,  8.0909e-01],\n",
       "        [ 9.4975e-01,  7.1866e-01,  5.7189e-01, -2.3408e+00, -1.1634e+00,\n",
       "          2.9805e-02, -3.3268e+00,  2.9135e-01, -1.5427e+00,  5.6727e-01,\n",
       "         -3.2539e-01, -7.3506e-01, -1.7432e+00,  1.2055e-01, -7.5742e-01,\n",
       "         -6.4801e-01,  6.0755e-01, -5.8606e-01, -2.1419e+00, -1.2272e-01],\n",
       "        [-1.1356e+00,  8.3455e-01, -1.2843e+00,  1.0348e+00,  1.6969e+00,\n",
       "          5.2322e-02, -1.4735e+00,  4.2195e-01,  1.2636e-01,  1.0505e+00,\n",
       "         -1.1736e+00, -9.4722e-01, -1.6393e-01, -1.0842e-01,  1.1950e+00,\n",
       "          4.8994e-01,  2.4350e-01, -8.5645e-01, -2.7302e+00, -8.8891e-02],\n",
       "        [-7.5164e-01,  1.1859e+00,  1.2189e+00, -5.7459e-01,  5.6786e-01,\n",
       "         -3.2068e-01, -1.2967e+00, -1.5765e-01,  4.8484e-01,  2.7481e+00,\n",
       "          1.6385e+00, -1.0306e-01,  2.5055e-01,  4.4296e-01, -7.3346e-01,\n",
       "         -8.4482e-01, -5.3729e-02,  1.2159e+00,  1.9355e+00, -5.4643e-02],\n",
       "        [ 7.5848e-02, -1.0652e+00,  1.0158e+00,  7.1805e-01, -3.7784e-01,\n",
       "          5.3663e-01,  1.5290e+00, -8.5748e-01, -7.4823e-01, -1.0729e+00,\n",
       "         -1.9724e-01,  4.1463e-01, -2.0938e+00,  1.0612e+00, -2.0088e+00,\n",
       "         -5.5904e-01, -7.8844e-01, -2.5594e-01, -2.4960e-01, -5.7374e-01],\n",
       "        [ 3.1425e-01, -3.5594e-01, -1.3712e-01,  1.6013e+00,  1.3200e+00,\n",
       "          1.9290e-01, -1.2022e+00, -4.3877e-01,  1.0756e+00,  1.3687e-01,\n",
       "          2.6017e+00, -5.5115e-01, -4.5206e-03, -7.0390e-03, -1.4973e+00,\n",
       "          4.7059e-01, -8.5579e-01, -4.8223e-01,  1.9427e-01,  8.2008e-01],\n",
       "        [-1.5529e+00, -5.1060e-01,  8.2072e-01, -1.5446e+00,  1.5514e-01,\n",
       "          1.4457e+00, -1.4319e+00, -2.2240e+00, -2.3850e+00, -9.0128e-01,\n",
       "         -3.0961e-01, -6.0475e-01, -2.3726e+00, -4.6092e-02, -1.3098e-01,\n",
       "         -1.1223e+00,  6.8113e-01,  3.0768e-01,  1.1439e+00,  9.1624e-01],\n",
       "        [-5.8737e-01, -9.6280e-02, -7.0111e-01, -1.7346e+00,  4.7767e-01,\n",
       "         -1.3201e-01, -1.9144e-02, -1.0589e-01,  4.2004e-01, -1.0471e+00,\n",
       "          1.3279e-01,  2.0229e-01, -7.0832e-01, -1.0661e+00, -2.3449e-01,\n",
       "         -4.4263e-01, -1.2602e+00, -5.6896e-02, -1.4298e+00,  5.1988e-01],\n",
       "        [-6.7678e-01, -2.7389e-01, -1.9103e-01,  1.8790e-02, -1.2309e+00,\n",
       "          9.8951e-01,  5.7045e-01, -2.3909e-01, -4.8561e-01,  2.2413e-01,\n",
       "          8.6141e-01,  2.4937e-01, -5.3562e-01, -1.3170e-01, -4.6192e-01,\n",
       "         -2.4976e+00, -1.1864e+00, -9.2649e-01, -2.7526e-01,  8.8820e-01],\n",
       "        [ 8.9807e-01, -1.4963e-01,  1.5655e-01,  7.8500e-02,  3.6292e-02,\n",
       "          8.0139e-01,  1.8495e-01, -1.8469e+00,  3.2298e-01, -3.9511e-02,\n",
       "          8.3200e-02,  8.2209e-02,  3.4400e-01,  8.1222e-01, -2.9464e-01,\n",
       "          6.0840e-02,  6.1572e-02, -5.0937e-02, -1.3033e+00,  1.3342e+00],\n",
       "        [ 1.1679e+00, -8.6851e-01, -1.0778e+00,  5.6005e-01,  9.1714e-02,\n",
       "          3.3223e-01, -5.3507e-01,  6.8328e-01, -1.3037e+00, -1.4244e+00,\n",
       "          2.4650e+00, -2.5767e-01,  1.6145e+00, -2.6622e-01,  1.4156e+00,\n",
       "         -1.0908e+00, -2.2132e-01,  5.2810e-01, -6.7742e-05, -2.1475e+00],\n",
       "        [-1.2869e+00, -4.3040e-01, -6.4608e-01,  1.0047e+00,  1.5598e-01,\n",
       "          1.4759e+00,  1.0045e+00, -1.5860e+00,  7.1445e-01,  1.1779e+00,\n",
       "          2.0582e-01,  1.3878e+00,  4.9507e-01,  1.4094e+00, -4.5653e-02,\n",
       "         -9.7365e-01, -5.3490e-02, -3.9633e-01,  4.4126e-01, -8.3954e-01],\n",
       "        [ 6.0817e-01, -2.1349e-01, -4.5410e-01,  1.4180e+00,  9.7455e-01,\n",
       "         -3.2637e-01, -7.4336e-01, -1.2755e+00,  2.4423e-01,  4.4257e-01,\n",
       "         -2.1670e-01,  8.8924e-01, -2.0355e-01,  1.8096e+00, -1.8729e+00,\n",
       "          2.6383e-01, -1.2460e+00,  1.7927e+00, -9.1930e-01, -8.2316e-01],\n",
       "        [-7.8855e-01, -6.2103e-01,  1.0869e+00, -1.3933e-02, -8.0853e-02,\n",
       "         -4.3125e-01,  6.0577e-01,  2.0395e+00, -2.8783e-01,  1.1277e+00,\n",
       "         -1.8568e+00,  2.5055e-01,  7.2185e-01,  1.3674e+00,  8.6193e-02,\n",
       "         -1.0147e+00,  8.2583e-02, -2.4587e-01, -1.1079e+00,  9.4002e-02],\n",
       "        [ 2.5697e+00,  3.0687e-01,  9.7857e-02, -1.8834e+00,  2.3212e+00,\n",
       "         -2.3148e-01, -3.1380e+00, -1.6428e-01, -1.7623e+00,  7.5983e-01,\n",
       "         -1.0282e+00, -1.3538e+00, -1.0576e+00,  7.5371e-01, -1.4169e+00,\n",
       "         -1.0326e+00, -8.7207e-01,  8.5516e-01, -2.2420e+00,  5.7130e-01],\n",
       "        [ 7.6454e-01,  9.6471e-01,  1.6588e-01,  1.5486e-01,  5.4415e-01,\n",
       "          1.8048e+00,  3.9465e-01, -2.9229e-01, -1.1655e+00,  4.4427e-01,\n",
       "         -7.2921e-02, -3.4837e-01, -4.3395e-01,  1.1251e+00, -9.6849e-01,\n",
       "         -2.2545e+00, -2.2789e-01, -8.7746e-01,  5.2817e-01,  5.0499e-02]],\n",
       "       requires_grad=True)"
      ]
     },
     "execution_count": 62,
     "metadata": {},
     "output_type": "execute_result"
    }
   ],
   "source": [
    "embeds.weight"
   ]
  },
  {
   "cell_type": "markdown",
   "metadata": {
    "collapsed": true
   },
   "source": [
    "这里只是说明一下，而后我们将补全之前的 CBOW 类代码，遍历 data 中的每个元素进行embedding。\n",
    "\n",
    "### 补全CBOW类\n",
    "\n",
    "事实上，我们对目标词和其上下文的 embedding 是在 CBOW 类中完成的。我们基于之前的示例代码进行修改。"
   ]
  },
  {
   "cell_type": "code",
   "execution_count": 64,
   "metadata": {},
   "outputs": [],
   "source": [
    "class CBOW(nn.Module):\n",
    "\n",
    "    def __init__(self, vocab_size, embedding_dim, context_size):\n",
    "        \"\"\"\n",
    "        层搭建\n",
    "        \n",
    "        输入：\n",
    "        vocab_size：去重后的单词量，本例为49个\n",
    "        embedding_dim：需要 embedding 的维度，本例设为20维\n",
    "        context_size：上下文的大小，注意和前个例子不一样，前面是上文，这里是上下文\n",
    "        \"\"\"\n",
    "        super(CBOW, self).__init__()\n",
    "        self.embeddings = nn.Embedding(vocab_size, embedding_dim)\n",
    "        self.linear1 = nn.Linear(context_size * 2 * embedding_dim, 128)  # 这里乘以2应该是上下文的原因\n",
    "        self.linear2 = nn.Linear(128, vocab_size)\n",
    "\n",
    "    def forward(self, inputs):\n",
    "        \"\"\"\n",
    "        前向传播\n",
    "        \n",
    "        输入：\n",
    "        inputs：\n",
    "        \"\"\"\n",
    "        embeds = self.embeddings(inputs).view((1, -1))\n",
    "        out = F.relu(self.linear1(embeds))\n",
    "        out = self.linear2(out)\n",
    "        log_probs = F.log_softmax(out, dim=1)  # 输出概率\n",
    "        return log_probs  # 结果"
   ]
  },
  {
   "cell_type": "markdown",
   "metadata": {},
   "source": [
    "### 设置损失函数\n",
    "\n",
    "同前个例子"
   ]
  },
  {
   "cell_type": "code",
   "execution_count": 65,
   "metadata": {},
   "outputs": [],
   "source": [
    "losses = []\n",
    "loss_function = nn.NLLLoss()\n",
    "model = CBOW(len(vocab), EMBEDDING_DIM, CONTEXT_SIZE)\n",
    "optimizer = optim.SGD(model.parameters(), lr=0.001)"
   ]
  },
  {
   "cell_type": "markdown",
   "metadata": {},
   "source": [
    "### 开始训练"
   ]
  },
  {
   "cell_type": "code",
   "execution_count": 66,
   "metadata": {},
   "outputs": [
    {
     "name": "stdout",
     "output_type": "stream",
     "text": [
      "[230.33530521392822, 228.7504334449768, 227.17804646492004, 225.61784315109253, 224.0681312084198, 222.5295741558075, 221.00004506111145, 219.4789161682129, 217.96699833869934, 216.46349573135376, 214.9683482646942, 213.48054933547974, 211.99723529815674, 210.51952934265137, 209.04802346229553, 207.58251404762268, 206.12100291252136, 204.665030002594, 203.21184468269348, 201.7628242969513, 200.31635522842407, 198.874680519104, 197.43714237213135, 196.0014204978943, 194.56873106956482, 193.13860893249512, 191.71323466300964, 190.28981137275696, 188.8660478591919, 187.44388890266418, 186.0226662158966, 184.60402393341064, 183.18601298332214, 181.77017188072205, 180.35698294639587, 178.9464042186737, 177.53524804115295, 176.12641096115112, 174.7192952632904, 173.31366968154907, 171.9082760810852, 170.50400733947754, 169.10145592689514, 167.69923210144043, 166.29914903640747, 164.89859104156494, 163.50192832946777, 162.1072130203247, 160.7137155532837, 159.32071828842163, 157.93087792396545, 156.53898096084595, 155.1480097770691, 153.75832438468933, 152.3683385848999, 150.97961401939392, 149.59235310554504, 148.20248818397522, 146.81398391723633, 145.4245662689209, 144.03535294532776, 142.64756417274475, 141.25955080986023, 139.87263441085815, 138.4867148399353, 137.1014597415924, 135.7192976474762, 134.33845019340515, 132.9557582139969, 131.57300758361816, 130.1926145553589, 128.81223058700562, 127.43143677711487, 126.05587553977966, 124.676992893219, 123.30312514305115, 121.92755675315857, 120.55367994308472, 119.18085384368896, 117.80965876579285, 116.44092750549316, 115.07343554496765, 113.70840501785278, 112.34343910217285, 110.98385787010193, 109.62610363960266, 108.27310800552368, 106.92181825637817, 105.57268047332764, 104.23264479637146, 102.89332556724548, 101.55808067321777, 100.22659873962402, 98.90155220031738, 97.58079743385315, 96.2658154964447, 94.9554135799408, 93.65334630012512, 92.35471963882446, 91.0666344165802]\n"
     ]
    }
   ],
   "source": [
    "for epoch in range(100):\n",
    "    total_loss = 0\n",
    "    for context, target in data:\n",
    "\n",
    "        # Step 1. Prepare the inputs to be passed to the model (i.e, turn the words\n",
    "        # into integer indices and wrap them in tensors)\n",
    "        # 这一步把上下文单词转换为字典中对应单词的值，作为tensor\n",
    "        \n",
    "        context_idxs = make_context_vector(context=context, word_to_ix=word_to_ix)\n",
    "        # context_idxs = torch.tensor([word_to_ix[w] for w in context], dtype=torch.long)\n",
    "\n",
    "        # Step 2. Recall that torch *accumulates* gradients. Before passing in a\n",
    "        # new instance, you need to zero out the gradients from the old\n",
    "        # instance\n",
    "        # 梯度归零\n",
    "        model.zero_grad()\n",
    "\n",
    "        # Step 3. Run the forward pass, getting log probabilities over next\n",
    "        # words\n",
    "        # 输出概率\n",
    "        log_probs = model(context_idxs)\n",
    "\n",
    "        # Step 4. Compute your loss function. (Again, Torch wants the target\n",
    "        # word wrapped in a tensor)\n",
    "        # 这里target其实是一个数字标签，通过数字标签在字典中倒推回单词。\n",
    "        loss = loss_function(log_probs, torch.tensor([word_to_ix[target]], dtype=torch.long))\n",
    "\n",
    "        # Step 5. Do the backward pass and update the gradient\n",
    "        loss.backward()\n",
    "        optimizer.step()\n",
    "\n",
    "        # Get the Python number from a 1-element Tensor by calling tensor.item()\n",
    "        total_loss += loss.item()\n",
    "    losses.append(total_loss)\n",
    "print(losses)  # The loss decreased every iteration over the training data!"
   ]
  },
  {
   "cell_type": "code",
   "execution_count": 67,
   "metadata": {},
   "outputs": [
    {
     "data": {
      "text/plain": [
       "100"
      ]
     },
     "execution_count": 67,
     "metadata": {},
     "output_type": "execute_result"
    }
   ],
   "source": [
    "len(losses)"
   ]
  },
  {
   "cell_type": "code",
   "execution_count": null,
   "metadata": {
    "collapsed": true
   },
   "outputs": [],
   "source": []
  }
 ],
 "metadata": {
  "kernelspec": {
   "display_name": "Python 3",
   "language": "python",
   "name": "python3"
  },
  "language_info": {
   "codemirror_mode": {
    "name": "ipython",
    "version": 3
   },
   "file_extension": ".py",
   "mimetype": "text/x-python",
   "name": "python",
   "nbconvert_exporter": "python",
   "pygments_lexer": "ipython3",
   "version": "3.6.8"
  }
 },
 "nbformat": 4,
 "nbformat_minor": 2
}
