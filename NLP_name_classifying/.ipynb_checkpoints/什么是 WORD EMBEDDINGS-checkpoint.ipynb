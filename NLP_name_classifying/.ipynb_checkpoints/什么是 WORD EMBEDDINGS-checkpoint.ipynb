{
 "cells": [
  {
   "cell_type": "markdown",
   "metadata": {},
   "source": [
    "# WORD EMBEDDING\n",
    "\n",
    "## 参考资料\n",
    "\n",
    "[什么是 word embedding?](https://www.zhihu.com/question/32275069/answer/61059440)\n",
    "\n",
    "[WORD EMBEDDINGS: ENCODING LEXICAL SEMANTICS](https://pytorch.org/tutorials/beginner/nlp/word_embeddings_tutorial.html#sphx-glr-beginner-nlp-word-embeddings-tutorial-py)\n",
    "\n",
    "[YJango的Word Embedding--介绍](https://zhuanlan.zhihu.com/p/27830489)\n",
    "\n",
    "## 概念解析"
   ]
  },
  {
   "cell_type": "markdown",
   "metadata": {},
   "source": [
    "## 代码解析\n",
    "\n",
    "与我们制作独热向量（one-hot vectors）时候为每个单词定义一个唯一索引类似，在使用词嵌入的时候我们也需要为每个单词定义索引，方便查找。\n",
    "\n",
    "词嵌入被储存为了一个 $ |V|×D $ 的矩阵，其中 $ D $ 是嵌入的维度，所以某单词的索引为 $ i $，那么它就被嵌入在矩阵的第 $ i $ 行中。在代码中，从单词到索引的映射是一个名叫 word_to_ix 的字典。\n",
    "\n",
    "在 PyTorch 中，torch.nn.Embedding 可以完成词嵌入功能，包含两个参数：词表大小和嵌入维度。\n",
    "\n",
    "使用 torch.LongTensor 进行索引（这是一个 64-bit integer，带符号数）。"
   ]
  },
  {
   "cell_type": "code",
   "execution_count": 1,
   "metadata": {},
   "outputs": [
    {
     "data": {
      "text/plain": [
       "<torch._C.Generator at 0x21fd954fa50>"
      ]
     },
     "execution_count": 1,
     "metadata": {},
     "output_type": "execute_result"
    }
   ],
   "source": [
    "# Author: Robert Guthrie\n",
    "# 补充：Dr_David_S\n",
    "\n",
    "import torch\n",
    "import torch.nn as nn\n",
    "import torch.nn.functional as F\n",
    "import torch.optim as optim\n",
    "\n",
    "torch.manual_seed(1)  # 设定随机种子，返回一个torch.Generator对象"
   ]
  },
  {
   "cell_type": "markdown",
   "metadata": {},
   "source": [
    "现在我们设置一个字典，用最简单的 hello world 做例子："
   ]
  },
  {
   "cell_type": "code",
   "execution_count": 2,
   "metadata": {},
   "outputs": [
    {
     "data": {
      "text/plain": [
       "{'hello': 0, 'world': 1}"
      ]
     },
     "execution_count": 2,
     "metadata": {},
     "output_type": "execute_result"
    }
   ],
   "source": [
    "word_to_ix = {\"hello\": 0, \"world\": 1}\n",
    "word_to_ix"
   ]
  },
  {
   "cell_type": "markdown",
   "metadata": {},
   "source": [
    "使用 torch.nn.Embedding 方法准备进行词嵌入，参数的意义是：有2个词语，5个维度。"
   ]
  },
  {
   "cell_type": "code",
   "execution_count": 3,
   "metadata": {},
   "outputs": [
    {
     "data": {
      "text/plain": [
       "Embedding(2, 5)"
      ]
     },
     "execution_count": 3,
     "metadata": {},
     "output_type": "execute_result"
    }
   ],
   "source": [
    "embeds = nn.Embedding(num_embeddings=2, embedding_dim=5)  # 2 words in vocab, 5 dimensional embeddings\n",
    "embeds"
   ]
  },
  {
   "cell_type": "markdown",
   "metadata": {},
   "source": [
    "现在将 hello 对应的值 0 转换为一个 longtensor 类型,两种方法都行。"
   ]
  },
  {
   "cell_type": "code",
   "execution_count": 4,
   "metadata": {},
   "outputs": [
    {
     "data": {
      "text/plain": [
       "tensor([0])"
      ]
     },
     "execution_count": 4,
     "metadata": {},
     "output_type": "execute_result"
    }
   ],
   "source": [
    "lookup_tensor = torch.tensor([word_to_ix[\"hello\"]], dtype=torch.long)\n",
    "lookup_tensor"
   ]
  },
  {
   "cell_type": "code",
   "execution_count": 5,
   "metadata": {},
   "outputs": [
    {
     "data": {
      "text/plain": [
       "tensor([0])"
      ]
     },
     "execution_count": 5,
     "metadata": {},
     "output_type": "execute_result"
    }
   ],
   "source": [
    "lookup_tensor_test = torch.LongTensor([word_to_ix[\"hello\"]])\n",
    "lookup_tensor_test"
   ]
  },
  {
   "cell_type": "markdown",
   "metadata": {},
   "source": [
    "现在使用之前定义的 embeds 模型对 hello 这个次进行词嵌入（或者说转换为词向量）："
   ]
  },
  {
   "cell_type": "code",
   "execution_count": 6,
   "metadata": {},
   "outputs": [
    {
     "name": "stdout",
     "output_type": "stream",
     "text": [
      "tensor([[ 0.6614,  0.2669,  0.0617,  0.6213, -0.4519]],\n",
      "       grad_fn=<EmbeddingBackward>)\n"
     ]
    }
   ],
   "source": [
    "hello_embed = embeds(lookup_tensor)\n",
    "print(hello_embed)"
   ]
  },
  {
   "cell_type": "markdown",
   "metadata": {},
   "source": [
    "原来的代码到此就结束了，但是这里我们希望再试试对 world 的词嵌入："
   ]
  },
  {
   "cell_type": "code",
   "execution_count": 7,
   "metadata": {},
   "outputs": [
    {
     "data": {
      "text/plain": [
       "tensor([1])"
      ]
     },
     "execution_count": 7,
     "metadata": {},
     "output_type": "execute_result"
    }
   ],
   "source": [
    "lookup_tensor2 = torch.tensor([word_to_ix[\"world\"]], dtype=torch.long)\n",
    "lookup_tensor2"
   ]
  },
  {
   "cell_type": "code",
   "execution_count": 8,
   "metadata": {},
   "outputs": [
    {
     "name": "stdout",
     "output_type": "stream",
     "text": [
      "tensor([[-0.1661, -1.5228,  0.3817, -1.0276, -0.5631]],\n",
      "       grad_fn=<EmbeddingBackward>)\n"
     ]
    }
   ],
   "source": [
    "world_embed = embeds(lookup_tensor2)\n",
    "print(world_embed)"
   ]
  },
  {
   "cell_type": "markdown",
   "metadata": {},
   "source": [
    "从上述结果来看，似乎对于 hello 的 embedding 没有涉及到 world？\n",
    "\n",
    "事实上，embeds只是一个随机生成的矩阵，目前其中的向量并不能代表任何意义，如下："
   ]
  },
  {
   "cell_type": "code",
   "execution_count": 9,
   "metadata": {},
   "outputs": [
    {
     "data": {
      "text/plain": [
       "Parameter containing:\n",
       "tensor([[ 0.6614,  0.2669,  0.0617,  0.6213, -0.4519],\n",
       "        [-0.1661, -1.5228,  0.3817, -1.0276, -0.5631]], requires_grad=True)"
      ]
     },
     "execution_count": 9,
     "metadata": {},
     "output_type": "execute_result"
    }
   ],
   "source": [
    "embeds.weight"
   ]
  },
  {
   "cell_type": "markdown",
   "metadata": {},
   "source": [
    ">nn.Embedding.weight初始化分布符合标准正态分布 $ N(0,1) $，即均值 $\\mu=0$，方差 $\\sigma=1$ 的正态分布。\n",
    ">\n",
    ">因为这里的初始化参数只设定了两个单词，所以其中：\n",
    ">\n",
    ">某一行代表单词 'hello'\n",
    ">\n",
    ">另一行代表单词 'world'"
   ]
  },
  {
   "cell_type": "markdown",
   "metadata": {},
   "source": [
    "## 一个 N-Gram 语言模型\n",
    "\n",
    "之前我们的 embeds 矩阵的初始值是随机生成的，现在我们将要计算一些训练样例的损失函数，然后使用反向传播去更新参数。\n",
    "\n",
    "### 文本处理\n",
    "\n",
    "首先设定参数："
   ]
  },
  {
   "cell_type": "code",
   "execution_count": 10,
   "metadata": {
    "collapsed": true
   },
   "outputs": [],
   "source": [
    "CONTEXT_SIZE = 2  # 指上下文的size\n",
    "EMBEDDING_DIM = 10"
   ]
  },
  {
   "cell_type": "markdown",
   "metadata": {},
   "source": [
    "其中，上下文是指目标单词的前 $ n $ 个单词，或者后 $ n $ 个单词，或者前后都有总共 $ n $ 个单词。\n",
    "\n",
    "在本例中，我们使用的是莎士比亚的十四行诗，使用空格分词："
   ]
  },
  {
   "cell_type": "code",
   "execution_count": 11,
   "metadata": {
    "collapsed": true
   },
   "outputs": [],
   "source": [
    "# We will use Shakespeare Sonnet 2\n",
    "test_sentence = \"\"\"When forty winters shall besiege thy brow,\n",
    "And dig deep trenches in thy beauty's field,\n",
    "Thy youth's proud livery so gazed on now,\n",
    "Will be a totter'd weed of small worth held:\n",
    "Then being asked, where all thy beauty lies,\n",
    "Where all the treasure of thy lusty days;\n",
    "To say, within thine own deep sunken eyes,\n",
    "Were an all-eating shame, and thriftless praise.\n",
    "How much more praise deserv'd thy beauty's use,\n",
    "If thou couldst answer 'This fair child of mine\n",
    "Shall sum my count, and make my old excuse,'\n",
    "Proving his beauty by succession thine!\n",
    "This were to be new made when thou art old,\n",
    "And see thy blood warm when thou feel'st it cold.\"\"\".split()"
   ]
  },
  {
   "cell_type": "markdown",
   "metadata": {},
   "source": [
    ">SONNET 2：\n",
    ">\n",
    ">当四十个冬天围攻你的朱颜，\n",
    ">\n",
    ">在你美的园地挖下深的战壕，\n",
    ">\n",
    ">你青春的华服，那么被人艳羡，\n",
    ">\n",
    ">将成褴褛的败絮，谁也不要瞧：\n",
    ">\n",
    ">那时人若问起你的美在何处，\n",
    ">\n",
    ">哪里是你那少壮年华的宝藏，\n",
    ">\n",
    ">你说，\"在我这双深陷的眼眶里，\n",
    ">\n",
    ">是贪婪的羞耻，和无益的颂扬。\"\n",
    ">\n",
    ">你的美的用途会更值得赞美，\n",
    ">\n",
    ">如果你能够说，\"我这宁馨小童\n",
    ">\n",
    ">将总结我的账，宽恕我的老迈，\"\n",
    ">\n",
    ">证实他的美在继承你的血统！\n",
    ">\n",
    ">这将使你在衰老的暮年更生，\n",
    ">\n",
    ">并使你垂冷的血液感到重温。\n",
    ">"
   ]
  },
  {
   "cell_type": "code",
   "execution_count": 12,
   "metadata": {},
   "outputs": [
    {
     "data": {
      "text/plain": [
       "['When',\n",
       " 'forty',\n",
       " 'winters',\n",
       " 'shall',\n",
       " 'besiege',\n",
       " 'thy',\n",
       " 'brow,',\n",
       " 'And',\n",
       " 'dig',\n",
       " 'deep',\n",
       " 'trenches',\n",
       " 'in',\n",
       " 'thy',\n",
       " \"beauty's\",\n",
       " 'field,',\n",
       " 'Thy',\n",
       " \"youth's\",\n",
       " 'proud',\n",
       " 'livery',\n",
       " 'so',\n",
       " 'gazed',\n",
       " 'on',\n",
       " 'now,',\n",
       " 'Will',\n",
       " 'be',\n",
       " 'a',\n",
       " \"totter'd\",\n",
       " 'weed',\n",
       " 'of',\n",
       " 'small',\n",
       " 'worth',\n",
       " 'held:',\n",
       " 'Then',\n",
       " 'being',\n",
       " 'asked,',\n",
       " 'where',\n",
       " 'all',\n",
       " 'thy',\n",
       " 'beauty',\n",
       " 'lies,',\n",
       " 'Where',\n",
       " 'all',\n",
       " 'the',\n",
       " 'treasure',\n",
       " 'of',\n",
       " 'thy',\n",
       " 'lusty',\n",
       " 'days;',\n",
       " 'To',\n",
       " 'say,',\n",
       " 'within',\n",
       " 'thine',\n",
       " 'own',\n",
       " 'deep',\n",
       " 'sunken',\n",
       " 'eyes,',\n",
       " 'Were',\n",
       " 'an',\n",
       " 'all-eating',\n",
       " 'shame,',\n",
       " 'and',\n",
       " 'thriftless',\n",
       " 'praise.',\n",
       " 'How',\n",
       " 'much',\n",
       " 'more',\n",
       " 'praise',\n",
       " \"deserv'd\",\n",
       " 'thy',\n",
       " \"beauty's\",\n",
       " 'use,',\n",
       " 'If',\n",
       " 'thou',\n",
       " 'couldst',\n",
       " 'answer',\n",
       " \"'This\",\n",
       " 'fair',\n",
       " 'child',\n",
       " 'of',\n",
       " 'mine',\n",
       " 'Shall',\n",
       " 'sum',\n",
       " 'my',\n",
       " 'count,',\n",
       " 'and',\n",
       " 'make',\n",
       " 'my',\n",
       " 'old',\n",
       " \"excuse,'\",\n",
       " 'Proving',\n",
       " 'his',\n",
       " 'beauty',\n",
       " 'by',\n",
       " 'succession',\n",
       " 'thine!',\n",
       " 'This',\n",
       " 'were',\n",
       " 'to',\n",
       " 'be',\n",
       " 'new',\n",
       " 'made',\n",
       " 'when',\n",
       " 'thou',\n",
       " 'art',\n",
       " 'old,',\n",
       " 'And',\n",
       " 'see',\n",
       " 'thy',\n",
       " 'blood',\n",
       " 'warm',\n",
       " 'when',\n",
       " 'thou',\n",
       " \"feel'st\",\n",
       " 'it',\n",
       " 'cold.']"
      ]
     },
     "execution_count": 12,
     "metadata": {},
     "output_type": "execute_result"
    }
   ],
   "source": [
    "test_sentence"
   ]
  },
  {
   "cell_type": "markdown",
   "metadata": {},
   "source": [
    "按道理，我们在训练之前输入的数据应当是有标记的，我们暂时忽略这个事情（后面会说明）。\n",
    "\n",
    "然后我们要建立一个元组（tuple），元组的格式为：\n",
    "\n",
    "$$ ([word_{i-2}, word_{i-1}], word_{i}) $$\n",
    "\n",
    "其中 $word_{i}$ 就是目标词 $ target word $ \n",
    "\n",
    "根据以上方法遍历整首诗，然后生成多个元组，放入列表 trigrams 中。"
   ]
  },
  {
   "cell_type": "code",
   "execution_count": 13,
   "metadata": {},
   "outputs": [
    {
     "name": "stdout",
     "output_type": "stream",
     "text": [
      "[(['When', 'forty'], 'winters'), (['forty', 'winters'], 'shall'), (['winters', 'shall'], 'besiege')]\n"
     ]
    }
   ],
   "source": [
    "# we should tokenize the input, but we will ignore that for now\n",
    "# build a list of tuples.  Each tuple is ([ word_i-2, word_i-1 ], target word)\n",
    "trigrams = [([test_sentence[i], test_sentence[i + 1]], test_sentence[i + 2])\n",
    "            for i in range(len(test_sentence) - 2)]\n",
    "# print the first 3, just so you can see what they look like\n",
    "print(trigrams[:3])"
   ]
  },
  {
   "cell_type": "markdown",
   "metadata": {},
   "source": [
    "set() 函数创建一个无序不重复元素集，可以剔除掉重复的元素，同时可能可以在部分模型如 RNN 中打乱文档上下文，忽略掉 RNN 权重偏向后输入的词语的缺点。"
   ]
  },
  {
   "cell_type": "code",
   "execution_count": 14,
   "metadata": {
    "collapsed": true
   },
   "outputs": [],
   "source": [
    "vocab = set(test_sentence)\n",
    "word_to_ix = {word: i for i, word in enumerate(vocab)}"
   ]
  },
  {
   "cell_type": "markdown",
   "metadata": {},
   "source": [
    "### 搭建网络\n",
    "\n",
    "接下来我们构建一个网络，名叫 NGramLanguageModeler："
   ]
  },
  {
   "cell_type": "code",
   "execution_count": 15,
   "metadata": {
    "collapsed": true
   },
   "outputs": [],
   "source": [
    "class NGramLanguageModeler(nn.Module):\n",
    "\n",
    "    def __init__(self, vocab_size, embedding_dim, context_size):\n",
    "        super(NGramLanguageModeler, self).__init__()\n",
    "        self.embeddings = nn.Embedding(vocab_size, embedding_dim)\n",
    "        self.linear1 = nn.Linear(context_size * embedding_dim, 128)\n",
    "        self.linear2 = nn.Linear(128, vocab_size)\n",
    "\n",
    "    def forward(self, inputs):\n",
    "        embeds = self.embeddings(inputs).view((1, -1))\n",
    "        out = F.relu(self.linear1(embeds))\n",
    "        out = self.linear2(out)\n",
    "        log_probs = F.log_softmax(out, dim=1)\n",
    "        return log_probs"
   ]
  },
  {
   "cell_type": "markdown",
   "metadata": {},
   "source": [
    "从上述网络来看，init 中存在三个层，分别是：\n",
    "\n",
    "- 词嵌入层（embedding层）\n",
    "- 第一个全连接层（linear1）\n",
    "- 第二个全连接层（linear2）\n",
    "\n",
    "算上前向传播的过程就是：\n",
    "\n",
    "- 词嵌入层\n",
    "- 转换为一维\n",
    "- 第一个全连接层\n",
    "- ReLU激活\n",
    "- 第二个全连接层\n",
    "- log_softmax输出\n",
    "\n",
    "### 设置损失函数和优化函数\n",
    "\n",
    "- 使用NLLLoss()，这个函数其实就是一个不带 log_softmax 的交叉熵损失函数。\n",
    "\n",
    "- 使用optim.SGD()，最传统的随机梯度下降，没什么好说的。\n",
    "\n",
    "需要注意的是，model 的输入参数有三个，第一个就是去重后的上下文三词元组数量，第二三个则是我们设定好的 CONTEXT_SIZE 和 EMBEDDING_DIM。"
   ]
  },
  {
   "cell_type": "code",
   "execution_count": 16,
   "metadata": {
    "collapsed": true
   },
   "outputs": [],
   "source": [
    "losses = []\n",
    "loss_function = nn.NLLLoss()\n",
    "model = NGramLanguageModeler(len(vocab), EMBEDDING_DIM, CONTEXT_SIZE)\n",
    "optimizer = optim.SGD(model.parameters(), lr=0.001)"
   ]
  },
  {
   "cell_type": "markdown",
   "metadata": {},
   "source": [
    "### 训练模型\n",
    "\n",
    "注意：\n",
    "```Python\n",
    "for context, target in trigrams\n",
    "```\n",
    "这句话指的是我们的训练样本是上下文（其实只有上文），标签是当前词。这也是为什么之前没有标记的原因。"
   ]
  },
  {
   "cell_type": "code",
   "execution_count": 44,
   "metadata": {},
   "outputs": [
    {
     "data": {
      "text/plain": [
       "[(['When', 'forty'], 'winters'),\n",
       " (['forty', 'winters'], 'shall'),\n",
       " (['winters', 'shall'], 'besiege'),\n",
       " (['shall', 'besiege'], 'thy'),\n",
       " (['besiege', 'thy'], 'brow,'),\n",
       " (['thy', 'brow,'], 'And'),\n",
       " (['brow,', 'And'], 'dig'),\n",
       " (['And', 'dig'], 'deep'),\n",
       " (['dig', 'deep'], 'trenches'),\n",
       " (['deep', 'trenches'], 'in'),\n",
       " (['trenches', 'in'], 'thy'),\n",
       " (['in', 'thy'], \"beauty's\"),\n",
       " (['thy', \"beauty's\"], 'field,'),\n",
       " ([\"beauty's\", 'field,'], 'Thy'),\n",
       " (['field,', 'Thy'], \"youth's\"),\n",
       " (['Thy', \"youth's\"], 'proud'),\n",
       " ([\"youth's\", 'proud'], 'livery'),\n",
       " (['proud', 'livery'], 'so'),\n",
       " (['livery', 'so'], 'gazed'),\n",
       " (['so', 'gazed'], 'on'),\n",
       " (['gazed', 'on'], 'now,'),\n",
       " (['on', 'now,'], 'Will'),\n",
       " (['now,', 'Will'], 'be'),\n",
       " (['Will', 'be'], 'a'),\n",
       " (['be', 'a'], \"totter'd\"),\n",
       " (['a', \"totter'd\"], 'weed'),\n",
       " ([\"totter'd\", 'weed'], 'of'),\n",
       " (['weed', 'of'], 'small'),\n",
       " (['of', 'small'], 'worth'),\n",
       " (['small', 'worth'], 'held:'),\n",
       " (['worth', 'held:'], 'Then'),\n",
       " (['held:', 'Then'], 'being'),\n",
       " (['Then', 'being'], 'asked,'),\n",
       " (['being', 'asked,'], 'where'),\n",
       " (['asked,', 'where'], 'all'),\n",
       " (['where', 'all'], 'thy'),\n",
       " (['all', 'thy'], 'beauty'),\n",
       " (['thy', 'beauty'], 'lies,'),\n",
       " (['beauty', 'lies,'], 'Where'),\n",
       " (['lies,', 'Where'], 'all'),\n",
       " (['Where', 'all'], 'the'),\n",
       " (['all', 'the'], 'treasure'),\n",
       " (['the', 'treasure'], 'of'),\n",
       " (['treasure', 'of'], 'thy'),\n",
       " (['of', 'thy'], 'lusty'),\n",
       " (['thy', 'lusty'], 'days;'),\n",
       " (['lusty', 'days;'], 'To'),\n",
       " (['days;', 'To'], 'say,'),\n",
       " (['To', 'say,'], 'within'),\n",
       " (['say,', 'within'], 'thine'),\n",
       " (['within', 'thine'], 'own'),\n",
       " (['thine', 'own'], 'deep'),\n",
       " (['own', 'deep'], 'sunken'),\n",
       " (['deep', 'sunken'], 'eyes,'),\n",
       " (['sunken', 'eyes,'], 'Were'),\n",
       " (['eyes,', 'Were'], 'an'),\n",
       " (['Were', 'an'], 'all-eating'),\n",
       " (['an', 'all-eating'], 'shame,'),\n",
       " (['all-eating', 'shame,'], 'and'),\n",
       " (['shame,', 'and'], 'thriftless'),\n",
       " (['and', 'thriftless'], 'praise.'),\n",
       " (['thriftless', 'praise.'], 'How'),\n",
       " (['praise.', 'How'], 'much'),\n",
       " (['How', 'much'], 'more'),\n",
       " (['much', 'more'], 'praise'),\n",
       " (['more', 'praise'], \"deserv'd\"),\n",
       " (['praise', \"deserv'd\"], 'thy'),\n",
       " ([\"deserv'd\", 'thy'], \"beauty's\"),\n",
       " (['thy', \"beauty's\"], 'use,'),\n",
       " ([\"beauty's\", 'use,'], 'If'),\n",
       " (['use,', 'If'], 'thou'),\n",
       " (['If', 'thou'], 'couldst'),\n",
       " (['thou', 'couldst'], 'answer'),\n",
       " (['couldst', 'answer'], \"'This\"),\n",
       " (['answer', \"'This\"], 'fair'),\n",
       " ([\"'This\", 'fair'], 'child'),\n",
       " (['fair', 'child'], 'of'),\n",
       " (['child', 'of'], 'mine'),\n",
       " (['of', 'mine'], 'Shall'),\n",
       " (['mine', 'Shall'], 'sum'),\n",
       " (['Shall', 'sum'], 'my'),\n",
       " (['sum', 'my'], 'count,'),\n",
       " (['my', 'count,'], 'and'),\n",
       " (['count,', 'and'], 'make'),\n",
       " (['and', 'make'], 'my'),\n",
       " (['make', 'my'], 'old'),\n",
       " (['my', 'old'], \"excuse,'\"),\n",
       " (['old', \"excuse,'\"], 'Proving'),\n",
       " ([\"excuse,'\", 'Proving'], 'his'),\n",
       " (['Proving', 'his'], 'beauty'),\n",
       " (['his', 'beauty'], 'by'),\n",
       " (['beauty', 'by'], 'succession'),\n",
       " (['by', 'succession'], 'thine!'),\n",
       " (['succession', 'thine!'], 'This'),\n",
       " (['thine!', 'This'], 'were'),\n",
       " (['This', 'were'], 'to'),\n",
       " (['were', 'to'], 'be'),\n",
       " (['to', 'be'], 'new'),\n",
       " (['be', 'new'], 'made'),\n",
       " (['new', 'made'], 'when'),\n",
       " (['made', 'when'], 'thou'),\n",
       " (['when', 'thou'], 'art'),\n",
       " (['thou', 'art'], 'old,'),\n",
       " (['art', 'old,'], 'And'),\n",
       " (['old,', 'And'], 'see'),\n",
       " (['And', 'see'], 'thy'),\n",
       " (['see', 'thy'], 'blood'),\n",
       " (['thy', 'blood'], 'warm'),\n",
       " (['blood', 'warm'], 'when'),\n",
       " (['warm', 'when'], 'thou'),\n",
       " (['when', 'thou'], \"feel'st\"),\n",
       " (['thou', \"feel'st\"], 'it'),\n",
       " ([\"feel'st\", 'it'], 'cold.')]"
      ]
     },
     "execution_count": 44,
     "metadata": {},
     "output_type": "execute_result"
    }
   ],
   "source": [
    "trigrams"
   ]
  },
  {
   "cell_type": "code",
   "execution_count": 17,
   "metadata": {},
   "outputs": [
    {
     "name": "stdout",
     "output_type": "stream",
     "text": [
      "[519.6867213249207, 517.070152759552, 514.4715573787689, 511.8875916004181, 509.3183901309967, 506.76496982574463, 504.226984500885, 501.7028648853302, 499.19131565093994, 496.6922929286957, 494.2053587436676, 491.7301506996155, 489.26255536079407, 486.80488872528076, 484.3552463054657, 481.91312432289124, 479.4765045642853, 477.04330587387085, 474.6125531196594, 472.185026884079, 469.7598648071289, 467.3372013568878, 464.91707134246826, 462.4967677593231, 460.0782268047333, 457.659059047699, 455.239577293396, 452.81758403778076, 450.3921182155609, 447.9660198688507, 445.538423538208, 443.1092698574066, 440.6768057346344, 438.2413046360016, 435.8006672859192, 433.3557085990906, 430.90441489219666, 428.4492378234863, 425.9890410900116, 423.52271246910095, 421.04992413520813, 418.56983613967896, 416.0808434486389, 413.58485221862793, 411.0811542272568, 408.5684061050415, 406.0478866100311, 403.5204122066498, 400.98438131809235, 398.44108045101166, 395.8876748085022, 393.32611668109894, 390.7567435503006, 388.18025612831116, 385.59432005882263, 382.9990111589432, 380.3950409889221, 377.7834585905075, 375.1615550518036, 372.52847373485565, 369.8859928846359, 367.23265612125397, 364.56981122493744, 361.89653980731964, 359.2163747549057, 356.5254467725754, 353.8269554376602, 351.1198664903641, 348.40516924858093, 345.6806491613388, 342.94922256469727, 340.20847380161285, 337.45841801166534, 334.7004919052124, 331.9341251254082, 329.1639152765274, 326.3841869235039, 323.5975928902626, 320.80509716272354, 318.00497102737427, 315.2015261054039, 312.39098834991455, 309.5740666985512, 306.7521168589592, 303.9265937805176, 301.0936122536659, 298.26066130399704, 295.422191798687, 292.5803664326668, 289.7353839278221, 286.88954001665115, 284.0394887328148, 281.18961799144745, 278.3355316519737, 275.4838290810585, 272.6302715539932, 269.77760338783264, 266.927836060524, 264.0777372121811, 261.2303022146225]\n"
     ]
    }
   ],
   "source": [
    "for epoch in range(100):\n",
    "    total_loss = 0\n",
    "    for context, target in trigrams:\n",
    "\n",
    "        # Step 1. Prepare the inputs to be passed to the model (i.e, turn the words\n",
    "        # into integer indices and wrap them in tensors)\n",
    "        # 这一步把上下文单词转换为字典中对应单词的值，作为tensor\n",
    "        context_idxs = torch.tensor([word_to_ix[w] for w in context], dtype=torch.long)\n",
    "\n",
    "        # Step 2. Recall that torch *accumulates* gradients. Before passing in a\n",
    "        # new instance, you need to zero out the gradients from the old\n",
    "        # instance\n",
    "        model.zero_grad()\n",
    "\n",
    "        # Step 3. Run the forward pass, getting log probabilities over next\n",
    "        # words\n",
    "        log_probs = model(context_idxs)\n",
    "\n",
    "        # Step 4. Compute your loss function. (Again, Torch wants the target\n",
    "        # word wrapped in a tensor)\n",
    "        loss = loss_function(log_probs, torch.tensor([word_to_ix[target]], dtype=torch.long))\n",
    "\n",
    "        # Step 5. Do the backward pass and update the gradient\n",
    "        loss.backward()\n",
    "        optimizer.step()\n",
    "\n",
    "        # Get the Python number from a 1-element Tensor by calling tensor.item()\n",
    "        total_loss += loss.item()\n",
    "    losses.append(total_loss)\n",
    "print(losses)  # The loss decreased every iteration over the training data!"
   ]
  },
  {
   "cell_type": "markdown",
   "metadata": {},
   "source": [
    "现在我们得到了一个损失逐渐降低的模型，可以看出这个模型的结果是收敛的，如果继续训练下去，可能会更准确，但是到此为止吧。\n",
    "\n",
    "## 练习：计算词嵌入：CBOW模型\n",
    "\n",
    "连续词袋模型（Continuous Bag-of-Words model ），又被称为CBOW模型，经常用于自然语言处理深度学习。\n",
    "\n",
    "CBOW模型使用一段文本的中间词作为目标词，即给出目标词的上下文单词作为训练数据。CBOW去除了上下文各词语的词序信息，使用的是上下文各词的词向量的平均值。\n",
    "\n",
    "CBOW对于一段长度为 $ n $ 的训练样本：$ w_{i-(n-1)}, ...,w_i $ ，其输入为: $$ x = \\frac {1}{n - 1}\\sum_{w_j \\in c}e(w_j) $$\n",
    "\n",
    "其中 $ w $ 是目标词，即 $ w_i $， $ c $ 是上下文，上式就是将输入求平均。\n",
    "\n",
    "故CBOW模型根据上下文的表示，直接对目标词进行预测： $$ P(w|c) = \\frac{\\exp(e'(w)^Tx)}{\\sum_{w'\\in V}\\exp \\lgroup e'(w')^Tx\\rgroup} $$ \n",
    "\n",
    "CBOW的目标是最大化 $$ \\sum_{(w,c)\\in D}\\log P(w|c) $$\n",
    "\n",
    "其中 $D$ 指的是整段语料（或者说整篇文章）。\n",
    "\n",
    "要在PyTorch中实现这个模型，需要注意的是：\n",
    "\n",
    "- 考虑一下需要定义哪些参数\n",
    "- 确保你清楚每一步需要哪些形状的矩阵，使用 .view() 函数来 reshape 矩阵\n",
    "\n",
    "### 代码示例\n",
    "\n",
    "代码示例如下，第一步，先按空格分隔语料中的单词，其中 2 表示上文两个单词加下文两个单词。"
   ]
  },
  {
   "cell_type": "code",
   "execution_count": 19,
   "metadata": {},
   "outputs": [],
   "source": [
    "CONTEXT_SIZE = 2  # 2 words to the left, 2 to the right\n",
    "raw_text = \"\"\"We are about to study the idea of a computational process.\n",
    "Computational processes are abstract beings that inhabit computers.\n",
    "As they evolve, processes manipulate other abstract things called data.\n",
    "The evolution of a process is directed by a pattern of rules\n",
    "called a program. People create programs to direct processes. In effect,\n",
    "we conjure the spirits of the computer with our spells.\"\"\".split()"
   ]
  },
  {
   "cell_type": "markdown",
   "metadata": {},
   "source": [
    "使用 set() 函数将分词唯一化并打乱顺序，然后建立一个名叫 word_to_ix 的字典，字典的 key 是单词，value 是单词的索引。\n",
    "\n",
    "接下来使用data列表来储存文本和目标了，把第 $i$ 个单词作为目标，把第$[i-2, i-1, i+1, i+2]$ 个单词作为上下文（特征），注意这里使用的是有序的语料。"
   ]
  },
  {
   "cell_type": "code",
   "execution_count": 24,
   "metadata": {},
   "outputs": [
    {
     "name": "stdout",
     "output_type": "stream",
     "text": [
      "[(['We', 'are', 'to', 'study'], 'about'), (['are', 'about', 'study', 'the'], 'to'), (['about', 'to', 'the', 'idea'], 'study'), (['to', 'study', 'idea', 'of'], 'the'), (['study', 'the', 'of', 'a'], 'idea')]\n",
      "58\n"
     ]
    }
   ],
   "source": [
    "# By deriving a set from `raw_text`, we deduplicate the array\n",
    "vocab = set(raw_text)\n",
    "vocab_size = len(vocab)\n",
    "\n",
    "word_to_ix = {word: i for i, word in enumerate(vocab)}\n",
    "data = []\n",
    "for i in range(2, len(raw_text) - 2):\n",
    "    # context保存目标单词上下文，分别2个单词\n",
    "    context = [raw_text[i - 2], raw_text[i - 1],\n",
    "               raw_text[i + 1], raw_text[i + 2]]\n",
    "    # target保存目标单词\n",
    "    target = raw_text[i]\n",
    "    # 存入data列表中\n",
    "    data.append((context, target))\n",
    "    \n",
    "print(data[:5])\n",
    "print(len(data))"
   ]
  },
  {
   "cell_type": "markdown",
   "metadata": {},
   "source": [
    "建立 CBOW 类。"
   ]
  },
  {
   "cell_type": "code",
   "execution_count": 37,
   "metadata": {},
   "outputs": [
    {
     "name": "stdout",
     "output_type": "stream",
     "text": [
      "tensor([20, 27, 26, 21])\n"
     ]
    }
   ],
   "source": [
    "class CBOW(nn.Module):\n",
    "\n",
    "    def __init__(self):\n",
    "        pass\n",
    "\n",
    "    def forward(self, inputs):\n",
    "        pass\n",
    "\n",
    "# create your model and train.  here are some functions to help you make\n",
    "# the data ready for use by your module\n",
    "\n",
    "\n",
    "def make_context_vector(context, word_to_ix):\n",
    "    \"\"\"从字典中抽取word对应的value，从\n",
    "    \n",
    "    输入：\n",
    "    context:上下文列表（四个单词）\n",
    "    word_to_ix:单词的字典\n",
    "    \n",
    "    输出：context中的单词对应的longtensor\n",
    "    \"\"\"\n",
    "    idxs = [word_to_ix[w] for w in context]\n",
    "    return torch.tensor(idxs, dtype=torch.long)\n",
    "\n",
    "\n",
    "first_context = make_context_vector(data[0][0], word_to_ix)  # example\n",
    "print(first_context)"
   ]
  },
  {
   "cell_type": "markdown",
   "metadata": {},
   "source": [
    "这里给了一个例子，就是\n",
    "\n",
    "```Python\n",
    "make_context_vector(data[0][0], word_to_ix)  # example\n",
    "```\n",
    "简单分析一下：\n",
    "\n",
    "```Python\n",
    "data[0][0]\n",
    "```\n",
    "指的就是前面 data 列表中第一个tuple中的第一个元素，即:"
   ]
  },
  {
   "cell_type": "code",
   "execution_count": 38,
   "metadata": {},
   "outputs": [
    {
     "name": "stdout",
     "output_type": "stream",
     "text": [
      "['We', 'are', 'to', 'study']\n"
     ]
    }
   ],
   "source": [
    "print(data[0][0])"
   ]
  },
  {
   "cell_type": "markdown",
   "metadata": {},
   "source": [
    "上述四个单词在字典 word_to_ix 中对应的值如下："
   ]
  },
  {
   "cell_type": "code",
   "execution_count": 39,
   "metadata": {},
   "outputs": [
    {
     "name": "stdout",
     "output_type": "stream",
     "text": [
      "20\n",
      "27\n",
      "26\n",
      "21\n"
     ]
    }
   ],
   "source": [
    "print(word_to_ix['We'])\n",
    "print(word_to_ix['are'])\n",
    "print(word_to_ix['to'])\n",
    "print(word_to_ix['study'])"
   ]
  },
  {
   "cell_type": "markdown",
   "metadata": {},
   "source": [
    "故其组成的 longtensor 自然就是 tensor([20, 27, 26, 21]) 啦~\n",
    "\n",
    "现在，使用 torch.nn.Embedding 方法建立一个embedding模型，目标是58个词，每个词20维。"
   ]
  },
  {
   "cell_type": "code",
   "execution_count": 30,
   "metadata": {},
   "outputs": [
    {
     "data": {
      "text/plain": [
       "Embedding(58, 20)"
      ]
     },
     "execution_count": 30,
     "metadata": {},
     "output_type": "execute_result"
    }
   ],
   "source": [
    "embeds = nn.Embedding(num_embeddings=58, embedding_dim=20)  # 58 words in vocab, 20 dimensional embeddings\n",
    "embeds"
   ]
  },
  {
   "cell_type": "markdown",
   "metadata": {},
   "source": [
    "我们尝试使用上面的 embeds 模型将 first_context 向量化："
   ]
  },
  {
   "cell_type": "code",
   "execution_count": 40,
   "metadata": {},
   "outputs": [
    {
     "name": "stdout",
     "output_type": "stream",
     "text": [
      "tensor([[-0.7294,  0.5238, -0.0033, -0.1415,  0.2730, -0.5259, -0.9415,  1.3637,\n",
      "         -0.9278, -1.4225, -1.5137,  0.1082, -0.7336,  0.9111,  1.2902,  0.0399,\n",
      "          0.2653,  0.6930,  1.0074,  0.0483],\n",
      "        [-0.9999,  1.1559, -1.0390,  1.2571, -0.9196,  0.5568, -0.2764, -0.7657,\n",
      "          1.5624,  0.9459,  0.1284,  0.7037, -0.9738, -1.6594,  0.9767,  0.1253,\n",
      "         -0.2701, -0.5471,  0.9857,  1.0711],\n",
      "        [ 0.6238, -0.0821,  0.1957,  0.6610,  0.1671, -1.4554, -0.7909,  0.3359,\n",
      "          0.9374, -0.6158,  0.0269, -1.5926, -0.6403, -0.2427,  0.6413, -0.0834,\n",
      "         -0.3291, -0.4984, -0.4400, -0.1743],\n",
      "        [ 0.0564, -0.1179, -0.5898, -0.8935, -1.6001, -1.8835,  0.4199,  0.1604,\n",
      "          1.1381, -0.5972,  0.1693,  0.3179,  0.8563,  1.2030,  0.0385,  1.2301,\n",
      "         -1.4059,  0.3539, -1.1746, -1.3560]], grad_fn=<EmbeddingBackward>)\n"
     ]
    }
   ],
   "source": [
    "first_context_embed = embeds(first_context)\n",
    "print(first_context_embed)"
   ]
  },
  {
   "cell_type": "markdown",
   "metadata": {},
   "source": [
    "可以看出已经成功的完成了我们向量化的第一步实验，接下来的任务就是把所有的上下文和目标单词向量化，然后建立一个 CBOW 模型对这些向量进行训练。\n",
    "\n",
    "顺便看看 embeds 的初始化，应当是随机初始化了一个符合标准正态分布 $ N(0,1) $的 58 行，20 列的矩阵。"
   ]
  },
  {
   "cell_type": "code",
   "execution_count": 47,
   "metadata": {},
   "outputs": [
    {
     "data": {
      "text/plain": [
       "Parameter containing:\n",
       "tensor([[-1.1007, -0.1941,  2.2328,  ..., -0.8124, -0.8811, -0.2669],\n",
       "        [-0.2247,  0.3493, -0.4147,  ...,  0.9627, -0.2674, -1.2740],\n",
       "        [-2.1191, -0.6800, -0.7205,  ..., -0.7623,  1.3541, -0.5149],\n",
       "        ...,\n",
       "        [-0.0924, -1.3570, -0.1421,  ...,  1.6972, -1.1635, -1.1725],\n",
       "        [ 0.1829, -1.2565, -0.4906,  ..., -0.7481, -1.0837, -0.4727],\n",
       "        [-0.5400,  0.8668, -1.8730,  ..., -1.2223,  0.6370, -1.0238]],\n",
       "       requires_grad=True)"
      ]
     },
     "execution_count": 47,
     "metadata": {},
     "output_type": "execute_result"
    }
   ],
   "source": [
    "embeds.weight"
   ]
  },
  {
   "cell_type": "code",
   "execution_count": null,
   "metadata": {
    "collapsed": true
   },
   "outputs": [],
   "source": []
  },
  {
   "cell_type": "code",
   "execution_count": null,
   "metadata": {
    "collapsed": true
   },
   "outputs": [],
   "source": []
  },
  {
   "cell_type": "code",
   "execution_count": null,
   "metadata": {
    "collapsed": true
   },
   "outputs": [],
   "source": []
  },
  {
   "cell_type": "code",
   "execution_count": null,
   "metadata": {
    "collapsed": true
   },
   "outputs": [],
   "source": []
  },
  {
   "cell_type": "code",
   "execution_count": null,
   "metadata": {
    "collapsed": true
   },
   "outputs": [],
   "source": []
  },
  {
   "cell_type": "code",
   "execution_count": null,
   "metadata": {
    "collapsed": true
   },
   "outputs": [],
   "source": []
  }
 ],
 "metadata": {
  "kernelspec": {
   "display_name": "Python 3",
   "language": "python",
   "name": "python3"
  },
  "language_info": {
   "codemirror_mode": {
    "name": "ipython",
    "version": 3
   },
   "file_extension": ".py",
   "mimetype": "text/x-python",
   "name": "python",
   "nbconvert_exporter": "python",
   "pygments_lexer": "ipython3",
   "version": "3.6.1"
  }
 },
 "nbformat": 4,
 "nbformat_minor": 2
}
