{
 "cells": [
  {
   "cell_type": "code",
   "execution_count": 1,
   "metadata": {},
   "outputs": [],
   "source": [
    "import torch\n",
    "import torch.nn as nn"
   ]
  },
  {
   "cell_type": "markdown",
   "metadata": {},
   "source": [
    "## 搭建单个RNN单元"
   ]
  },
  {
   "cell_type": "code",
   "execution_count": 48,
   "metadata": {},
   "outputs": [],
   "source": [
    "rnn = nn.RNN(input_size=10, hidden_size=20, num_layers=2)  # input_size, hidden_size, num_layers \n",
    "inputs = torch.randn(size=(5, 3, 10))  # 正态分布"
   ]
  },
  {
   "cell_type": "code",
   "execution_count": 49,
   "metadata": {},
   "outputs": [
    {
     "data": {
      "text/plain": [
       "RNN(10, 20, num_layers=2)"
      ]
     },
     "execution_count": 49,
     "metadata": {},
     "output_type": "execute_result"
    }
   ],
   "source": [
    "rnn"
   ]
  },
  {
   "cell_type": "code",
   "execution_count": 50,
   "metadata": {},
   "outputs": [
    {
     "data": {
      "text/plain": [
       "tensor([[[ 0.7350, -0.8961,  0.0709,  0.7463, -0.4309,  0.8535, -0.2909,\n",
       "          -1.3691, -0.3831,  2.0557],\n",
       "         [-1.8713,  2.0652, -1.0637,  0.5521,  2.5109, -1.1015, -1.2256,\n",
       "          -0.3596, -1.1402,  0.1440],\n",
       "         [-1.9792, -1.6188,  0.9023,  0.8050, -0.4582, -0.7212, -0.8015,\n",
       "          -0.5024,  0.3903, -0.0097]],\n",
       "\n",
       "        [[-0.4755,  0.4532, -0.6308, -2.0563,  0.1122,  1.1729,  1.8797,\n",
       "          -0.6965,  1.2261,  2.2273],\n",
       "         [-1.0808,  0.1309, -1.5529, -0.3252, -0.2934, -0.8223,  0.7329,\n",
       "          -0.3295, -0.6942, -1.0821],\n",
       "         [ 1.3426,  1.5326, -0.0291, -0.1139, -1.0217, -0.0361,  0.6143,\n",
       "           0.4283,  0.8799,  0.0436]],\n",
       "\n",
       "        [[ 0.3705, -0.5844,  0.6098,  0.1159,  1.3740, -0.3710,  0.7255,\n",
       "           1.5059, -0.0709,  1.0943],\n",
       "         [-0.5185,  0.4568,  1.9938, -0.9012,  0.2416,  0.9035, -1.9340,\n",
       "          -1.2388, -0.6410,  1.7924],\n",
       "         [ 0.2430, -0.4100, -1.1232, -0.1776, -0.3782,  0.3777, -1.2422,\n",
       "          -0.8133,  0.5216,  0.9780]],\n",
       "\n",
       "        [[-0.1262, -0.4212, -1.0405, -0.3108, -0.1159,  0.4854, -0.4859,\n",
       "          -0.5949,  1.0985, -0.6890],\n",
       "         [-0.0728,  0.9260, -1.0777,  0.1455,  0.6949,  0.4921,  0.3014,\n",
       "          -0.6345, -0.0553, -0.5506],\n",
       "         [ 1.5661, -0.9386,  0.6970,  1.2698, -0.1663,  0.0044, -0.6423,\n",
       "           1.0128, -0.1075,  1.1615]],\n",
       "\n",
       "        [[-0.5483,  1.2365,  0.8067, -1.6387, -0.1298,  0.8504,  0.1330,\n",
       "           0.1069, -0.5636, -1.0610],\n",
       "         [-1.1637,  1.5363, -1.2457, -0.8590, -0.5322,  1.0773, -0.4295,\n",
       "           1.6504,  0.9171,  0.8181],\n",
       "         [ 1.2660, -1.2819, -1.8484,  1.2245,  0.9567,  0.6166, -1.5431,\n",
       "          -0.5708,  0.2031,  0.7605]]])"
      ]
     },
     "execution_count": 50,
     "metadata": {},
     "output_type": "execute_result"
    }
   ],
   "source": [
    "inputs"
   ]
  },
  {
   "cell_type": "code",
   "execution_count": 51,
   "metadata": {},
   "outputs": [],
   "source": [
    "h0 = torch.randn(2, 3, 20)  # num_layers * num_directions, batch, hidden_size"
   ]
  },
  {
   "cell_type": "code",
   "execution_count": 52,
   "metadata": {},
   "outputs": [
    {
     "data": {
      "text/plain": [
       "tensor([[[-1.6487e+00,  8.6497e-01,  1.4757e-01, -5.4423e-01,  1.0185e+00,\n",
       "          -4.8878e-02,  1.1684e+00,  6.2532e-01, -2.4517e-01,  3.9847e-01,\n",
       "          -2.7420e-01,  1.0595e-01,  7.2219e-01,  1.3134e+00, -5.6978e-01,\n",
       "          -2.7002e-01,  6.1433e-01,  6.0535e-01,  1.1959e+00,  2.7301e-01],\n",
       "         [ 1.1316e+00, -1.5059e+00, -3.1731e-01,  8.5932e-01, -2.3278e+00,\n",
       "          -1.1793e+00, -2.9268e-01, -9.0793e-01, -1.7893e-01, -4.5446e-02,\n",
       "          -8.3601e-01, -1.9228e+00,  4.6280e-01,  5.9375e-01,  1.6499e+00,\n",
       "           1.0012e+00, -1.4484e+00,  1.9789e-01, -1.7487e+00, -1.8381e+00],\n",
       "         [ 2.3542e-01,  1.0968e+00,  4.5022e-02,  7.8399e-02,  9.0842e-01,\n",
       "          -1.8385e-01,  7.0343e-01,  1.0841e+00, -3.5197e-01, -6.9707e-01,\n",
       "          -3.0907e-01, -8.3809e-01,  5.4325e-01, -3.6371e-01,  7.6799e-01,\n",
       "           3.2552e-01, -2.1579e+00,  3.7934e-01,  5.0900e-01, -4.0110e-01]],\n",
       "\n",
       "        [[-2.0235e+00, -3.3025e-01, -6.0217e-01, -5.9251e-02,  1.3197e+00,\n",
       "          -3.8077e-01,  1.1096e-01,  1.2165e+00,  8.0382e-01, -1.5218e+00,\n",
       "           5.3893e-01,  6.2159e-01,  1.0396e+00, -5.2847e-01, -4.4099e-01,\n",
       "          -1.7612e+00,  1.6504e-01,  2.4012e+00, -7.4092e-01, -9.4571e-01],\n",
       "         [-7.9403e-01, -3.2973e-01, -7.4219e-01,  2.8352e-01,  6.4226e-01,\n",
       "          -6.9803e-01, -5.5702e-01, -6.6057e-01, -9.7670e-02, -1.5747e+00,\n",
       "           4.1666e-01,  1.0872e+00, -2.2165e-02, -3.8362e-01,  1.1341e-01,\n",
       "           1.0329e+00, -5.1025e-01, -5.9279e-01,  1.9950e+00, -1.2146e+00],\n",
       "         [ 9.2024e-01, -1.6350e+00, -5.0990e-04,  1.2625e+00, -1.8307e-01,\n",
       "          -1.2251e+00,  8.7855e-01,  1.0262e+00,  1.3541e+00,  7.5936e-01,\n",
       "           3.6026e-01,  1.5877e+00,  7.8785e-02, -1.1787e-01,  2.2832e+00,\n",
       "           5.0426e-01, -9.9405e-01,  9.8221e-01,  5.0094e-01,  9.1638e-01]]])"
      ]
     },
     "execution_count": 52,
     "metadata": {},
     "output_type": "execute_result"
    }
   ],
   "source": [
    "h0"
   ]
  },
  {
   "cell_type": "code",
   "execution_count": 53,
   "metadata": {},
   "outputs": [],
   "source": [
    "output, hn = rnn(inputs, h0)"
   ]
  },
  {
   "cell_type": "code",
   "execution_count": 54,
   "metadata": {},
   "outputs": [
    {
     "data": {
      "text/plain": [
       "torch.Size([5, 3, 20])"
      ]
     },
     "execution_count": 54,
     "metadata": {},
     "output_type": "execute_result"
    }
   ],
   "source": [
    "output.shape"
   ]
  },
  {
   "cell_type": "code",
   "execution_count": 56,
   "metadata": {},
   "outputs": [
    {
     "data": {
      "text/plain": [
       "torch.Size([2, 3, 20])"
      ]
     },
     "execution_count": 56,
     "metadata": {},
     "output_type": "execute_result"
    }
   ],
   "source": [
    "hn.shape"
   ]
  },
  {
   "cell_type": "markdown",
   "metadata": {},
   "source": [
    "可以看出输入输出以及隐藏层 $h$ 的 `shape` 是一致的。"
   ]
  },
  {
   "cell_type": "markdown",
   "metadata": {},
   "source": [
    "## 搭建正式的RNN网络"
   ]
  },
  {
   "cell_type": "code",
   "execution_count": null,
   "metadata": {},
   "outputs": [],
   "source": []
  },
  {
   "cell_type": "code",
   "execution_count": null,
   "metadata": {},
   "outputs": [],
   "source": []
  },
  {
   "cell_type": "code",
   "execution_count": null,
   "metadata": {},
   "outputs": [],
   "source": []
  },
  {
   "cell_type": "code",
   "execution_count": null,
   "metadata": {},
   "outputs": [],
   "source": []
  },
  {
   "cell_type": "code",
   "execution_count": null,
   "metadata": {},
   "outputs": [],
   "source": []
  },
  {
   "cell_type": "code",
   "execution_count": null,
   "metadata": {},
   "outputs": [],
   "source": []
  },
  {
   "cell_type": "code",
   "execution_count": null,
   "metadata": {},
   "outputs": [],
   "source": []
  },
  {
   "cell_type": "code",
   "execution_count": null,
   "metadata": {},
   "outputs": [],
   "source": []
  },
  {
   "cell_type": "code",
   "execution_count": null,
   "metadata": {},
   "outputs": [],
   "source": []
  },
  {
   "cell_type": "code",
   "execution_count": null,
   "metadata": {},
   "outputs": [],
   "source": []
  }
 ],
 "metadata": {
  "kernelspec": {
   "display_name": "Python 3",
   "language": "python",
   "name": "python3"
  },
  "language_info": {
   "codemirror_mode": {
    "name": "ipython",
    "version": 3
   },
   "file_extension": ".py",
   "mimetype": "text/x-python",
   "name": "python",
   "nbconvert_exporter": "python",
   "pygments_lexer": "ipython3",
   "version": "3.6.9"
  }
 },
 "nbformat": 4,
 "nbformat_minor": 2
}
