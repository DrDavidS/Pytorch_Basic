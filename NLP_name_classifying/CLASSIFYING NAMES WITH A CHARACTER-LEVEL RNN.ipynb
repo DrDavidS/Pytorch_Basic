{
 "cells": [
  {
   "cell_type": "markdown",
   "metadata": {},
   "source": [
    "# 使用RNN进行名字分类\n",
    "\n",
    "参考链接：[CLASSIFYING NAMES WITH A CHARACTER-LEVEL RNN](https://pytorch.org/tutorials/intermediate/char_rnn_classification_tutorial.html#classifying-names-with-a-character-level-rnn)\n",
    "\n",
    "在这个demo中，我们会构建并训练基本的字符级别的RNN来对单词进行分类。\n",
    "\n",
    "我们将会训练来自18种语言的几千个姓氏，并根据拼写预测名称来自哪个语言。\n",
    "\n",
    "## 前置技能\n",
    "\n",
    "- 已经安装好了PyTorch\n",
    "- 知道 Python 的用法\n",
    "- 了解 PyTorch 和 Tensor 的用法\n",
    "- 了解 RNN 的用途和工作方式\n",
    "- （可选）了解 LSTM 网络\n",
    "\n",
    "## 代码分析\n",
    "\n",
    "这里我们会对代码进行一定的分析，因为源代码中有一些比较少用的或者冷门的方法。原链接中缺乏比较详细的分析，这里会有一定讲解，没学过的正好学一学，学过的就当复习。\n",
    "\n",
    ">记得先下载数据集！\n",
    "\n",
    "### 准备数据"
   ]
  },
  {
   "cell_type": "code",
   "execution_count": 1,
   "metadata": {},
   "outputs": [
    {
     "name": "stdout",
     "output_type": "stream",
     "text": [
      "['data/names/Japanese.txt', 'data/names/Portuguese.txt', 'data/names/Chinese.txt', 'data/names/French.txt', 'data/names/Polish.txt', 'data/names/Russian.txt', 'data/names/Spanish.txt', 'data/names/Vietnamese.txt', 'data/names/Scottish.txt', 'data/names/Czech.txt', 'data/names/Korean.txt', 'data/names/German.txt', 'data/names/Dutch.txt', 'data/names/Greek.txt', 'data/names/English.txt', 'data/names/Arabic.txt', 'data/names/Irish.txt', 'data/names/Italian.txt']\n"
     ]
    }
   ],
   "source": [
    "from io import open\n",
    "import glob\n",
    "import os\n",
    "\n",
    "def findFiles(path): return glob.glob(path)\n",
    "\n",
    "print(findFiles('data/names/*.txt'))"
   ]
  },
  {
   "cell_type": "markdown",
   "metadata": {},
   "source": [
    "上面这段代码要注意的是：\n",
    "\n",
    "```Python\n",
    "import glob\n",
    "\n",
    "def findFiles(path): return glob.glob(path)\n",
    "```\n",
    "\n",
    "在这段代码中，glob.glob() 方法起到的作用是返回所有路径下符合条件的文件名列表。\n",
    "\n",
    "在这里，我们的数据集是保存在多个 .txt 文件中的，所以我们会利用 glob 方法来搜索 .txt 文件，然后打印出来。\n",
    "\n",
    "```Python\n",
    "print(findFiles('data/names/*.txt'))\n",
    "```\n",
    "\n",
    "可以看见输出了一个列表，列表中的每个元素都是当前路径下txt文件的路径。"
   ]
  },
  {
   "cell_type": "code",
   "execution_count": 2,
   "metadata": {},
   "outputs": [
    {
     "name": "stdout",
     "output_type": "stream",
     "text": [
      "abcdefghijklmnopqrstuvwxyzABCDEFGHIJKLMNOPQRSTUVWXYZ .,;'\n",
      "57\n",
      "Slusarski\n",
      "Kluft skrams infor pa federal electoral groe\n"
     ]
    }
   ],
   "source": [
    "import unicodedata\n",
    "import string\n",
    "\n",
    "all_letters = string.ascii_letters + \" .,;'\"\n",
    "n_letters = len(all_letters)\n",
    "\n",
    "print(all_letters)\n",
    "print(n_letters)\n",
    "\n",
    "# Turn a Unicode string to plain ASCII, thanks to https://stackoverflow.com/a/518232/2809427\n",
    "def unicodeToAscii(s):\n",
    "    return ''.join(\n",
    "        c for c in unicodedata.normalize('NFD', s)\n",
    "        if unicodedata.category(c) != 'Mn'\n",
    "        and c in all_letters\n",
    "    )\n",
    "\n",
    "print(unicodeToAscii('Ślusàrski'))\n",
    "print(unicodeToAscii('Klüft skräms inför på fédéral électoral große'))\n"
   ]
  },
  {
   "cell_type": "markdown",
   "metadata": {},
   "source": [
    "上面一段代码主要是将字符串从 Unicode 编码转换为 ASCII 编码。\n",
    "\n",
    "参考链接1：[What is the best way to remove accents in a Python unicode string?](https://stackoverflow.com/questions/517923/what-is-the-best-way-to-remove-accents-in-a-python-unicode-string/518232#518232)\n",
    "\n",
    "参考链接2：[python unicodedata用法](https://blog.csdn.net/xc_zhou/article/details/82079753)\n",
    "\n",
    "参考链接3：[Python3基础:String模块ascii_letters和digits](https://blog.csdn.net/killmice/article/details/53118884)\n",
    "\n",
    "------------------\n",
    "其中：\n",
    "\n",
    "> ```Python\n",
    "> all_letters = string.ascii_letters + \" .,;'\"\n",
    "> n_letters = len(all_letters)\n",
    "> ```\n",
    "\n",
    "这里 string.ascii_letters 生成了ASCII编码的英文大小写字母，外加三个标点符号，然后存入all_letters。\n",
    "\n",
    "n_letters 则输出了总长度。这里主要是为了后面的字符转换做准备。\n",
    "\n",
    "----------------------------------------\n",
    "然后：\n",
    "\n",
    "> ```Python\n",
    "> def unicodeToAscii(s):\n",
    ">     return ''.join(\n",
    ">         c for c in unicodedata.normalize('NFD', s)\n",
    ">         if unicodedata.category(c) != 'Mn'\n",
    ">         and c in all_letters\n",
    ">     )\n",
    "> ```\n",
    "\n",
    "- unicodedata.normalize(form, unistr)：把一串 Unicode 字符串转换为普通格式的字符串。\n",
    "\n",
    "   Unicode标准定义了四种规范化形式： \n",
    "   > Normalization Form D (NFD)\n",
    "   >\n",
    "   > Normalization Form KD (NFKD)\n",
    "   >\n",
    "   > Normalization Form C (NFC)\n",
    "   >\n",
    "   > Normalization Form KC (NFKC)\n",
    "   \n",
    "   NFD和NFKD将可能的字符进行分解，而NFC和NFKC将可能的字符进行组合。\n",
    "\n",
    "\n",
    "- unicodedata.category(chr)：该方法返回的是字符在 Unicode 里面的分型，其中‘Mn’表示‘[Mark, Nonspacing](http://www.fileformat.info/info/unicode/category/Mn/list.htm)’类型，主要是一些符号。\n",
    "\n",
    "------------------------\n",
    "\n",
    "总而言之，这段代码就是先把 Unicode 编码转换为普通格式字符，同时保证这些字符是英文字符，例如：\n",
    "\n",
    ">转换前：Klüft skräms inför på fédéral électoral große\n",
    ">\n",
    ">转换后：Kluft skrams infor pa federal electoral groe"
   ]
  },
  {
   "cell_type": "code",
   "execution_count": 3,
   "metadata": {},
   "outputs": [],
   "source": [
    "# Build the category_lines dictionary, a list of names per language\n",
    "category_lines = {}\n",
    "all_categories = []"
   ]
  },
  {
   "cell_type": "markdown",
   "metadata": {},
   "source": [
    "首先我们建立一个空字典和一个空列表。"
   ]
  },
  {
   "cell_type": "code",
   "execution_count": 4,
   "metadata": {},
   "outputs": [],
   "source": [
    "# Read a file and split into lines\n",
    "def readLines(filename):\n",
    "    lines = open(filename, encoding='utf-8').read().strip().split('\\n')\n",
    "    return [unicodeToAscii(line) for line in lines]"
   ]
  },
  {
   "cell_type": "markdown",
   "metadata": {},
   "source": [
    "然后我们编写一个函数，该函数的作用是把某个 .txt 文件中的每一行读进lines，同时进行ASCII转换。"
   ]
  },
  {
   "cell_type": "code",
   "execution_count": 5,
   "metadata": {},
   "outputs": [],
   "source": [
    "for filename in findFiles('data/names/*.txt'):\n",
    "    category = os.path.splitext(os.path.basename(filename))[0]  # 获取分类\n",
    "    all_categories.append(category)  # 分类添加到list\n",
    "    lines = readLines(filename)  # 每一行读取\n",
    "    category_lines[category] = lines  # 把相关字符和对应分类放入字典\n",
    "\n",
    "n_categories = len(all_categories)"
   ]
  },
  {
   "cell_type": "markdown",
   "metadata": {},
   "source": [
    "现在我们有category_lines，一个将每个类别（语言）映射到一个行（名称）列表的字典。\n",
    "\n",
    "我们还有all_categories（语言列表）和 n_categories （语言数量）供以后参考。\n",
    "\n",
    "测试一下意大利语、法语前五个名字？"
   ]
  },
  {
   "cell_type": "code",
   "execution_count": 6,
   "metadata": {},
   "outputs": [
    {
     "name": "stdout",
     "output_type": "stream",
     "text": [
      "['Abandonato', 'Abatangelo', 'Abatantuono', 'Abate', 'Abategiovanni']\n",
      "['Abel', 'Abraham', 'Adam', 'Albert', 'Allard']\n"
     ]
    }
   ],
   "source": [
    "print(category_lines['Italian'][:5])\n",
    "print(category_lines['French'][:5])"
   ]
  },
  {
   "cell_type": "markdown",
   "metadata": {},
   "source": [
    "现在我们需要将名称转化为 Tensor 来使用它们。\n",
    "\n",
    "假设你知道什么叫 One-Hot 编码，或者叫独热编码（如果不懂快去查一查，很简单的一种表示方法）。我们把单个字母都表示成这种独热编码矢量，比如字母 b 可以表示为 <0 1 0 0 0 ... 0 0 0>。\n",
    "\n",
    "为了形成一个单词，我们会将其加入到一个二维矩阵中，矩阵形式为<line_length x 1 x n_letters>。\n",
    "\n",
    "其中，额外出现了1个维度，因为PyTorch假设所有东西都是（batches）批量的，这里我们的batch size是1。\n",
    "\n",
    "--------------------\n",
    "\n",
    "接下来我们看代码："
   ]
  },
  {
   "cell_type": "code",
   "execution_count": 7,
   "metadata": {},
   "outputs": [],
   "source": [
    "import torch\n",
    "\n",
    "# Find letter index from all_letters, e.g. \"a\" = 0\n",
    "def letterToIndex(letter):\n",
    "    return all_letters.find(letter)"
   ]
  },
  {
   "cell_type": "markdown",
   "metadata": {},
   "source": [
    "这部分代码首先导入了torch。\n",
    "\n",
    "然后编写一个函数：输入一个字母，然后在all_letters里面找到字母的索引，比如\"a\"的索引就是0。"
   ]
  },
  {
   "cell_type": "code",
   "execution_count": 8,
   "metadata": {},
   "outputs": [],
   "source": [
    "# Just for demonstration, turn a letter into a <1 x n_letters> Tensor\n",
    "def letterToTensor(letter):\n",
    "    tensor = torch.zeros(1, n_letters)\n",
    "    tensor[0][letterToIndex(letter)] = 1\n",
    "    return tensor"
   ]
  },
  {
   "cell_type": "markdown",
   "metadata": {},
   "source": [
    "这个函数的作用是把字母转化为 Tensor。\n",
    "\n",
    "1. 首先建立一个全为0的 Tensor\n",
    "2. 其次使用letterToIndex()函数把tensor中字母的对应index转化为1（独热编码）\n",
    "3. 返回字母对应的独热码tensor\n",
    "\n",
    "可以通过如下代码验证："
   ]
  },
  {
   "cell_type": "code",
   "execution_count": 9,
   "metadata": {},
   "outputs": [
    {
     "data": {
      "text/plain": [
       "tensor([[0., 0., 0., 0., 0., 0., 0., 0., 0., 0., 0., 0., 0., 0., 0., 0., 0., 0., 0., 0., 0., 0., 0., 0.,\n",
       "         0., 0., 0., 0., 0., 0., 0., 0., 0., 0., 0., 0., 0., 0., 0., 0., 0., 0., 0., 0., 0., 0., 0., 0.,\n",
       "         0., 0., 0., 0., 0., 0., 0., 0., 0.]])"
      ]
     },
     "execution_count": 9,
     "metadata": {},
     "output_type": "execute_result"
    }
   ],
   "source": [
    "tensor_zero = torch.zeros(1, n_letters)\n",
    "tensor_zero"
   ]
  },
  {
   "cell_type": "code",
   "execution_count": 10,
   "metadata": {},
   "outputs": [
    {
     "name": "stdout",
     "output_type": "stream",
     "text": [
      "tensor([[1., 0., 0., 0., 0., 0., 0., 0., 0., 0., 0., 0., 0., 0., 0., 0., 0., 0.,\n",
      "         0., 0., 0., 0., 0., 0., 0., 0., 0., 0., 0., 0., 0., 0., 0., 0., 0., 0.,\n",
      "         0., 0., 0., 0., 0., 0., 0., 0., 0., 0., 0., 0., 0., 0., 0., 0., 0., 0.,\n",
      "         0., 0., 0.]])\n",
      "torch.Size([1, 57])\n"
     ]
    }
   ],
   "source": [
    "tensor_a = letterToTensor('a')\n",
    "print(tensor_a)\n",
    "print(tensor_a.size())"
   ]
  },
  {
   "cell_type": "markdown",
   "metadata": {},
   "source": [
    "并且我们知道了，57指代的是大小写字母加四个标点符号。"
   ]
  },
  {
   "cell_type": "code",
   "execution_count": 12,
   "metadata": {},
   "outputs": [
    {
     "name": "stdout",
     "output_type": "stream",
     "text": [
      "tensor([[0., 0., 0., 0., 0., 0., 0., 0., 0., 0., 0., 0., 0., 0., 0., 0., 0., 0.,\n",
      "         0., 0., 0., 0., 0., 0., 0., 0., 0., 0., 0., 0., 0., 0., 0., 0., 0., 1.,\n",
      "         0., 0., 0., 0., 0., 0., 0., 0., 0., 0., 0., 0., 0., 0., 0., 0., 0., 0.,\n",
      "         0., 0., 0.]])\n",
      "torch.Size([5, 1, 57])\n"
     ]
    }
   ],
   "source": [
    "# Turn a line into a <line_length x 1 x n_lettes>,\n",
    "# or an array of one-hot letter vectors\n",
    "def lineToTensor(line):\n",
    "    tensor = torch.zeros(len(line), 1, n_letters)\n",
    "    for li, letter in enumerate(line):\n",
    "        tensor[li][0][letterToIndex(letter)] = 1\n",
    "    return tensor\n",
    "\n",
    "print(letterToTensor('J'))\n",
    "\n",
    "print(lineToTensor('Jones').size())"
   ]
  },
  {
   "cell_type": "markdown",
   "metadata": {},
   "source": [
    "这里的函数就是把单词转化为一个三维tensor矩阵了，矩阵的每一个切片代表一个字母。\n",
    "\n",
    "以 'Jones' 为例，lineToTensor() 函数输出了一个 5×1×57 的三维矩阵。5表示有五个字母。\n",
    "\n",
    "### 搭建网络\n",
    "\n",
    "在 Torch 中创建一个[循环神经网络](https://pytorch.org/tutorials/beginner/former_torchies/nnft_tutorial.html#example-2-recurrent-net)。\n",
    "\n",
    "这个RNN模块只有两个线性层，在输入和隐藏层运行，然后输出到 LogSoftmax 层，是一个很简单的结构。\n",
    "\n"
   ]
  },
  {
   "cell_type": "code",
   "execution_count": 25,
   "metadata": {},
   "outputs": [
    {
     "name": "stdout",
     "output_type": "stream",
     "text": [
      "CUDA is available.\n"
     ]
    }
   ],
   "source": [
    "import torch.nn as nn\n",
    "\n",
    "class RNN(nn.Module):\n",
    "    def __init__(self, input_size, hidden_size, output_size):\n",
    "        super(RNN, self).__init__()\n",
    "\n",
    "        self.hidden_size = hidden_size\n",
    "\n",
    "        self.i2h = nn.Linear(input_size + hidden_size, hidden_size)\n",
    "        self.i2o = nn.Linear(input_size + hidden_size, output_size)\n",
    "        self.softmax = nn.LogSoftmax(dim=1)\n",
    "\n",
    "    def forward(self, input, hidden):\n",
    "        combined = torch.cat((input, hidden), 1)\n",
    "        hidden = self.i2h(combined)\n",
    "        output = self.i2o(combined)\n",
    "        output = self.softmax(output)\n",
    "        return output, hidden\n",
    "\n",
    "    def initHidden(self):\n",
    "        return torch.zeros(1, self.hidden_size)\n",
    "\n",
    "n_hidden = 128\n",
    "rnn = RNN(n_letters, n_hidden, n_categories)\n",
    "\n",
    "if torch.cuda.is_available():  # 如果GPU可以使用\n",
    "    rnn = rnn.cuda()\n",
    "    print(\"CUDA is available.\")"
   ]
  },
  {
   "cell_type": "markdown",
   "metadata": {},
   "source": [
    "简单过一下RNN结构：\n",
    "\n",
    "![RNN](RNN.png)\n",
    "\n",
    "在代码中：\n",
    "\n",
    "> ```Python\n",
    "> self.i2h = nn.Linear(input_size + hidden_size, hidden_size)\n",
    "> ```\n",
    "\n",
    "这段代码代表的就是隐藏状态$ h^{(t)} $，接收的是$ Wh^{(t-1)} + Ux^{(t)} $的经过线性变换输出，其中 t 是时间步，注意：这里没有写激活函数 tanh 和偏置b。\n",
    "\n",
    "> ```Python\n",
    "> self.i2o = nn.Linear(input_size + hidden_size, output_size)\n",
    "> ```\n",
    "\n",
    "这段代码代表的则是输入$ Wh^{(t-1)} + Ux^{(t)} $，经过线性变换到输出$ o^{(t)} $。\n",
    "\n",
    "直观上来看这里似乎和公式不大一样？\n",
    "\n",
    "根据 RNN 的更新方程（参见《深度学习》第10章）考虑到\n",
    "\n",
    "1. $ o^{(t)} = c + Vh^{(t)} $，其中$ c $是偏置，这里$ c $为$ 0 $，所以有：\n",
    "\n",
    "\n",
    "2. $ o^{(t)} = Vh^{(t)} $，已知$ h^{(t)} = Wh^{(t-1)} + Ux^{(t)}$，故：\n",
    "\n",
    "\n",
    "3. $ o^{(t)} = V(Wh^{(t-1)} + Ux^{(t)}) = VWh^{(t-1)} + VUx^{(t)} $\n",
    "\n",
    "应当依旧是一个关于$ h^{(t-1)} $和$ x^{(t)} $的线性变换，所以依旧用一个Linear层实现。\n",
    "\n",
    "最后，输出再经过一次softmax计算即可。\n",
    "\n",
    "----------------------\n",
    "接下来再看看前向传播的结构，首先：\n",
    "> ```Python\n",
    "> combined = torch.cat((input, hidden), 1)\n",
    "> ```\n",
    "\n",
    "这条代码中， torch.cat() 就是将两个 tensor 拼接在一起，0表示按维度0（行，竖着）拼接，1表示按维度1（列，横着）拼接。\n",
    "\n",
    "这里将本时间步的 input 和 上一时间步的 hidden 拼接起来，存入 combined 中，即公式：$ Wh^{(t-1)} + Ux^{(t)} $ 。\n",
    "\n",
    "---------------------------------------\n",
    "接下来：\n",
    "> ```Python\n",
    "> hidden = self.i2h(combined)\n",
    "> output = self.i2o(combined)\n",
    "> ```\n",
    "\n",
    "这两条代码表示隐藏层hidden的更新（从$ h^{(t)} $到$ h^{(t-1)} $），同时输出$ o^{(t)} $。\n",
    "\n",
    "-------------------------------------\n",
    "最后：\n",
    "> ```Python\n",
    "> output = self.softmax(output)\n",
    "> ```\n",
    "表示使用 softmax 函数对$ o^{(t)} $做一个多分类（概率之和为1），即公式：$ \\vec{y} = softmax(o^{(t)}) $。\n",
    "\n",
    "到这里位置，RNN 网络就基本编写完成了，剩下的就是隐藏层初始化，全部置零即可，这里不多讲。\n",
    "\n",
    "-------------------------------\n",
    "> ```Python\n",
    "> n_hidden = 128\n",
    "> rnn = RNN(n_letters, n_hidden, n_categories)\n",
    "> ```\n",
    "\n",
    "回顾一下：\n",
    "\n",
    "- n_letters：57，就是大小写英文字母加四个字符的数量\n",
    "- n_hidden：128，人工设定的超参数。\n",
    "- n_categories：18，语言种类数量。\n",
    "\n",
    "### 运行网络\n",
    "\n",
    "由于RNN的特殊性，我们在开始运行网络的时候，除了传递一个输入$ x^{(t)} $以外，还需要传递一个隐藏状态$ h^{(t-1)} $，这里在最开始的时候我们是没有这个隐藏状态信息的，因此我们人工将其置零。\n",
    "\n",
    "以下是例子："
   ]
  },
  {
   "cell_type": "code",
   "execution_count": 29,
   "metadata": {},
   "outputs": [],
   "source": [
    "input = letterToTensor('A')\n",
    "hidden =torch.zeros(1, n_hidden)\n",
    "\n",
    "if torch.cuda.is_available():\n",
    "    input = input.cuda()\n",
    "    hidden = hidden.cuda()\n",
    "\n",
    "output, next_hidden = rnn(input, hidden)"
   ]
  },
  {
   "cell_type": "markdown",
   "metadata": {},
   "source": [
    "上述代码展现了：\n",
    "\n",
    "1. 将字母 'A' 转化为 tensor\n",
    "2. 初始化 RNN 隐藏层，即：将$ h^{(t-1)} $初始化为全0\n",
    "3. 输出output，然后把$ h^{(t-1)} $变为$ h^{(t)} $"
   ]
  },
  {
   "cell_type": "code",
   "execution_count": 39,
   "metadata": {},
   "outputs": [
    {
     "name": "stdout",
     "output_type": "stream",
     "text": [
      "tensor([[-2.9842, -2.9652, -2.9291, -2.8791, -3.0062, -2.8114, -2.9417, -2.8936,\n",
      "         -2.9078, -2.8974, -2.8897, -2.8058, -2.8570, -2.8242, -2.8537, -2.8581,\n",
      "         -2.8200, -2.9323]], device='cuda:0', grad_fn=<LogSoftmaxBackward>)\n"
     ]
    }
   ],
   "source": [
    "input = lineToTensor('Albert')\n",
    "hidden = torch.zeros(1, n_hidden)\n",
    "\n",
    "if torch.cuda.is_available():\n",
    "    input = input.cuda()\n",
    "    hidden = hidden.cuda()\n",
    "\n",
    "output, next_hidden = rnn(input[0], hidden)\n",
    "print(output)"
   ]
  },
  {
   "cell_type": "markdown",
   "metadata": {},
   "source": [
    "出于效率的原因，我们不能一个字母一个字母地创建 Tensor，所以之前编写的函数 lineToTensor() 就有用了，它可以直接把一个单词转化为一个三维的 Tensor。\n",
    "\n",
    "打印输出，我们可以看见输出output，即$ o^{(t)} $是一个 <1 × n_categories> 的 Tensor，其中每个元素都是该单词属于该类别的可能性（越高就越可能）。\n",
    "\n",
    "### 准备训练\n",
    "\n",
    "在正式开始前，我们还要对网络的输出做一些解释，比如我们知道output中包含的是每个类别的可能性，但是这里会有一些可读性上面的问题，所以我们要提取对其做一些处理："
   ]
  },
  {
   "cell_type": "code",
   "execution_count": 40,
   "metadata": {},
   "outputs": [
    {
     "name": "stdout",
     "output_type": "stream",
     "text": [
      "('German', 11)\n"
     ]
    }
   ],
   "source": [
    "def categoryFromOutput(output):\n",
    "    top_n, top_i = output.topk(1)\n",
    "    # print(top_i)\n",
    "    # print(top_n)\n",
    "    category_i = top_i[0].item()\n",
    "    return all_categories[category_i], category_i\n",
    "\n",
    "print(categoryFromOutput(output))"
   ]
  },
  {
   "cell_type": "markdown",
   "metadata": {},
   "source": [
    "实际上这个函数就是把种类的索引变成名称。\n",
    "\n",
    ">```Python\n",
    "top_n, top_i = output.topk(1)\n",
    "category_i = top_i[0].item()\n",
    ">```\n",
    "\n",
    "使用 Tensor.topk 来返回最大值的索引，其中 top_n 是最大值，top_i 是索引。\n",
    "\n",
    "------------------\n",
    "\n",
    "接下来我们快速获取一些训练例子："
   ]
  },
  {
   "cell_type": "code",
   "execution_count": 41,
   "metadata": {},
   "outputs": [
    {
     "name": "stdout",
     "output_type": "stream",
     "text": [
      "category = Arabic / line = Saliba\n",
      "category = Portuguese / line = Cabral\n",
      "category = Polish / line = Brzezicki\n",
      "category = Vietnamese / line = Giang\n",
      "category = French / line = Durand\n",
      "category = Greek / line = Gianakopulos\n",
      "category = Arabic / line = Hanania\n",
      "category = Scottish / line = Burns\n",
      "category = Portuguese / line = Cardozo\n",
      "category = Chinese / line = Hew\n"
     ]
    }
   ],
   "source": [
    "import random\n",
    "\n",
    "def randomChoice(l):\n",
    "    return l[random.randint(0, len(l) - 1)]\n",
    "\n",
    "def randomTrainingExample():\n",
    "    category = randomChoice(all_categories)\n",
    "    line = randomChoice(category_lines[category])\n",
    "    category_tensor = torch.tensor([all_categories.index(category)], dtype=torch.long)\n",
    "    line_tensor = lineToTensor(line)\n",
    "    return category, line, category_tensor, line_tensor\n",
    "\n",
    "for i in range(10):\n",
    "    category, line, category_tensor, line_tensor = randomTrainingExample()\n",
    "    print('category =', category, '/ line =', line)"
   ]
  },
  {
   "cell_type": "markdown",
   "metadata": {},
   "source": [
    "### 开始训练\n",
    "\n",
    "这里要说明的是，我们的损失函数使用的是 torch.nn.NLLLoss() 方法。\n",
    "\n",
    "torch.nn.NLLLoss() 和 torch.nn.CrossEntropyLoss() 的区别在于：CrossEntropyLoss 额外实现了一次 softmax。\n",
    "\n",
    "也就是说：\n",
    "\n",
    "- 如果网络的最后一层输出不带 softmax，就使用 CrossEntropyLoss；\n",
    "- 如果网络的最后返回的已经是 log_softmax，就使用NLLLoss。\n",
    "\n",
    "-----------------\n",
    "\n",
    "在每一轮输入中，我们会：\n",
    "\n",
    "- 创建输入 input 和目标 target 张量（tensors）\n",
    "- 创建一个全为0的初识隐藏状态（hidden state）\n",
    "- 阅读每一个字母，然后\n",
    "    - 为下个字母保持隐藏状态\n",
    "- 把最终输出和目标 target 比较\n",
    "- 反向传播\n",
    "- 返回输出和损失\n"
   ]
  },
  {
   "cell_type": "code",
   "execution_count": 43,
   "metadata": {},
   "outputs": [],
   "source": [
    "criterion = nn.NLLLoss()  # 损失函数\n",
    "\n",
    "learning_rate = 0.005  # 学习率\n",
    "\n",
    "def train(category_tensor, line_tensor):\n",
    "    hidden = rnn.initHidden()  # 初始化隐藏层\n",
    "    if torch.cuda.is_available():\n",
    "        category_tensor = category_tensor.cuda()\n",
    "        line_tensor = line_tensor.cuda()\n",
    "        hidden = hidden.cuda()\n",
    "    rnn.zero_grad()  # 梯度归零\n",
    "\n",
    "    for i in range(line_tensor.size()[0]):\n",
    "        output, hidden = rnn(line_tensor[i], hidden)\n",
    "\n",
    "    loss = criterion(output, category_tensor)  # 损失函数\n",
    "    loss.backward()  # 反向传播\n",
    "\n",
    "    # Add parameters' gradients to their values, multiplied by learning rate\n",
    "    # 这里相当于手动实现的优化器\n",
    "    for p in rnn.parameters():\n",
    "        p.data.add_(-learning_rate, p.grad.data)\n",
    "\n",
    "    return output, loss.item()"
   ]
  },
  {
   "cell_type": "markdown",
   "metadata": {},
   "source": [
    "上述代码定义了训练函数，这个训练函数会返回输出和损失，我们最后取平均损失。"
   ]
  },
  {
   "cell_type": "code",
   "execution_count": 44,
   "metadata": {},
   "outputs": [],
   "source": [
    "import time\n",
    "import math\n",
    "\n",
    "n_iters = 100000\n",
    "print_every = 5000\n",
    "plot_every = 1000\n",
    "\n",
    "# Keep track of losses for plotting\n",
    "current_loss = 0\n",
    "all_losses = []"
   ]
  },
  {
   "cell_type": "markdown",
   "metadata": {},
   "source": [
    "上述设置为画图和跟踪损失函数做准备。"
   ]
  },
  {
   "cell_type": "code",
   "execution_count": 45,
   "metadata": {},
   "outputs": [],
   "source": [
    "def timeSince(since):\n",
    "    now = time.time()\n",
    "    s = now - since\n",
    "    m = math.floor(s / 60)\n",
    "    s -= m * 60\n",
    "    return '%dm %ds' % (m, s)"
   ]
  },
  {
   "cell_type": "markdown",
   "metadata": {},
   "source": [
    "上述函数为时间转换。"
   ]
  },
  {
   "cell_type": "code",
   "execution_count": 46,
   "metadata": {},
   "outputs": [
    {
     "name": "stdout",
     "output_type": "stream",
     "text": [
      "5000 5% (0m 18s) 2.4998 You / Chinese ✗ (Korean)\n",
      "10000 10% (0m 34s) 1.7106 Bach / Vietnamese ✓\n",
      "15000 15% (0m 51s) 2.5848 Chicken / Irish ✗ (Czech)\n",
      "20000 20% (1m 8s) 1.1811 Mclaughlin / Scottish ✓\n",
      "25000 25% (1m 26s) 1.2525 Ta / Vietnamese ✓\n",
      "30000 30% (1m 41s) 2.9325 Ross / Greek ✗ (Scottish)\n",
      "35000 35% (1m 56s) 0.3070 Teshigahara / Japanese ✓\n",
      "40000 40% (2m 13s) 3.4039 Gavril / French ✗ (Greek)\n",
      "45000 45% (2m 33s) 0.5393 Schneiders / Dutch ✓\n",
      "50000 50% (2m 50s) 1.0933 Komine / Japanese ✓\n",
      "55000 55% (3m 7s) 2.4431 Chaim / Korean ✗ (Chinese)\n",
      "60000 60% (3m 24s) 0.9031 Sneiders / Dutch ✓\n",
      "65000 65% (3m 38s) 1.5369 Hong / Chinese ✗ (Korean)\n",
      "70000 70% (3m 53s) 0.6943 Lavoie / French ✓\n",
      "75000 75% (4m 11s) 1.5824 Nunes / Portuguese ✓\n",
      "80000 80% (4m 25s) 0.3889 Daher / Arabic ✓\n",
      "85000 85% (4m 41s) 0.7784 Duyava / Czech ✓\n",
      "90000 90% (4m 57s) 0.0420 Hasainov / Russian ✓\n",
      "95000 95% (5m 10s) 0.3183 Yi / Korean ✓\n",
      "100000 100% (5m 24s) 0.4651 Schafer / German ✓\n"
     ]
    }
   ],
   "source": [
    "start = time.time()\n",
    "\n",
    "for iter in range(1, n_iters + 1):\n",
    "    category, line, category_tensor, line_tensor = randomTrainingExample()\n",
    "    if torch.cuda.is_available():\n",
    "        category_tensor = category_tensor.cuda()\n",
    "        line_tensor = line_tensor.cuda()\n",
    "    output, loss = train(category_tensor, line_tensor)\n",
    "    current_loss += loss  # 叠加loss\n",
    "\n",
    "    # 打印 iter number, loss, name and guess\n",
    "    if iter % print_every == 0:\n",
    "        guess, guess_i = categoryFromOutput(output)\n",
    "        correct = '✓' if guess == category else '✗ (%s)' % category\n",
    "        print('%d %d%% (%s) %.4f %s / %s %s' % (iter, iter / n_iters * 100, timeSince(start), loss, line, guess, correct))\n",
    "\n",
    "    # 把当前的平均损失放到losses列表中\n",
    "    if iter % plot_every == 0:\n",
    "        all_losses.append(current_loss / plot_every)\n",
    "        current_loss = 0"
   ]
  },
  {
   "cell_type": "markdown",
   "metadata": {},
   "source": [
    "上述代码比起原版代码，新增了GPU判断。其余功能和原版代码一样。\n",
    "\n",
    "-------------------------\n",
    "\n",
    "### 绘制结果\n",
    "\n",
    "我们将训练过程中的历史结果存在了列表 all_losses 里面，现在我们将其画出："
   ]
  },
  {
   "cell_type": "code",
   "execution_count": 49,
   "metadata": {},
   "outputs": [
    {
     "data": {
      "image/png": "[encoded data removed]",
      "text/plain": [
       "<Figure size 432x288 with 1 Axes>"
      ]
     },
     "metadata": {},
     "output_type": "display_data"
    }
   ],
   "source": [
    "import matplotlib.pyplot as plt\n",
    "import matplotlib.ticker as ticker\n",
    "\n",
    "plt.figure()\n",
    "plt.plot(all_losses)\n",
    "plt.show()"
   ]
  },
  {
   "cell_type": "markdown",
   "metadata": {},
   "source": [
    "### 评估结果\n",
    "\n",
    "我们将使用混淆矩阵（confusion matrix）来展示判断结果，混淆矩阵是一种判断模型效果的好方法。如果不懂混淆矩阵，可以先了解一下，这里不多讲。\n",
    "\n",
    "本节代码解析待补充"
   ]
  },
  {
   "cell_type": "code",
   "execution_count": 50,
   "metadata": {},
   "outputs": [],
   "source": [
    "# Keep track of correct guesses in a confusion matrix\n",
    "confusion = torch.zeros(n_categories, n_categories)\n",
    "n_confusion = 10000"
   ]
  },
  {
   "cell_type": "code",
   "execution_count": 53,
   "metadata": {},
   "outputs": [],
   "source": [
    "# Just return an output given a line\n",
    "def evaluate(line_tensor):\n",
    "    hidden = rnn.initHidden()\n",
    "    if torch.cuda.is_available():\n",
    "        hidden = hidden.cuda()\n",
    "        line_tensor = line_tensor.cuda()\n",
    "\n",
    "    for i in range(line_tensor.size()[0]):\n",
    "        output, hidden = rnn(line_tensor[i], hidden)\n",
    "\n",
    "    return output"
   ]
  },
  {
   "cell_type": "code",
   "execution_count": 54,
   "metadata": {},
   "outputs": [],
   "source": [
    "# Go through a bunch of examples and record which are correctly guessed\n",
    "for i in range(n_confusion):\n",
    "    category, line, category_tensor, line_tensor = randomTrainingExample()\n",
    "    output = evaluate(line_tensor)\n",
    "    guess, guess_i = categoryFromOutput(output)\n",
    "    category_i = all_categories.index(category)\n",
    "    confusion[category_i][guess_i] += 1"
   ]
  },
  {
   "cell_type": "code",
   "execution_count": 55,
   "metadata": {},
   "outputs": [],
   "source": [
    "# Normalize by dividing every row by its sum\n",
    "for i in range(n_categories):\n",
    "    confusion[i] = confusion[i] / confusion[i].sum()"
   ]
  },
  {
   "cell_type": "code",
   "execution_count": 56,
   "metadata": {},
   "outputs": [
    {
     "data": {
      "image/png": "[encoded data removed]",
      "text/plain": [
       "<Figure size 432x288 with 2 Axes>"
      ]
     },
     "metadata": {},
     "output_type": "display_data"
    }
   ],
   "source": [
    "# Set up plot\n",
    "fig = plt.figure()\n",
    "ax = fig.add_subplot(111)\n",
    "cax = ax.matshow(confusion.numpy())\n",
    "fig.colorbar(cax)\n",
    "\n",
    "# Set up axes\n",
    "ax.set_xticklabels([''] + all_categories, rotation=90)\n",
    "ax.set_yticklabels([''] + all_categories)\n",
    "\n",
    "# Force label at every tick\n",
    "ax.xaxis.set_major_locator(ticker.MultipleLocator(1))\n",
    "ax.yaxis.set_major_locator(ticker.MultipleLocator(1))\n",
    "\n",
    "# sphinx_gallery_thumbnail_number = 2\n",
    "plt.show()"
   ]
  },
  {
   "cell_type": "code",
   "execution_count": null,
   "metadata": {},
   "outputs": [],
   "source": []
  },
  {
   "cell_type": "code",
   "execution_count": null,
   "metadata": {},
   "outputs": [],
   "source": []
  },
  {
   "cell_type": "code",
   "execution_count": null,
   "metadata": {},
   "outputs": [],
   "source": []
  }
 ],
 "metadata": {
  "kernelspec": {
   "display_name": "Python 3",
   "language": "python",
   "name": "python3"
  },
  "language_info": {
   "codemirror_mode": {
    "name": "ipython",
    "version": 3
   },
   "file_extension": ".py",
   "mimetype": "text/x-python",
   "name": "python",
   "nbconvert_exporter": "python",
   "pygments_lexer": "ipython3",
   "version": "3.6.5"
  }
 },
 "nbformat": 4,
 "nbformat_minor": 2
}
